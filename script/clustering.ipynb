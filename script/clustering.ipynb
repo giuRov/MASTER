{
 "cells": [
  {
   "cell_type": "code",
   "execution_count": 1,
   "metadata": {},
   "outputs": [],
   "source": [
    "##caricamento dati\n",
    "\n",
    "import json\n",
    "from datetime import datetime, timedelta\n",
    "\n",
    "def aux(d):\n",
    "    return {int(k): v for k,v in d.items()}\n",
    "\n",
    "def loadData(directory='/Users/giuliarovinelli/Desktop/Università/PhD/actv/actvData/data/transformData/'):\n",
    "    date_format=\"%d/%m/%Y %H:%M\"\n",
    "    \n",
    "    with open(directory + \"mare_stop.json\", 'r') as f:\n",
    "        mare_stop = aux(json.load(f))\n",
    "        \n",
    "    with open(directory + \"terra_stop.json\", 'r') as f:\n",
    "        terra_stop = aux(json.load(f))\n",
    "    \n",
    "    with open(directory + \"stop_aggr.json\", 'r') as f:\n",
    "        stop_fun = aux(json.load(f))\n",
    "        \n",
    "    with open(directory + \"stop_all.json\", 'r') as f:\n",
    "        stop = aux(json.load(f))\n",
    "     \n",
    "    with open(directory + \"titoli.json\", 'r') as f:\n",
    "        titoli = aux(json.load(f))\n",
    "    \n",
    "    with open(directory + \"validazioni.json\", 'r') as f:\n",
    "        validazioni = aux(json.load(f))\n",
    "        val={}\n",
    "        for k,v in validazioni.items(): #converte le date\n",
    "            val[k]=[]\n",
    "            for c in v:\n",
    "                l=[(datetime.strptime(d,date_format), f) for d,f in c]\n",
    "                val[k].append(l)\n",
    "        \n",
    "    return (titoli, val, mare_stop, terra_stop,stop_fun,stop)\n",
    "\n",
    "titoli, validazioni, mare_stop, terra_stop,stop_fun,stop=loadData() "
   ]
  },
  {
   "cell_type": "code",
   "execution_count": 2,
   "metadata": {},
   "outputs": [],
   "source": [
    "#mare_stop"
   ]
  },
  {
   "cell_type": "code",
   "execution_count": 3,
   "metadata": {},
   "outputs": [],
   "source": [
    "#corregge fermata errata e definisce funzione di mapping\n",
    "\n",
    "stop[5138] = mare_stop[5138]\n",
    "def f_title(f):\n",
    "    return stop_fun.get(f,-1)"
   ]
  },
  {
   "cell_type": "code",
   "execution_count": 4,
   "metadata": {},
   "outputs": [
    {
     "name": "stdout",
     "output_type": "stream",
     "text": [
      "322732\n",
      "CPU times: user 5.17 ms, sys: 1.79 ms, total: 6.95 ms\n",
      "Wall time: 6.48 ms\n"
     ]
    }
   ],
   "source": [
    "%%time\n",
    "\n",
    "# seleziona utenti con titolo di durata 24 ore\n",
    "\n",
    "t= [k for k,v in titoli.items() if v[1]==1]\n",
    "user = []\n",
    "for tit in t:\n",
    "    user+=validazioni[tit]\n",
    "print(len(user))"
   ]
  },
  {
   "cell_type": "code",
   "execution_count": 5,
   "metadata": {},
   "outputs": [],
   "source": [
    "#elimina fermate uguali consecutive, il parametro date fissa se mantere informazione della data o solo delle fermate\n",
    "\n",
    "def clean_user(user, date = False):\n",
    "    #eliminare fermate uguali consecutive\n",
    "    if date:\n",
    "        temp=[]\n",
    "        for u in user:\n",
    "            if len(u)>0:\n",
    "                t = [u[0]]\n",
    "                for d,f in u[1:]:\n",
    "                    if f!=t[-1][1]:\n",
    "                        t.append((d,f))\n",
    "                t = tuple(t)\n",
    "                temp.append(t)\n",
    "            else:\n",
    "                temp.append(())\n",
    "        return temp\n",
    "    else:\n",
    "        temp=[]\n",
    "        for u in user:\n",
    "            if len(u)>0:\n",
    "                t = [u[0]]\n",
    "                for f in u[1:]:\n",
    "                    if f!=t[-1]:\n",
    "                        t.append(f)\n",
    "                t = tuple(t)\n",
    "                temp.append(t)\n",
    "            else:\n",
    "                temp.append(())\n",
    "        return temp"
   ]
  },
  {
   "cell_type": "code",
   "execution_count": 6,
   "metadata": {},
   "outputs": [
    {
     "data": {
      "text/plain": [
       "104808"
      ]
     },
     "execution_count": 6,
     "metadata": {},
     "output_type": "execute_result"
    }
   ],
   "source": [
    "# selezione utenti con 4 o 5 fermate\n",
    "user = [ tuple([f_title(f) for d,f in u]) for u in user]\n",
    "user = clean_user(user)\n",
    "user = [u for u in user if len(u) in (4,5)]\n",
    "len(user)"
   ]
  },
  {
   "cell_type": "code",
   "execution_count": 7,
   "metadata": {},
   "outputs": [
    {
     "data": {
      "text/plain": [
       "30598"
      ]
     },
     "execution_count": 7,
     "metadata": {},
     "output_type": "execute_result"
    }
   ],
   "source": [
    "# utenti distinti\n",
    "user_reduce = list(set(user))\n",
    "len(user_reduce)"
   ]
  },
  {
   "cell_type": "code",
   "execution_count": 8,
   "metadata": {},
   "outputs": [],
   "source": [
    "# salva vettore user per essere usato da programma c\n",
    "def save_user(user):\n",
    "    max_size = 5\n",
    "    #with open(\"c/parte28/user_vect\", \"w\") as f:\n",
    "    with open(\"c/user_vect\", \"w\") as f:\n",
    "        for u in user:\n",
    "            for j in u:\n",
    "                f.write('%d\\n' % j)\n",
    "            for j in range(len(u), max_size):\n",
    "                f.write(\"-9\\n\")\n",
    "        \n",
    "save_user(user_reduce)"
   ]
  },
  {
   "cell_type": "code",
   "execution_count": 9,
   "metadata": {},
   "outputs": [],
   "source": [
    "from sklearn.cluster import DBSCAN\n",
    "from sklearn.cluster import AgglomerativeClustering\n",
    "import numpy as np\n",
    "from collections import Counter"
   ]
  },
  {
   "cell_type": "code",
   "execution_count": 18,
   "metadata": {},
   "outputs": [],
   "source": [
    "#caricamento matrici calcolate in C e transformate con altro script python\n",
    "\n",
    "#matrix=np.load(\"c/matrici/edit.npy\")\n",
    "#matrix = np.load(\"c/matrici/jaccard_subseq_3.npy\")\n",
    "matrix = np.load(\"c/matrici/lcs_balance.npy\")\n",
    "#matrix=np.load(\"c/matrici/lcs.npy\")\n",
    "#matrix = np.load(\"c/matrici/EDR.npy\")"
   ]
  },
  {
   "cell_type": "code",
   "execution_count": 19,
   "metadata": {},
   "outputs": [
    {
     "data": {
      "text/plain": [
       "array([[ 0, 23, 16, ..., 24, 23, 15],\n",
       "       [23,  0, 16, ..., 24, 23, 16],\n",
       "       [16, 16,  0, ..., 15, 15, 15],\n",
       "       ...,\n",
       "       [24, 24, 15, ...,  0, 24, 15],\n",
       "       [23, 23, 15, ..., 24,  0, 15],\n",
       "       [15, 16, 15, ..., 15, 15,  0]], dtype=uint8)"
      ]
     },
     "execution_count": 19,
     "metadata": {},
     "output_type": "execute_result"
    }
   ],
   "source": [
    "matrix\n",
    "#mat"
   ]
  },
  {
   "cell_type": "code",
   "execution_count": 20,
   "metadata": {},
   "outputs": [
    {
     "name": "stdout",
     "output_type": "stream",
     "text": [
      "CPU times: user 26.7 s, sys: 3.92 s, total: 30.7 s\n",
      "Wall time: 31.4 s\n"
     ]
    }
   ],
   "source": [
    "%%time\n",
    "y = AgglomerativeClustering(affinity='precomputed', n_clusters=1250,\n",
    "                            linkage='complete').fit_predict(matrix)"
   ]
  },
  {
   "cell_type": "code",
   "execution_count": 116,
   "metadata": {},
   "outputs": [
    {
     "name": "stdout",
     "output_type": "stream",
     "text": [
      "30598\n"
     ]
    },
    {
     "data": {
      "text/plain": [
       "<enumerate at 0x7fc6f64173c0>"
      ]
     },
     "execution_count": 116,
     "metadata": {},
     "output_type": "execute_result"
    }
   ],
   "source": [
    "print(len(y))\n",
    "y"
   ]
  },
  {
   "cell_type": "code",
   "execution_count": 21,
   "metadata": {},
   "outputs": [],
   "source": [
    "# ricerca cluster che soddisfino 3 condizioni, numero utenti minimo, numero minimo di tratte percorse da almeno level degli utenti\n",
    "def find_useful_cluster(user, user_reduce, y, level = 0.7, min_user = 200, min_tratte=2):\n",
    "    all_c = set(y)\n",
    "    user_dict = Counter(user)\n",
    "    ris = []\n",
    "    for c in all_c:\n",
    "        user_c = [u for i,u in enumerate(user_reduce) if y[i]==c and y[i]!=-1]\n",
    "        n_user= sum([ user_dict[u] for u in user_c])\n",
    "        retry=False\n",
    "        if n_user>=min_user:\n",
    "            tratte_dict={}\n",
    "            for u in user_c:\n",
    "                for i,f in enumerate(u[:-1]):\n",
    "                    temp = (f,u[i+1])\n",
    "                    tratte_dict[temp] = tratte_dict.get(temp,0) + user_dict[u]\n",
    "            tratte = tuple([k for k,v in tratte_dict.items() if v >= n_user*level])\n",
    "            #rp = find_rappresentante(c, user, user_reduce, y, matrix)\n",
    "            if len(tratte)>=min_tratte:\n",
    "                ris.append((c, n_user, tratte))#, rp))            \n",
    "            #elif len([ 1 for u in user_c if user_dict[u]>=min_user])>0:\n",
    "                #evita che un cluster già esistente scompaia\n",
    "                #ris.append((c, n_user, [ u for u in user_c if user_dict[u]>=min_user][0], rp))\n",
    "    return ris"
   ]
  },
  {
   "cell_type": "code",
   "execution_count": 22,
   "metadata": {},
   "outputs": [
    {
     "name": "stdout",
     "output_type": "stream",
     "text": [
      "CPU times: user 4.84 s, sys: 5.18 ms, total: 4.84 s\n",
      "Wall time: 4.84 s\n"
     ]
    }
   ],
   "source": [
    "%%time\n",
    "ris = find_useful_cluster(user, user_reduce, y, level=0.6)"
   ]
  },
  {
   "cell_type": "code",
   "execution_count": 110,
   "metadata": {
    "scrolled": true
   },
   "outputs": [
    {
     "data": {
      "text/plain": [
       "[(7, 2953, ((5063, 5068), (5068, 5063))),\n",
       " (27, 2916, ((5032, 5063), (5063, 5068))),\n",
       " (51, 310, ((-1, 15060), (15060, 5068))),\n",
       " (67, 309, ((5032, 5063), (5063, 5068))),\n",
       " (141, 235, ((5032, 5038), (5038, -1))),\n",
       " (208, 310, ((15060, 5063), (5063, 5038))),\n",
       " (266, 416, ((15060, 5063), (5063, 5009))),\n",
       " (295, 219, ((5032, 5063), (5063, 15060))),\n",
       " (296, 235, ((5009, 5032), (5032, 5009))),\n",
       " (327, 4264, ((15060, 5063), (5063, 5068))),\n",
       " (328, 320, ((15060, 5097), (5097, 5068), (5068, 5063))),\n",
       " (331, 502, ((5501, 5038), (5038, 5501))),\n",
       " (355, 272, ((5001, 5068), (5068, 5063))),\n",
       " (398, 238, ((5009, 15108), (15108, 5009))),\n",
       " (460, 206, ((5009, 5068), (5032, 5009))),\n",
       " (488, 460, ((15060, 5068), (5068, 5038))),\n",
       " (501, 357, ((15108, 5068), (5068, 5063), (5063, 5068))),\n",
       " (516, 306, ((15060, 5063), (5063, 15060))),\n",
       " (532, 1089, ((5009, 5063), (5063, 5009))),\n",
       " (547, 729, ((5063, 5068), (5068, 5001))),\n",
       " (549, 350, ((5038, 5009), (5009, 5063))),\n",
       " (558, 344, ((5038, 5032), (5032, 5063))),\n",
       " (567, 222, ((5038, 5063), (5063, 5068))),\n",
       " (578, 1189, ((5032, 5009), (5009, 5063))),\n",
       " (590, 2616, ((5501, 5063), (5063, 5068))),\n",
       " (603, 357, ((5501, 5009), (5009, 5501))),\n",
       " (607, 1861, ((5009, 5063), (5063, 5068))),\n",
       " (620, 616, ((-1, 5501), (5501, 5063), (5063, 5068))),\n",
       " (625, 240, ((5009, 5001), (5001, 5068))),\n",
       " (631, 257, ((5009, 5001), (5001, 5009))),\n",
       " (634, 439, ((5032, 5063), (5063, 5032))),\n",
       " (636, 587, ((5009, 5068), (5068, 5063))),\n",
       " (638, 3201, ((5063, 5068), (5068, 15060))),\n",
       " (662, 2011, ((5063, 5068), (5068, 5038))),\n",
       " (664, 1593, ((5063, 5068), (5068, 5009))),\n",
       " (670, 215, ((15108, 5068), (5068, 5063))),\n",
       " (671, 1575, ((5068, 5063), (5063, 5009))),\n",
       " (691, 545, ((5063, 5068), (5068, 5037))),\n",
       " (692, 235, ((5063, 5038), (5038, 5009))),\n",
       " (697, 277, ((5068, 5097), (15060, 5068), (5097, 5063))),\n",
       " (730, 686, ((5063, 5097), (5097, 5068))),\n",
       " (759, 495, ((5032, 5038), (5038, 5032))),\n",
       " (769, 333, ((5063, 5068), (5068, 5063), (5063, 5038))),\n",
       " (776, 359, ((5063, 5068), (5068, -1), (5032, 5063))),\n",
       " (797, 1242, ((5032, 15060), (15060, 5068))),\n",
       " (831, 290, ((5032, 5068), (5068, 5063))),\n",
       " (837, 248, ((5001, 15060), (15060, 5063))),\n",
       " (841, 226, ((15060, 5062), (5062, 5063))),\n",
       " (851, 393, ((5501, 5038), (5038, 5009))),\n",
       " (858, 222, ((15060, 5068), (5068, 5037))),\n",
       " (888, 278, ((5068, 5063), (5063, 15060))),\n",
       " (917, 431, ((5009, 5063), (5063, 5038))),\n",
       " (1073, 2039, ((15060, 5068), (5068, 5063))),\n",
       " (1109, 220, ((5063, 5068), (5068, 5035))),\n",
       " (1126, 222, ((5038, 5032), (5032, 5038))),\n",
       " (1128, 421, ((5032, 5038), (5038, 5009))),\n",
       " (1139, 288, ((-1, 5009), (5009, 5063))),\n",
       " (1147, 239, ((15060, 5068), (5068, 5009))),\n",
       " (1150, 221, ((5063, 5068), (5068, 5032))),\n",
       " (1157, 259, ((5063, 5009), (5032, 5063))),\n",
       " (1158, 291, ((5009, 5068), (5068, 15060))),\n",
       " (1179, 215, ((5063, 5032), (5009, 5063))),\n",
       " (1189, 445, ((5009, 5068), (5068, 5009))),\n",
       " (1192, 655, ((15060, 5068), (5068, 15060))),\n",
       " (1199, 588, ((5063, 5068), (5068, 5097))),\n",
       " (1232, 449, ((15108, 5068), (5068, 5097), (5097, 5063)))]"
      ]
     },
     "execution_count": 110,
     "metadata": {},
     "output_type": "execute_result"
    }
   ],
   "source": [
    "ris"
   ]
  },
  {
   "cell_type": "code",
   "execution_count": 23,
   "metadata": {},
   "outputs": [
    {
     "name": "stdout",
     "output_type": "stream",
     "text": [
      "66\n"
     ]
    },
    {
     "data": {
      "text/plain": [
       "47131"
      ]
     },
     "execution_count": 23,
     "metadata": {},
     "output_type": "execute_result"
    }
   ],
   "source": [
    "print(len(ris))\n",
    "sum([r[1] for r in ris])"
   ]
  },
  {
   "cell_type": "code",
   "execution_count": 17,
   "metadata": {},
   "outputs": [
    {
     "name": "stdout",
     "output_type": "stream",
     "text": [
      "edit.npy\n",
      "['edit.npy', (250, 5, 1905), (500, 16, 9671), (750, 25, 11909), (1000, 28, 14029), (1250, 27, 13748), (1500, 29, 13743), (1750, 32, 13280), (2000, 33, 12798)]\n",
      "jaccard_subseq_3.npy\n",
      "['jaccard_subseq_3.npy', (250, 14, 14739), (500, 15, 14357), (750, 36, 23620), (1000, 42, 23574), (1250, 51, 25291), (1500, 53, 25360), (1750, 54, 25613), (2000, 56, 26417)]\n",
      "lcs_balance.npy\n",
      "['lcs_balance.npy', (250, 12, 16459), (500, 14, 19668), (750, 57, 46583), (1000, 60, 45522), (1250, 66, 47131), (1500, 68, 47579), (1750, 68, 47518), (2000, 67, 47280)]\n",
      "lcs.npy\n",
      "['lcs.npy', (250, 12, 7940), (500, 20, 11633), (750, 25, 13098), (1000, 30, 14462), (1250, 32, 14724), (1500, 33, 14575), (1750, 32, 14164), (2000, 31, 13764)]\n",
      "EDR.npy\n",
      "['EDR.npy', (250, 5, 1905), (500, 16, 9671), (750, 25, 11909), (1000, 28, 14029), (1250, 27, 13748), (1500, 29, 13743), (1750, 32, 13280), (2000, 33, 12798)]\n",
      "[['edit.npy', (250, 5, 1905), (500, 16, 9671), (750, 25, 11909), (1000, 28, 14029), (1250, 27, 13748), (1500, 29, 13743), (1750, 32, 13280), (2000, 33, 12798)], ['jaccard_subseq_3.npy', (250, 14, 14739), (500, 15, 14357), (750, 36, 23620), (1000, 42, 23574), (1250, 51, 25291), (1500, 53, 25360), (1750, 54, 25613), (2000, 56, 26417)], ['lcs_balance.npy', (250, 12, 16459), (500, 14, 19668), (750, 57, 46583), (1000, 60, 45522), (1250, 66, 47131), (1500, 68, 47579), (1750, 68, 47518), (2000, 67, 47280)], ['lcs.npy', (250, 12, 7940), (500, 20, 11633), (750, 25, 13098), (1000, 30, 14462), (1250, 32, 14724), (1500, 33, 14575), (1750, 32, 14164), (2000, 31, 13764)], ['EDR.npy', (250, 5, 1905), (500, 16, 9671), (750, 25, 11909), (1000, 28, 14029), (1250, 27, 13748), (1500, 29, 13743), (1750, 32, 13280), (2000, 33, 12798)]]\n"
     ]
    }
   ],
   "source": [
    "stat=[]\n",
    "prex = 'c/matrici/'\n",
    "matrix_name = ('edit.npy','jaccard_subseq_3.npy', 'lcs_balance.npy', 'lcs.npy', 'EDR.npy' )\n",
    "for m in matrix_name:\n",
    "    mat = np.load(prex + m)\n",
    "    print(m)\n",
    "    temp = [m]\n",
    "    for n in (250,500,750,1000,1250, 1500, 1750, 2000):\n",
    "        y = AgglomerativeClustering(affinity='precomputed', n_clusters=n,linkage='complete').fit_predict(mat)    \n",
    "        ris = find_useful_cluster(user, user_reduce, y, level=0.6)\n",
    "        temp.append((n, len(ris), sum([r[1] for r in ris])))\n",
    "    stat.append(temp)\n",
    "    print(temp)\n",
    "print(stat)"
   ]
  },
  {
   "cell_type": "code",
   "execution_count": 18,
   "metadata": {},
   "outputs": [],
   "source": [
    "import matplotlib.pyplot as plt\n",
    "import numpy as np"
   ]
  },
  {
   "cell_type": "code",
   "execution_count": 19,
   "metadata": {},
   "outputs": [
    {
     "name": "stdout",
     "output_type": "stream",
     "text": [
      "[[0 3 4 ... 4 3 3]\n",
      " [3 0 4 ... 4 3 4]\n",
      " [4 4 0 ... 3 3 3]\n",
      " ...\n",
      " [4 4 3 ... 0 4 3]\n",
      " [3 3 3 ... 4 0 3]\n",
      " [3 4 3 ... 3 3 0]]\n"
     ]
    }
   ],
   "source": [
    "print(np.load('c/matrici/jaccard_subseq_3.npy'))\n",
    "#print(np.load('c/matrici/lcs.npy'))"
   ]
  },
  {
   "cell_type": "code",
   "execution_count": 20,
   "metadata": {},
   "outputs": [
    {
     "data": {
      "text/plain": [
       "<matplotlib.legend.Legend at 0x7fa4cbe4ae20>"
      ]
     },
     "execution_count": 20,
     "metadata": {},
     "output_type": "execute_result"
    },
    {
     "data": {
      "image/png": "[encoded data removed]",
      "text/plain": [
       "<Figure size 432x288 with 1 Axes>"
      ]
     },
     "metadata": {
      "needs_background": "light"
     },
     "output_type": "display_data"
    }
   ],
   "source": [
    "y = (250,500, 750,1000,1250,1500,1750,2000)\n",
    "fig, ax = plt.subplots(tight_layout=True)\n",
    "\n",
    "for s in stat:\n",
    "    t = [x[2] for x in s[1:] ]\n",
    "    \n",
    "    ax.plot(y,t, ms=10)\n",
    "\n",
    "#ax.legend(['Edit', 'Jaccard', 'LCSS bilanciata', 'LCSS', 'EDR'], loc='upper left')\n",
    "ax.legend(['Edit', 'Jaccard', 'LCSS bilanciata', 'LCSS'], loc='upper left')\n",
    "#fig"
   ]
  },
  {
   "cell_type": "code",
   "execution_count": 21,
   "metadata": {},
   "outputs": [
    {
     "data": {
      "text/plain": [
       "<matplotlib.legend.Legend at 0x7fa4ceca6b20>"
      ]
     },
     "execution_count": 21,
     "metadata": {},
     "output_type": "execute_result"
    },
    {
     "data": {
      "image/png": "[encoded data removed]",
      "text/plain": [
       "<Figure size 432x288 with 1 Axes>"
      ]
     },
     "metadata": {
      "needs_background": "light"
     },
     "output_type": "display_data"
    }
   ],
   "source": [
    "# risultati celle precendi per non ricalcolare tutto\n",
    "\n",
    "y = (250,500, 750,1000,1250,1500,1750,2000)\n",
    "jaccard = [9460, 11410, 12479, 12681, 14482, 16102, 16599, 17586]\n",
    "edit = [9668, 16471, 21226, 21998, 23242, 23314, 23652, 23251]\n",
    "\n",
    "lcss = [16529, 19882, 21479, 25425, 27091, 27202, 27115, 27091]\n",
    "lcss_balance = [25665, 32873, 45680, 49589, 51101, 50804, 49392, 48918]\n",
    "\n",
    "fig, ax = plt.subplots(tight_layout=True)\n",
    "\n",
    "ax.plot(y,jaccard, ms=10)\n",
    "ax.plot(y,edit)\n",
    "ax.plot(y,lcss)\n",
    "ax.plot(y,lcss_balance)\n",
    "\n",
    "\n",
    "\n",
    "ax.legend(['Jaccard', 'Edit', 'LCSS', 'LCSS balance'], loc='upper left')\n",
    "#fig"
   ]
  },
  {
   "cell_type": "code",
   "execution_count": 81,
   "metadata": {},
   "outputs": [],
   "source": [
    "# restituisce rappresentante del cluster id_, il rappresentate è una tupla composta dalla fermate\n",
    "# Il rappresentante appartiene agli utenti, ed è l'utente del cluster più vicino agli altri\n",
    "# id_ corrisponde al cluster assegnato dall'algoritmo\n",
    "# user e user_reduce sono le liste degli utenti\n",
    "# y è il vettore risultato dell'algoritmo di cluster\n",
    "# mat è la matrice precomputata di distanza\n",
    "def find_rappresentante(id_, user, user_reduce, y, mat):\n",
    "    user_dict = Counter(user)\n",
    "    #print('user_dict')\n",
    "    user_c = {i:u for i,u in enumerate(user_reduce) if y[i]==id_}\n",
    "    \n",
    "    #print('user_c')\n",
    "    ris = []\n",
    "    for i,u in user_c.items():\n",
    "        acc=0\n",
    "        for j,v in user_c.items():\n",
    "            acc+=mat[i][j]*user_dict[v]\n",
    "        ris.append((acc,u))\n",
    "    ris.sort()\n",
    "    return ris[0][1] if len(ris)>0 else ()"
   ]
  },
  {
   "cell_type": "code",
   "execution_count": 82,
   "metadata": {},
   "outputs": [],
   "source": [
    "#matrix"
   ]
  },
  {
   "cell_type": "code",
   "execution_count": 83,
   "metadata": {},
   "outputs": [],
   "source": [
    "#rappresentante = find_rappresentante(1214, user, user_reduce, y, matrix)"
   ]
  },
  {
   "cell_type": "code",
   "execution_count": 84,
   "metadata": {},
   "outputs": [],
   "source": [
    "def lcs(user, rap, m=0,n=0):\n",
    "    if len(user)==m or len(rap)==n:\n",
    "        return []\n",
    "    elif user[m]==rap[n]:\n",
    "        r = lcs(user, rap, m+1, n+1)\n",
    "        return [(user[m], m,n )] + r\n",
    "    else:\n",
    "        a = lcs(user, rap, m, n+1)\n",
    "        b = lcs(user, rap, m+1, n)\n",
    "        return a if len(a)>len(b) else b\n",
    "        \n",
    "\n",
    "# dato il rappresentante di fin_rappresentante, filtra le fermate usando solo quelle validate da almeno level degli utenti del cluster\n",
    "def get_rappresentante(id_, user, user_reduce, y, mat, level=0.7):\n",
    "    rap = find_rappresentante(id_, user, user_reduce, y, mat)   \n",
    "    #print(rap)\n",
    "    user_dict = Counter(user)\n",
    "    #print(user_dict)\n",
    "    user_c = [u for i,u in enumerate(user_reduce) if y[i]==id_]\n",
    "    dim = sum([user_dict[u] for u in user_c])\n",
    "    \n",
    "    freq= np.zeros(len(rap), dtype='int')\n",
    "    for u in user_c:\n",
    "        temp = lcs(u, rap)\n",
    "        for f,m,n in temp:\n",
    "            freq[n]+=user_dict[u]\n",
    "    ris=[]\n",
    "    for i,f in enumerate(rap):\n",
    "        if freq[i]>dim*level:\n",
    "            ris.append(f)\n",
    "\n",
    "    return tuple(ris)\n",
    "        "
   ]
  },
  {
   "cell_type": "code",
   "execution_count": 85,
   "metadata": {},
   "outputs": [],
   "source": [
    "# restituisce dettagli cluster, restituisce tratte e numero di utenti che le hanno percorse\n",
    "# levelR è il livello per la chiamata a getRappresentante\n",
    "# level è la percentuale di utenti del cluster che devono aver percorso la tratta\n",
    "def get_cluster_detail(id_, user, user_reduce, y, mat, levelR=0.5, level = 0.5):\n",
    "    rappresentante = get_rappresentante(id_, user, user_reduce, y, mat, level=levelR)\n",
    "    print(rappresentante)\n",
    "    user_c = [u for i,u in enumerate(user_reduce) if y[i]==id_ ] \n",
    "    user_dict=Counter(user)\n",
    "    \n",
    "    n_user = sum([v for k,v in user_dict.items() if k in user_c])\n",
    "    print(n_user)\n",
    "    \n",
    "    tratte = {}\n",
    "    for u in user_c:\n",
    "        for i,f in enumerate(u[:-1]):\n",
    "            temp = (f, u[i+1])\n",
    "            tratte[temp] = tratte.get(temp, 0) + user_dict[u]\n",
    "            \n",
    "    print(len([k for k,v in tratte.items() if v>n_user*level]))\n",
    "    return [(k,v) for k,v in tratte.items() if v>n_user*level]"
   ]
  },
  {
   "cell_type": "code",
   "execution_count": 86,
   "metadata": {},
   "outputs": [
    {
     "name": "stdout",
     "output_type": "stream",
     "text": [
      "(5009, 5022)\n",
      "18\n",
      "13\n"
     ]
    }
   ],
   "source": [
    "temp = get_cluster_detail(1214, user, user_reduce, y, matrix, level=0.05)"
   ]
  },
  {
   "cell_type": "code",
   "execution_count": 87,
   "metadata": {
    "scrolled": true
   },
   "outputs": [
    {
     "data": {
      "text/plain": [
       "[((5053, -1), 7),\n",
       " ((-1, 5009), 11),\n",
       " ((5009, 5049), 1),\n",
       " ((5009, 5022), 14),\n",
       " ((5022, 5049), 2),\n",
       " ((5063, 5053), 3),\n",
       " ((5022, 5038), 9),\n",
       " ((5038, 5138), 2),\n",
       " ((5038, 5032), 5),\n",
       " ((5032, 5053), 1),\n",
       " ((5038, 5049), 2),\n",
       " ((5022, 5051), 2),\n",
       " ((5051, -2), 2)]"
      ]
     },
     "execution_count": 87,
     "metadata": {},
     "output_type": "execute_result"
    }
   ],
   "source": [
    "temp"
   ]
  },
  {
   "cell_type": "code",
   "execution_count": 31,
   "metadata": {},
   "outputs": [],
   "source": [
    "import os\n",
    "import gmaps\n",
    "\n",
    "gmaps.configure(api_key='')\n",
    "# settare con chiave di google maps api"
   ]
  },
  {
   "cell_type": "code",
   "execution_count": 32,
   "metadata": {},
   "outputs": [],
   "source": [
    "# disegna cluster sulla mappa di google\n",
    "def draw_cluster(id_, user, user_reduce, y, mat, level=0.5):\n",
    "    fig = gmaps.figure(center=(45.433395, 12.344964), zoom_level=12, map_type='SATELLITE')\n",
    "    rap = find_rappresentante(id_, user, user_reduce, y, mat)\n",
    "    rappresentante = get_rappresentante(id_, user, user_reduce, y, mat, level=level)\n",
    "    #rappresentante = find_rappresentante(id_, user, user_reduce, y, mat)\n",
    "            \n",
    "    user_c = [u for i,u in enumerate(user_reduce) if y[i]==id_ ] \n",
    "    user_dict=Counter(user)   \n",
    "    \n",
    "    n_user = sum([v for k,v in user_dict.items() if k in user_c])\n",
    "    \n",
    "    print(\"Dimensione rappresentanti:\", len(user_c))  \n",
    "    print(\"Dimensione cluster:\", n_user)\n",
    "    print(rappresentante)\n",
    "    print(rap)\n",
    "    for i,f in enumerate(rappresentante):\n",
    "        print(i, '-', stop[f][0])\n",
    "    \n",
    "    \n",
    "    \n",
    "    linee=[]    \n",
    "    invalid_linee=set()\n",
    "    for i,f in enumerate(rappresentante[:-1]): \n",
    "        temp = tuple([tuple([float(z) for z in stop[f][1:]]),\n",
    "                tuple([float(z) for z in stop[rappresentante[i+1]][1:]])])\n",
    "        invalid_linee.add(temp)\n",
    "        linee.append(temp)            \n",
    "            \n",
    "    lines=[]\n",
    "    for (s,e) in linee:\n",
    "        temp=gmaps.Line(\n",
    "                    start=s,\n",
    "                    end=e,\n",
    "                    stroke_weight=2,\n",
    "                    stroke_color='blue')\n",
    "        lines.append(temp)    \n",
    "        \n",
    "    linee={}\n",
    "    for u in user_c:\n",
    "        for i,f in enumerate(u[:-1]):\n",
    "            temp = tuple([tuple([float(z) for z in stop[f][1:]]),\n",
    "                tuple([float(z) for z in stop[u[i+1]][1:]])])\n",
    "            if temp not in invalid_linee and temp[::-1] not in invalid_linee:\n",
    "                linee[temp] = linee.get(temp, 0) + user_dict[u] \n",
    "    \n",
    "    for (s,e), v in linee.items():\n",
    "        if v > n_user * 0.05:\n",
    "            temp=gmaps.Line(\n",
    "                        start=s,\n",
    "                        end=e,\n",
    "                        stroke_weight=1, # * v/n_user,\n",
    "                        stroke_color='yellow')\n",
    "            lines.append(temp)    \n",
    "        \n",
    "    drawing = gmaps.drawing_layer(features=lines)   \n",
    "    \n",
    "    \n",
    "    #mappa di calore\n",
    "    stop_c ={}\n",
    "    for u in user_c:\n",
    "        for f in u:\n",
    "            stop_c[f]=stop_c.get(f,0)+ user_dict[u]           \n",
    "    \n",
    "    coord = [tuple([float(z) for z in stop[f][1:]]) for f in stop_c]\n",
    "    weights = stop_c.values()\n",
    "    \n",
    "    heatmap_layer = gmaps.heatmap_layer(\n",
    "        coord, weights = weights,\n",
    "        max_intensity=n_user*level, point_radius=10.0)    \n",
    "    \n",
    "    fig.add_layer(heatmap_layer)    \n",
    "    fig.add_layer(drawing)\n",
    "    return fig"
   ]
  },
  {
   "cell_type": "code",
   "execution_count": 2,
   "metadata": {
    "scrolled": true
   },
   "outputs": [],
   "source": [
    "#draw_cluster(1297, user, user_reduce, y, matrix, level=0.6)"
   ]
  },
  {
   "cell_type": "code",
   "execution_count": 89,
   "metadata": {},
   "outputs": [],
   "source": [
    "# verifica se cluster diversi hanno lo stesso rappresentante\n",
    "def aggregate_cluster(user, user_reduce, y, matrix, level=0.6):\n",
    "    all_c = set(y)\n",
    "    user_dict = Counter(user)\n",
    "    ris = {}\n",
    "    for c in all_c:\n",
    "        user_c = [u for i,u in enumerate(user_reduce) if y[i]==c and y[i]!=-1]\n",
    "        n_user= sum([ user_dict[u] for u in user_c])\n",
    "        rap = get_rappresentante(c, user, user_reduce, y, matrix, level=level)\n",
    "        clusted_id, cluster_user = ris.get(rap,([],0))\n",
    "        ris[rap]=(clusted_id+[c],cluster_user+n_user)\n",
    "    return ris\n",
    "        "
   ]
  },
  {
   "cell_type": "code",
   "execution_count": 90,
   "metadata": {},
   "outputs": [
    {
     "data": {
      "text/plain": [
       "array([ 636,  687,  543, ...,  579, 1157,  407])"
      ]
     },
     "execution_count": 90,
     "metadata": {},
     "output_type": "execute_result"
    }
   ],
   "source": [
    "y"
   ]
  },
  {
   "cell_type": "code",
   "execution_count": 111,
   "metadata": {
    "scrolled": true
   },
   "outputs": [
    {
     "data": {
      "text/plain": [
       "{(5063, 5068): ([0], 502),\n",
       " (5063, 5009): ([1, 21], 101),\n",
       " (5001, 15108, 5068): ([2], 115),\n",
       " (5019, 5063): ([3], 69),\n",
       " (5116, 5063): ([4], 30),\n",
       " (5501, 5063): ([5, 149], 117),\n",
       " (15060, 5063, 5101): ([6], 31),\n",
       " (5063, 5068, 5063): ([7], 2953),\n",
       " (5063, 5004): ([8], 59),\n",
       " (5049, 5009): ([9], 99),\n",
       " (5037, 5053): ([10], 53),\n",
       " (5084, 5063): ([11, 351], 80),\n",
       " (5001, 5009, 5501): ([12], 77),\n",
       " (): ([13, 186, 499, 526], 82),\n",
       " (-1, 5501): ([14], 1036),\n",
       " (5501, 5053, 5501): ([15], 50),\n",
       " (5501, -1, 5138): ([16], 14),\n",
       " (5004, 5009, 5004): ([17, 23], 120),\n",
       " (5038, -1): ([18, 249], 247),\n",
       " (5501, 5032): ([19], 63),\n",
       " (5001, 5053): ([20], 48),\n",
       " (5004, 5001): ([22, 1009], 52),\n",
       " (-1, 5032): ([24, 164], 89),\n",
       " (15060, 5068, -1): ([25], 101),\n",
       " (5038, 5052): ([26], 86),\n",
       " (5032, 5063, 5068): ([27, 67], 3225),\n",
       " (5501, 5006): ([28], 19),\n",
       " (-1, 5063, 5062): ([29], 22),\n",
       " (5052, 5038): ([30], 56),\n",
       " (5053, 5008): ([31], 107),\n",
       " (-1, 5053): ([32, 275], 142),\n",
       " (5053, 5036): ([33], 60),\n",
       " (5501, 5068): ([34, 1065], 149),\n",
       " (5001, 5004): ([35], 102),\n",
       " (5072, 5001): ([36, 264, 307], 120),\n",
       " (-1, 5063): ([37], 56),\n",
       " (5006, 5001): ([38, 510], 47),\n",
       " (5501, 5001): ([39, 493], 99),\n",
       " (5032, 5053, 5001): ([40], 77),\n",
       " (5009, 5001): ([41, 722], 321),\n",
       " (5058, 5063, 5068): ([42], 41),\n",
       " (-1, 15060, 5032): ([43], 16),\n",
       " (5035, 5501): ([44], 71),\n",
       " (5008, 5063): ([45], 173),\n",
       " (-1, 5043): ([46], 40),\n",
       " (-1, 5063, 5009): ([47], 86),\n",
       " (5009, 5063, 5008): ([48], 49),\n",
       " (5032, 5001): ([49], 450),\n",
       " (5001, 5501): ([50], 74),\n",
       " (-1, 15060, 5068): ([51], 310),\n",
       " (5009, 5063): ([52, 119, 470], 131),\n",
       " (5052, 5032): ([53], 63),\n",
       " (5063, 5068, 5063, 5501): ([54], 104),\n",
       " (5501, -1, 5063): ([55], 56),\n",
       " (5009, 5053): ([56, 1196], 22),\n",
       " (5063, 5101, 5063): ([57], 32),\n",
       " (5032, 5008): ([58], 82),\n",
       " (5038, 5063): ([59], 83),\n",
       " (5038, 5037): ([60], 70),\n",
       " (5053, -2): ([61], 86),\n",
       " (15060, 5097): ([62], 108),\n",
       " (5038, 5053): ([63], 93),\n",
       " (5009, 5038): ([64, 162], 473),\n",
       " (15060, 5063, -1): ([65], 121),\n",
       " (5001, 5063): ([66], 56),\n",
       " (15060,): ([68, 416], 42),\n",
       " (5036, 5501): ([69], 15),\n",
       " (5053,): ([70], 47),\n",
       " (5043, 5008): ([71], 38),\n",
       " (5084, 5035): ([72], 19),\n",
       " (15060, 5032, 5009): ([73], 39),\n",
       " (5009, 5081): ([74], 116),\n",
       " (5001, 5038): ([75], 36),\n",
       " (5024, 5038): ([76], 68),\n",
       " (5036, 5037): ([77], 27),\n",
       " (5063, 5038, 5501): ([78], 103),\n",
       " (5001, 5052): ([79], 44),\n",
       " (5081, 5021): ([80], 37),\n",
       " (5001, 5032): ([81], 88),\n",
       " (5501, 5051): ([82], 80),\n",
       " (5032, 5068, 5032): ([83], 104),\n",
       " (5032, 5036, 5032): ([84], 49),\n",
       " (-1, 5009): ([85, 184, 386, 726, 1140], 306),\n",
       " (5032, 5053): ([86, 724], 99),\n",
       " (5001, 5008): ([87], 45),\n",
       " (5049, 5022): ([88, 1022], 56),\n",
       " (5501, 5008): ([89], 55),\n",
       " (5053, 5001, -2): ([90], 29),\n",
       " (5501, 5046): ([91], 24),\n",
       " (-1, 5052): ([92, 231], 95),\n",
       " (5032, 5009, 5052): ([93], 94),\n",
       " (5501, 5035): ([94], 25),\n",
       " (5062, 5063): ([95], 96),\n",
       " (15060, 5063): ([96], 1088),\n",
       " (5138, 5035): ([97], 24),\n",
       " (5009, 5043): ([98], 79),\n",
       " (5008, 5001): ([99, 911], 143),\n",
       " (5068, 5063): ([100], 76),\n",
       " (5032, 5001, 5068): ([101], 112),\n",
       " (-1,): ([102, 273, 361, 522, 548, 659, 1021], 246),\n",
       " (5035, 5009, 5038): ([103], 52),\n",
       " (5035, 5053): ([104, 502], 64),\n",
       " (-1, 5035): ([105, 258, 948], 171),\n",
       " (5501, 5038): ([106, 165], 269),\n",
       " (5501, 5024): ([107, 117], 90),\n",
       " (-5, 5001): ([108, 763], 81),\n",
       " (5009, 5032): ([109], 96),\n",
       " (5037, 5038): ([110], 40),\n",
       " (5032, 5049, 5009): ([111], 90),\n",
       " (5032, 5045, 5001): ([112], 23),\n",
       " (5038, 5036): ([113], 48),\n",
       " (5006, 5038): ([114], 87),\n",
       " (5009,): ([115, 921], 68),\n",
       " (5063, 5053, 5032): ([116], 37),\n",
       " (5049, 5023, 5009): ([118], 14),\n",
       " (5024, 5038, 5049): ([120], 43),\n",
       " (15108, 5068): ([121], 47),\n",
       " (-1, 5006): ([122, 663], 68),\n",
       " (5032,): ([123, 340, 647], 55),\n",
       " (5021, 5081): ([124], 72),\n",
       " (-1, 5036): ([125], 16),\n",
       " (5049, 5008): ([126], 15),\n",
       " (5021, 5009): ([127, 396], 545),\n",
       " (5501, 5053, 5052): ([128], 68),\n",
       " (5063, 5081): ([129], 79),\n",
       " (5024, 5049, 5038): ([130], 36),\n",
       " (5035, 5008): ([131], 20),\n",
       " (5032, 5046, 5038): ([132], 37),\n",
       " (5084, 5032): ([133], 15),\n",
       " (5006, 5008): ([134], 26),\n",
       " (5001, 5068): ([135], 47),\n",
       " (5009, 5006): ([136, 747, 1216], 74),\n",
       " (5036, 5038): ([137, 236], 115),\n",
       " (-1, -2): ([138], 59),\n",
       " (5038, 5043, 5009): ([139], 67),\n",
       " (5052, 5009, 5001): ([140], 94),\n",
       " (5032, 5038, -1): ([141], 235),\n",
       " (5032, 5038, -2): ([142], 79),\n",
       " (5038, 5501): ([143], 55),\n",
       " (5051, 5009): ([144], 25),\n",
       " (5052, 5009): ([145, 276], 168),\n",
       " (5083,): ([146, 330], 23),\n",
       " (5004, 5001, 5004): ([147], 32),\n",
       " (-3, 5032, 5063): ([148], 40),\n",
       " (5009, -1): ([150, 310], 245),\n",
       " (5021, 5053): ([151], 19),\n",
       " (5001, -2): ([152], 67),\n",
       " (5032, 5021): ([153], 89),\n",
       " (-1, 5038): ([154], 196),\n",
       " (5009, 5022): ([155, 378, 467, 1214], 168),\n",
       " (5052, 5001): ([156], 54),\n",
       " (5043, 5006): ([157], 19),\n",
       " (5024, 5501, 5038): ([158], 45),\n",
       " (5006,): ([159, 229, 820], 60),\n",
       " (5138, 5032): ([160, 572], 81),\n",
       " (5046, 5009): ([161], 44),\n",
       " (5035, 5038): ([163], 97),\n",
       " (5084, 5038): ([166], 23),\n",
       " (5032, 5051): ([167], 83),\n",
       " (5038, 5053, 5038): ([168], 80),\n",
       " (5032, 5081): ([169], 24),\n",
       " (5049, 5001): ([170], 55),\n",
       " (-1, 5081, 5009): ([171], 20),\n",
       " (5008, 5038): ([172], 98),\n",
       " (5001,): ([173, 632, 760, 1193], 68),\n",
       " (5036, 5053, 5038): ([174], 24),\n",
       " (5063, 5037): ([175], 46),\n",
       " (5043, 5038): ([176], 90),\n",
       " (5053, 5049): ([177], 22),\n",
       " (5501, 5081): ([178], 40),\n",
       " (5001, 5049): ([179], 48),\n",
       " (5024, 5009): ([180], 212),\n",
       " (5083, 5009): ([181], 42),\n",
       " (5009, 5042): ([182], 51),\n",
       " (5009, 5035, 5063, 5068): ([183], 16),\n",
       " (5001, 5037): ([185], 24),\n",
       " (5068, 15060): ([187, 212, 254], 118),\n",
       " (5081, 5009, 5081): ([188], 139),\n",
       " (5009, -2): ([189], 133),\n",
       " (5038, 5008): ([190], 60),\n",
       " (5009, 5037): ([191, 498], 69),\n",
       " (5045, 5052): ([192], 31),\n",
       " (5052, 5053): ([193], 29),\n",
       " (5038, 5035): ([194, 225], 195),\n",
       " (5036, -1): ([195], 21),\n",
       " (-1, 5006, 5001): ([196], 17),\n",
       " (5024, 5081, 5021): ([197], 57),\n",
       " (5035, 5138): ([198], 37),\n",
       " (5043, 5009): ([199], 299),\n",
       " (5138, -1): ([200], 41),\n",
       " (5009, 5045): ([201], 30),\n",
       " (15108, 5001, 5038): ([202], 55),\n",
       " (5032, 5053, -1): ([203], 141),\n",
       " (5042, 5043): ([204], 30),\n",
       " (5084,): ([205, 926], 44),\n",
       " (5049, 5081): ([206, 234], 40),\n",
       " (5045, 5038): ([207], 54),\n",
       " (15060, 5063, 5038): ([208], 310),\n",
       " (5008, 5022): ([209], 7),\n",
       " (5038, 5049): ([210], 57),\n",
       " (5037, 5009): ([211], 59),\n",
       " (5138, 5501): ([213], 26),\n",
       " (5032, 5037): ([214], 26),\n",
       " (5032, 5138, 5038): ([215], 53),\n",
       " (15108, 5138, 5501, 5009): ([216], 56),\n",
       " (5032, 5041): ([217], 41),\n",
       " (5045, 5032): ([218], 11),\n",
       " (-3, 5009, 5068, -2): ([219], 3),\n",
       " (5049, 5004): ([220], 12),\n",
       " (5035,): ([221, 392, 708], 81),\n",
       " (5035, 5036): ([222], 31),\n",
       " (-1, 5037, 5032): ([223], 12),\n",
       " (5032, 5042): ([224, 1149, 1204], 79),\n",
       " (5059, 5063): ([226], 43),\n",
       " (5053, 5032, 5501): ([227], 23),\n",
       " (5501, 5035, 5009): ([228], 36),\n",
       " (15060, 5063, 5053): ([230], 55),\n",
       " (15108, 5063, 15108): ([232], 16),\n",
       " (5032, 5043, -1): ([233], 56),\n",
       " (5021, 5008): ([235], 60),\n",
       " (15108, 5068, 5009): ([237], 95),\n",
       " (5501, -2, 5032): ([238], 17),\n",
       " (5053, 5043): ([239], 46),\n",
       " (5009, 15060, 5068): ([240], 112),\n",
       " (15060, 5062): ([241], 117),\n",
       " (15108, 5009, 5009): ([242], 70),\n",
       " (5032, 5004): ([243], 35),\n",
       " (5035, 5009): ([244], 33),\n",
       " (5138, 5038, 5009): ([245], 59),\n",
       " (-1, 5501, 5001): ([246], 64),\n",
       " (5024, 5501): ([247], 40),\n",
       " (5501, 5020, 5063): ([248], 57),\n",
       " (5006, 5021): ([250], 12),\n",
       " (5038, 5001, 5004): ([251], 18),\n",
       " (5008, 5053): ([252], 21),\n",
       " (5063, 5068, 5046, -1): ([253], 18),\n",
       " (15108, 5068, 5032, 5009): ([255], 19),\n",
       " (15108, 5038, 5009): ([256, 341], 189),\n",
       " (-1, 5058): ([257], 35),\n",
       " (5032, 5059, 15060): ([259], 15),\n",
       " (5038, 5009, 5022): ([260], 10),\n",
       " (5049, 5021): ([261], 303),\n",
       " (5006, 15060): ([262], 51),\n",
       " (-1, 5501, -1): ([263], 168),\n",
       " (15108, 5053, 5009): ([265], 97),\n",
       " (15060, 5063, 5009): ([266], 416),\n",
       " (5068, 5043): ([267], 60),\n",
       " (5038, 5009, 5032): ([268], 59),\n",
       " (5038, 5032): ([269, 756], 142),\n",
       " (5051, 5043): ([270], 13),\n",
       " (5032, 5049): ([271, 771], 37),\n",
       " (5004, 5038): ([272], 56),\n",
       " (5006, 5036, 5009): ([274], 19),\n",
       " (5001, 5038, 5009): ([277], 60),\n",
       " (5063, 15060): ([278, 423], 64),\n",
       " (5501, 5038, 5063): ([279], 110),\n",
       " (5501, 5038, 5043): ([280], 27),\n",
       " (5062,): ([281], 28),\n",
       " (5501, 5009): ([282, 314, 462, 591], 2532),\n",
       " (-1, 5068, 5063): ([283], 51),\n",
       " (5009, 5051, 5049): ([284], 17),\n",
       " (5024, 5022, 5021): ([285], 28),\n",
       " (5032, 5038, 5053): ([286], 45),\n",
       " (5009, 5062, 15060): ([287], 16),\n",
       " (5063, 5138): ([288], 64),\n",
       " (5032, -1): ([289], 446),\n",
       " (5138, 5038): ([290], 72),\n",
       " (5063, 5038, 5032): ([291], 58),\n",
       " (5032, 5022): ([292, 483], 58),\n",
       " (15060, 5068): ([293], 67),\n",
       " (5032, 5043): ([294], 16),\n",
       " (5032, 5063, 15060): ([295], 219),\n",
       " (5032, 5009, 5032): ([296], 235),\n",
       " (5032, 5081, 5009): ([297], 49),\n",
       " (5009, 5083): ([298], 37),\n",
       " (5037,): ([299, 527], 37),\n",
       " (5032, 5036): ([300], 25),\n",
       " (5021, 15060): ([301], 65),\n",
       " (5501, 5022, 5009): ([302], 32),\n",
       " (5038, 5037, 5138, 5037): ([303], 11),\n",
       " (5501, 5063, 5038): ([304], 160),\n",
       " (5009, 5138): ([305], 63),\n",
       " (5063, 5001): ([306, 1226], 63),\n",
       " (5043, -1): ([308, 924], 78),\n",
       " (5009, 5501, 15060): ([309], 31),\n",
       " (5063, 5068, 5501): ([311], 35),\n",
       " (15060, 5063, 5006): ([312], 41),\n",
       " (-1, 5053, 5138): ([313], 15),\n",
       " (5063, 5062, 5038): ([315], 41),\n",
       " (5001, 5009): ([316, 412], 62),\n",
       " (5001, 5043): ([317], 35),\n",
       " (5053, 5006): ([318, 554], 49),\n",
       " (5053, 5038): ([319], 41),\n",
       " (5041, 5052): ([320], 12),\n",
       " (5024, 5004, 5053): ([321], 4),\n",
       " (5021, -1): ([322], 25),\n",
       " (5049, 5022, -1): ([323], 30),\n",
       " (5045, 5001): ([324], 30),\n",
       " (5009, 5068, 5097, 5063): ([325], 140),\n",
       " (5001, 15108, 5009): ([326], 42),\n",
       " (15060, 5063, 5068): ([327], 4264),\n",
       " (15060, 5097, 5068, 5063): ([328], 320),\n",
       " (5032, 5006, 5009): ([329], 82),\n",
       " (5501, 5038, 5501): ([331], 502),\n",
       " (5097, 5068): ([332], 38),\n",
       " (5009, 15060): ([333], 42),\n",
       " (5038, 5032, 5001): ([334], 35),\n",
       " (5053, 5032, 5038): ([335], 39),\n",
       " (-1, 5032, -2): ([336, 1096], 48),\n",
       " (5063, 5037, 5001): ([337], 13),\n",
       " (5043, 5032): ([338], 45),\n",
       " (5138, 5009): ([339], 100),\n",
       " (5022,): ([342, 863], 37),\n",
       " (5043, 5004, 5053, 5051, 5036): ([343], 10),\n",
       " (5034, 15060): ([344], 38),\n",
       " (-1, 5046): ([345], 38),\n",
       " (5009, 5049): ([346, 681], 52),\n",
       " (5001, 5042): ([347], 16),\n",
       " (5032, 5501, 5063): ([348, 981], 35),\n",
       " (5032, 5051, -2): ([349], 19),\n",
       " (5501, 5036): ([350], 37),\n",
       " (5083, 5063, 5068): ([352], 20),\n",
       " (5084, 5501, 5038): ([353], 13),\n",
       " (5501, 5021): ([354], 133),\n",
       " (5001, 5068, 5063): ([355], 272),\n",
       " (5001, 5038, -5): ([356], 19),\n",
       " (15108, 5001, 5068): ([357], 10),\n",
       " (5032, 5038, 5001): ([358], 124),\n",
       " (5501, 5053, 5032): ([359], 10),\n",
       " (5042, 5038): ([360], 30),\n",
       " (5009, 5021): ([362], 2444),\n",
       " (5501, 5052): ([363], 123),\n",
       " (-5, -1, 5001): ([364], 10),\n",
       " (5045, 5009): ([365], 137),\n",
       " (5008, 5049): ([366], 7),\n",
       " (5501, 5063, 5009): ([367], 160),\n",
       " (15060, 5038): ([368], 45),\n",
       " (5009, 5038, 5034, 5009): ([369], 10),\n",
       " (5032, 5045, 5138): ([370], 9),\n",
       " (5008, 5063, 5008): ([371], 15),\n",
       " (5501, 5021, 5052, 5038): ([372], 31),\n",
       " (5034,): ([373], 15),\n",
       " (5135, 5063): ([374], 36),\n",
       " (5084, 5038, 5084): ([375], 13),\n",
       " (5037, 5042): ([376], 32),\n",
       " (5043, 5001): ([377, 974], 38),\n",
       " (5032, 5043, 5032): ([379], 15),\n",
       " (5032, 5053, 5032): ([380], 111),\n",
       " (5004, -1, 15060): ([381], 11),\n",
       " (5063, 5049): ([382], 25),\n",
       " (-5, 5001, -2): ([383], 9),\n",
       " (5032, 5063, 5101, 15060): ([384], 30),\n",
       " (5008, 5009): ([385, 909, 922], 120),\n",
       " (5043, 5042): ([387], 41),\n",
       " (-1, 5501, -1, -2): ([388], 150),\n",
       " (-1, 5001): ([389, 451], 634),\n",
       " (5042, 5009): ([390], 35),\n",
       " (15108, 5034, 5009): ([391], 44),\n",
       " (5038, 5053, 5001): ([393], 59),\n",
       " (5032, 5006, 5032): ([394], 57),\n",
       " (5063, 5035): ([395], 46),\n",
       " (-1, 5022): ([397], 31),\n",
       " (15108, 5009, 15108): ([398], 238),\n",
       " (5032, 5053, 5052): ([399], 46),\n",
       " (5053, 5034): ([400], 20),\n",
       " (-4, 5501, 5038, -2): ([401], 14),\n",
       " (5068, 5043, 5038): ([402], 33),\n",
       " (5032, 5062, 5063): ([403], 70),\n",
       " (5038, 5009): ([404], 30),\n",
       " (-1, 5051): ([405], 39),\n",
       " (5049, 5023, 5063): ([406], 9),\n",
       " (5009, 5004, 5063): ([407], 24),\n",
       " (5024, 5032): ([408], 67),\n",
       " (5084, 5049, 5009): ([409], 12),\n",
       " (-1, 5049): ([410], 44),\n",
       " (15108, 5138, 5009): ([411], 49),\n",
       " (5041, 5009): ([413], 52),\n",
       " (5009, 5068, 5063, 5032): ([414], 139),\n",
       " (5037, 5036): ([415], 28),\n",
       " (5032, 5001, 5051): ([417], 35),\n",
       " (5501, 5043): ([418], 47),\n",
       " (15060, 5063, -2): ([419], 67),\n",
       " (5083, -1): ([420], 6),\n",
       " (15060, 5068, -2): ([421], 69),\n",
       " (5083, 5021): ([422], 26),\n",
       " (15060, 5068, 5041): ([424], 16),\n",
       " (15060, -2): ([425], 9),\n",
       " (5032, 5008, 5081): ([426], 10),\n",
       " (5052, 5501): ([427], 19),\n",
       " (5038, 5036, 5036): ([428], 6),\n",
       " (5038, 5021): ([429], 16),\n",
       " (5043,): ([430], 29),\n",
       " (5052,): ([431, 822], 40),\n",
       " (5042, 5138): ([432], 4),\n",
       " (15060, 5058): ([433], 9),\n",
       " (5501, 5023, 5501, 5022): ([434], 17),\n",
       " (5043, 5501): ([435], 8),\n",
       " (5068, 5035): ([436], 40),\n",
       " (5038, 5083): ([437], 11),\n",
       " (5045, 5043): ([438], 15),\n",
       " (5053, 5138, 5501): ([439], 18),\n",
       " (5009, 5081, 5009, 5063): ([440], 27),\n",
       " (5038, 5001, 5045): ([441], 5),\n",
       " (5008, 5036): ([442], 11),\n",
       " (5004, 5062, 5037): ([443], 5),\n",
       " (5501, 5063, 5501): ([444], 150),\n",
       " (5021, 5043): ([445], 12),\n",
       " (5063, 5084, 5501): ([446], 17),\n",
       " (5038,): ([447], 15),\n",
       " (5042, -1): ([448], 8),\n",
       " (5009, 5063, 5035): ([449, 1025], 78),\n",
       " (-5, 5001, 5009): ([450], 113),\n",
       " (5038, 5001, 5009): ([452], 76),\n",
       " (5038, 5501, 5008): ([453], 18),\n",
       " (5501, 5081, 5021, 5038): ([454], 13),\n",
       " (5009, 5008, 5009): ([455], 20),\n",
       " (5038, 5001, 5006): ([456], 14),\n",
       " (5501, 5042): ([457], 33),\n",
       " (5043, 5052): ([458, 823], 36),\n",
       " (15060, 5068, 5053): ([459], 117),\n",
       " (5032, 5009, 5068): ([460], 206),\n",
       " (5053, 5042, 5053): ([461], 16),\n",
       " (5021, 5038): ([463], 28),\n",
       " (5032, 5046): ([464], 30),\n",
       " (5053, 5501): ([465, 736], 125),\n",
       " (15108, 5009, 5035, 5009): ([466], 36),\n",
       " (5009, 5083, 5001): ([468], 7),\n",
       " (5032, 5036, 5138, 5009): ([469], 11),\n",
       " (5009, 5063, 5501): ([471], 124),\n",
       " (5081,): ([472], 15),\n",
       " (15108, 5038, 15060, 5001): ([473], 7),\n",
       " (5032, 5009, 5041): ([474], 10),\n",
       " (5063, 5038, -1): ([475], 87),\n",
       " (5501, 15060, 5063): ([476], 50),\n",
       " (5501, 5063, -2): ([477], 67),\n",
       " (-2, -1, -2): ([478], 28),\n",
       " (5038, 15085): ([479], 16),\n",
       " (-1, 5036, 5038): ([480], 18),\n",
       " (-1, 15085): ([481], 10),\n",
       " (15108, 5036, 5032, 5009): ([482], 17),\n",
       " (15108, 5068, 5138, 5009): ([484], 33),\n",
       " (5084, 5001, 5049): ([485], 4),\n",
       " (5037, 5059, 5063): ([486], 5),\n",
       " (5032, 5004, -1, 5051): ([487], 9),\n",
       " (15060, 5068, 5038): ([488], 460),\n",
       " (5001, 5053, 5001): ([489], 47),\n",
       " (-1, 5052, 5053): ([490], 18),\n",
       " (5009, -5, 5001): ([491], 92),\n",
       " (5032, 5051, -1): ([492], 8),\n",
       " (5038, 5049, 5001): ([494], 13),\n",
       " (5038, 5008, -2): ([495], 4),\n",
       " (5501, 15060, 5068): ([496], 81),\n",
       " (5501, 5083, 5038): ([497], 11),\n",
       " (15085, 5038, 5009): ([500], 5),\n",
       " (15108, 5068, 5063, 5068): ([501], 357),\n",
       " (5501, 5043, 5037): ([503], 8),\n",
       " (5138, 5053): ([504], 23),\n",
       " (5501, 5032, -2): ([505], 16),\n",
       " (5043, 5009, 5049): ([506], 9),\n",
       " (5006, 15060, 5058, 5008, 5038): ([507], 6),\n",
       " (-1, 5035, 5034): ([508], 7),\n",
       " (-1, 5045, 5501): ([509], 7),\n",
       " (15085, -1): ([511], 6),\n",
       " (5024, 5138, 5004): ([512], 8),\n",
       " (5037, 5038, 5037): ([513], 8),\n",
       " (5038, 5052, 5038): ([514], 24),\n",
       " (5101, 15060, 5068, 5006, 5038): ([515], 3),\n",
       " (15060, 5063, 15060): ([516], 306),\n",
       " (5009, 5068): ([517], 33),\n",
       " (5043, 5042, 5043): ([518], 15),\n",
       " (5024, 5021, 5006): ([519], 13),\n",
       " (5035, -1, 5084, 5138): ([520], 6),\n",
       " (5034, 5009, 5032): ([521], 5),\n",
       " (5036, 5009, 5038): ([523], 20),\n",
       " (-1, 5034): ([524], 10),\n",
       " (5053, 5032, 5068, 5138): ([525], 5),\n",
       " (5038, 5063, 5038): ([528], 21),\n",
       " (5009, 5006, 5001): ([529], 63),\n",
       " (15108, 5051, 5501, 5009): ([530], 27),\n",
       " (-1, 5009, 5063, -2): ([531], 62),\n",
       " (5009, 5063, 5009): ([532], 1089),\n",
       " (5501, 5063, 15060): ([533], 64),\n",
       " (5501, 5038, 5068): ([534], 14),\n",
       " (5038, 5501, 5038): ([535], 110),\n",
       " (5501, 5038, -2): ([536], 37),\n",
       " (5009, 5052): ([537, 864], 59),\n",
       " (5001, 5037, 5032): ([538], 8),\n",
       " (5053, 5009): ([539], 177),\n",
       " (5038, -1, 5038): ([540], 148),\n",
       " (5068, -1, 5038): ([541], 101),\n",
       " (5037, -1, 5053): ([542], 13),\n",
       " (5001, -1): ([543], 336),\n",
       " (5501, 5053, 5501, 5009): ([544], 58),\n",
       " (5032, 5045, 5053): ([545], 10),\n",
       " (-1, 5081, 5021): ([546], 14),\n",
       " (5063, 5068, 5001): ([547], 729),\n",
       " (5038, 5009, 5063): ([549], 350),\n",
       " (5009, -1, 5053): ([550], 13),\n",
       " (-1, 5001, -2, -1): ([551], 75),\n",
       " (5038, 5036, 5038): ([552], 56),\n",
       " (5084, 5083): ([553], 4),\n",
       " (5009, 5052, 5043): ([555], 8),\n",
       " (5032, 5038, 5043): ([556], 12),\n",
       " (5032, 5063, 5038): ([557], 122),\n",
       " (5038, 5032, 5063): ([558], 344),\n",
       " (5024, 5138): ([559], 16),\n",
       " (5068, 5097): ([560], 49),\n",
       " (5053, 5035): ([561], 50),\n",
       " (5049, 5006): ([562], 10),\n",
       " (5035, 5032, 5038): ([563], 54),\n",
       " (5032, 5038): ([564], 48),\n",
       " (5024, 5009, 5038): ([565], 28),\n",
       " (5032, 5032): ([566], 11),\n",
       " (5038, 5063, 5068): ([567], 222),\n",
       " (-3, 5501, 5009, -2): ([568], 38),\n",
       " (5063, 5043): ([569], 64),\n",
       " (5049, 5501, 5063): ([570], 40),\n",
       " (-1, -2, -1): ([571], 64),\n",
       " (5038, 15060, 5068): ([573], 103),\n",
       " (5032, 5052, 5038): ([574], 44),\n",
       " (5043, 5053): ([575], 81),\n",
       " (5001, 5049, 5009): ([576], 30),\n",
       " (5024, 15060, 5068): ([577], 46),\n",
       " (5032, 5009, 5063): ([578], 1189),\n",
       " (5001, 15060, 5068): ([579], 51),\n",
       " (5032, 5038, 15060): ([580], 61),\n",
       " (-2, -3, 5501): ([581], 35),\n",
       " (5501, 5009, 5038): ([582], 188),\n",
       " (5138, 15060, 5068): ([583], 37),\n",
       " (5032, 5036, 5045): ([584], 13),\n",
       " (5038, 5036, 5032): ([585], 23),\n",
       " (5032, 5063, 5062, 5032): ([586], 22),\n",
       " (5052, 5053, 5032): ([587], 16),\n",
       " (15060, 5062, 5063, 5068): ([588], 115),\n",
       " (5053, 5001, 5009): ([589], 50),\n",
       " (5501, 5063, 5068): ([590], 2616),\n",
       " (15108, 5032, 5009): ([592], 55),\n",
       " (5015, 5063, 5015): ([593], 10),\n",
       " (5009, 5068, 5038): ([594], 176),\n",
       " (5032, 5009): ([595], 89),\n",
       " (5501, 5041): ([596], 43),\n",
       " (5501, -1, 5053, 5001): ([597], 11),\n",
       " (5037, -1, 5037): ([598], 10),\n",
       " (5038, 15060, 5009): ([599], 12),\n",
       " (-2, 5063, 5068): ([600], 18),\n",
       " (5032, 5037, 5032): ([601], 28),\n",
       " (5501, 5006, 5501): ([602], 14),\n",
       " (5501, 5009, 5501): ([603], 357),\n",
       " (5001, 5063, 15060): ([604], 20),\n",
       " (-1, 5063, 5097, 5501): ([605], 6),\n",
       " (5063, 5068, 5009, -2): ([606], 115),\n",
       " (5009, 5063, 5068): ([607], 1861),\n",
       " (-1, 5063, -1, 5006): ([608], 5),\n",
       " (5032, 5138, 5053): ([609], 31),\n",
       " (-1, 5063, 5032): ([610], 18),\n",
       " (5032, 5009, 5001): ([611], 43),\n",
       " (5001, 5063, -1): ([612], 20),\n",
       " (5032, 5063, 5097, 5032): ([613], 41),\n",
       " (5009, 5036): ([614, 701], 53),\n",
       " (5035, 5038, 5035): ([615], 54),\n",
       " (5006, 5008, 5004): ([616], 13),\n",
       " (5053, 5052, 5138, 5038): ([617], 13),\n",
       " (5501, -1, 5038): ([618], 126),\n",
       " (5501, 5038, -1): ([619], 135),\n",
       " (-1, 5501, 5063, 5068): ([620], 616),\n",
       " (5001, 5063, 5009): ([621], 28),\n",
       " (5038, 5009, 5053): ([622], 35),\n",
       " (5063, 5009, 5001): ([623], 135),\n",
       " (5063, 5068, 5049): ([624], 66),\n",
       " (5009, 5001, 5068): ([625], 240),\n",
       " (5501, 5051, 5053): ([626], 9),\n",
       " (5032, 5038, 5009, 5068): ([627], 170),\n",
       " (5042, -1, 5042): ([628], 19),\n",
       " (5001, 5038, 5009, 5001): ([629], 74),\n",
       " (5001, 5009, 5081): ([630], 20),\n",
       " (5009, 5001, 5009): ([631, 975], 277),\n",
       " (5068, 5037): ([633], 20),\n",
       " (5032, 5063, 5032): ([634], 439),\n",
       " (5032, 5063, 5084, 5009): ([635], 13),\n",
       " (5009, 5068, 5063): ([636], 587),\n",
       " (5063, 15060, 5068): ([637], 181),\n",
       " (5063, 5068, 15060): ([638, 779], 3275),\n",
       " (15060, 5068, 5097): ([639], 124),\n",
       " (5020, 15060, 5035, 15060, 5035): ([640], 3),\n",
       " (5068, 15060, 5009): ([641], 153),\n",
       " (5036, 15060, 5068): ([642], 25),\n",
       " (5035, 15060, 5068): ([643], 16),\n",
       " (5036, 5049, 5022): ([644], 6),\n",
       " (5022, 5009): ([645], 5),\n",
       " (5501, -1, 5037): ([646], 12),\n",
       " (5009, 5068, 5009, 5038): ([648], 54),\n",
       " (5501, 5035, -1): ([649], 21),\n",
       " (5501, -2): ([650], 27),\n",
       " (5063, 5068, -1): ([651], 123),\n",
       " (5501, 5008, 5001): ([652], 28),\n",
       " (5501, 5038, 5001): ([653], 58),\n",
       " (15060, 5068, 5001): ([654], 93),\n",
       " (5004, 5063, 5009): ([655], 25),\n",
       " (15060, 5081, 5052, 5008, 5004): ([656], 3),\n",
       " (-1, 5032, 5024): ([657], 6),\n",
       " (5068, -2, 5501): ([658], 14),\n",
       " (5043, 15060, 5068): ([660], 48),\n",
       " (5032, 5043, 5053): ([661], 9),\n",
       " (5063, 5068, 5038): ([662], 2011),\n",
       " (5009, 5063, 5068, 5009): ([664], 1593),\n",
       " (5006, 5501, 5084): ([665], 3),\n",
       " (5006, 5001, 5068): ([666], 41),\n",
       " (5501, 5008, 5004): ([667], 10),\n",
       " (5006, -2, -1): ([668], 10),\n",
       " (5032, 5020, 5063, 5068): ([669], 34),\n",
       " (15108, 5068, 5063): ([670], 215),\n",
       " (5068, 5063, 5009): ([671], 1575),\n",
       " (5501, 5053, 5038, 5053): ([672], 12),\n",
       " (5038, 5001, 5032): ([673], 10),\n",
       " (5068, 5009, 5081): ([674], 21),\n",
       " (5032, 5138, 5009): ([675], 48),\n",
       " (5032, 5053, 5043): ([676], 53),\n",
       " (15108, 5068, 15108, 5009): ([677], 43),\n",
       " (5501, 5049, -1): ([678], 16),\n",
       " (5063, 5032, 5009): ([679], 127),\n",
       " (5032, 5009, 5032, 5009): ([680], 91),\n",
       " (5009, 5042, 5036): ([682], 7),\n",
       " (5024, 5022, 5022): ([683], 9),\n",
       " (5009, 5068, -1): ([684], 114),\n",
       " (5501, 5053, 5038): ([685], 134),\n",
       " (5004, 5009, 5068, 5053, 5009): ([686], 10),\n",
       " (5009, 5038, 5009): ([687], 62),\n",
       " (5035, 5009, 5059): ([688], 15),\n",
       " (5009, 5022, 5009): ([689], 68),\n",
       " (5009, 5052, 5009): ([690], 71),\n",
       " (5063, 5068, 5037): ([691], 545),\n",
       " (5063, 5038, 5009): ([692], 235),\n",
       " (5053, -1): ([693], 17),\n",
       " (5084, 5063, 5068): ([694], 76),\n",
       " (15060, 5068, 5063, -1): ([695], 172),\n",
       " (5053, 5032, 5063): ([696], 186),\n",
       " (15060, 5068, 5097, 5063): ([697], 277),\n",
       " (5032, 5084, 5009): ([698], 13),\n",
       " (15108, 5034, 15060, 5009): ([699], 6),\n",
       " (5063, 5068, 5008): ([700], 81),\n",
       " (5501, 5038, 5006): ([702], 13),\n",
       " (5036, 5032, 5063): ([703], 32),\n",
       " (5138, 5036, 5009): ([704], 21),\n",
       " (5038, 5035, -1): ([705], 26),\n",
       " (5053, 5038, -1): ([706], 28),\n",
       " (5063, -1, 5053): ([707], 22),\n",
       " (15060, 5068, 5035, 5038): ([709], 30),\n",
       " (5063, 5138, 5032): ([710], 16),\n",
       " (-1, 5053, 5032): ([711], 16),\n",
       " (5032, 5035, 5038): ([712], 30),\n",
       " (5008, -2): ([713], 4),\n",
       " (5501, 5001, 5006): ([714], 8),\n",
       " (5038, 5001, 5068): ([715], 31),\n",
       " (5032, -1, 5043): ([716], 31),\n",
       " (15108, 5052, 5009): ([717], 104),\n",
       " (5068, 5020, 5038): ([718], 8),\n",
       " (5038, 5045, 5006): ([719], 9),\n",
       " (5063, 5009, 5068): ([720], 12),\n",
       " (5009, -1, 5009): ([721], 23),\n",
       " (-1, 5009, 5068): ([723], 98),\n",
       " (5001, 5068, -1, 5009): ([725], 8),\n",
       " (5009, 5046, -1): ([727], 14),\n",
       " (5063, 5009, 5022, 5501): ([728], 11),\n",
       " (-1, 5009, -2): ([729], 76),\n",
       " (5063, 5097, 5068): ([730], 686),\n",
       " (5063, 5501): ([731, 984], 180),\n",
       " (5043, 5063, 5068): ([732], 30),\n",
       " (5084, 5063, 5042): ([733], 9),\n",
       " (5032, 5053, 5038, 5501): ([734], 35),\n",
       " (5024, -1, 5024): ([735], 12),\n",
       " (5501, 5021, 5038): ([737], 24),\n",
       " (5501, 5068, 5063): ([738], 120),\n",
       " (5009, 5063, 5009, 5501): ([739], 36),\n",
       " (5501, 5036, 5038): ([740], 20),\n",
       " (5038, -2, -1): ([741], 57),\n",
       " (15108, 5009): ([742, 805], 88),\n",
       " (-1, 5053, 5038): ([743], 37),\n",
       " (5038, 5501, 5063): ([744], 88),\n",
       " (5501, -2, -1): ([745], 9),\n",
       " (15108, 5006, 5009): ([746], 29),\n",
       " (-1, 5038, 5009): ([748], 145),\n",
       " (5063, -1, 5032): ([749], 104),\n",
       " (5081, 15060, 5068): ([750], 10),\n",
       " (5009, 5006, 5009): ([751], 23),\n",
       " (5032, 5501, 5035, 5501): ([752], 6),\n",
       " (5009, 5138, 5501): ([753], 33),\n",
       " (5009, 5068, 5138): ([754], 16),\n",
       " (5009, 5052, 5038, 5009): ([755], 13),\n",
       " (5501, 5063, 5032): ([757], 102),\n",
       " (5032, 5501, 5032): ([758], 44),\n",
       " (5032, 5038, 5032): ([759], 495),\n",
       " (5049, 5022, 5063): ([761], 19),\n",
       " (5032, 5053, 5004): ([762], 14),\n",
       " (5001, 5068, 5038): ([764], 53),\n",
       " (5001, 5009, 5038): ([765], 51),\n",
       " (5001, 5038, -1): ([766], 18),\n",
       " (5038, 5053, 5032): ([767], 58),\n",
       " (5501, 5032, 5063, 5068): ([768], 101),\n",
       " (5063, 5068, 5063, 5038): ([769], 333),\n",
       " (5001, 5009, 5049): ([770], 27),\n",
       " (5063, 5042): ([772], 27),\n",
       " (5006, 5049): ([773], 14),\n",
       " (5501, 5053, 5037): ([774], 24),\n",
       " (5501, -1, 5036): ([775], 14),\n",
       " (5032, 5063, 5068, -1): ([776], 359),\n",
       " (5022, 5038, 5022): ([777], 12),\n",
       " (5501, -1, 5032): ([778], 37),\n",
       " (-1, 5063, 5068, -2): ([780], 159),\n",
       " (5043, 5045, 5053, 5049): ([781], 5),\n",
       " (-1, 5001, 5006): ([782], 21),\n",
       " (5053, 5001, 5038): ([783], 41),\n",
       " (5032, 5063, -1, 5038): ([784], 50),\n",
       " (5032, 5038, 5052): ([785], 52),\n",
       " (15108, 5053, 5038, 5009): ([786], 52),\n",
       " (5024, 5035, 5041, 5037, 5020): ([787], 4),\n",
       " (5043, 5053, 5052): ([788], 10),\n",
       " (5045, 5063, 5068): ([789], 9),\n",
       " (5501, 5045): ([790], 8),\n",
       " (5052, -1): ([791], 8),\n",
       " (5006, 5138): ([792], 8),\n",
       " (5501,): ([793], 25),\n",
       " (5501, 5006, 5009): ([794], 25),\n",
       " (5009, 5006, 5501): ([795], 2),\n",
       " (5068, 5032, 5009): ([796], 99),\n",
       " (5032, 15060, 5068): ([797], 1242),\n",
       " (5009, 15108, 5068): ([798], 195),\n",
       " (5063, -2, 5501, 5009): ([799], 9),\n",
       " (5009, 5084): ([800], 15),\n",
       " (5001, 5009, 5001): ([801], 108),\n",
       " (5043, -5, 5001): ([802], 9),\n",
       " (5038, 5009, 5038): ([803], 35),\n",
       " (5038, 5043, 5038): ([804], 56),\n",
       " (5038, 5501, -1): ([806], 76),\n",
       " (5042, 5035, 5042): ([807], 11),\n",
       " (5032, 5097, 5068, 5063): ([808], 33),\n",
       " (5068, 5038, 5501): ([809], 26),\n",
       " (5032, -1, 5052): ([810], 14),\n",
       " (5063, 5053, 5052): ([811], 39),\n",
       " (5063, 5009, -2): ([812], 79),\n",
       " (5032, 5063, -2, -1): ([813], 23),\n",
       " (5034, 5053): ([814], 21),\n",
       " (5063, 5053): ([815], 7),\n",
       " (5063, 5068, 5036): ([816], 58),\n",
       " (5001, 5036, 5009): ([817], 17),\n",
       " (5001, 5035): ([818], 31),\n",
       " (5501, -1, 5052): ([819], 34),\n",
       " (-1, 5038, -2): ([821], 90),\n",
       " (5009, 5081, 5009): ([824], 38),\n",
       " (15108, 5053, 5501, 5009): ([825], 62),\n",
       " (5049, 5081, 5021): ([826], 64),\n",
       " (5035, 5021): ([827], 14),\n",
       " (5041, 5049, 5041): ([828], 4),\n",
       " (5081, 5021, -1): ([829], 16),\n",
       " (5032, 5006, 5042, 5046, 5063): ([830], 2),\n",
       " (5032, 5068, 5063): ([831], 290),\n",
       " (5008, 5032): ([832], 24),\n",
       " (5024, -1, 5019, 5035): ([833], 6),\n",
       " (5034, 15060, 5068): ([834], 23),\n",
       " (-1, 5001, 15060, 5032): ([835], 3),\n",
       " (5068, 5097, 15060): ([836], 199),\n",
       " (5001, 15060, 5063): ([837], 248),\n",
       " (5034, 5001): ([838], 9),\n",
       " (5006, 5063, 5009): ([839], 28),\n",
       " (5004, 5006): ([840], 15),\n",
       " (15060, 5062, 5063): ([841], 226),\n",
       " (15060, 5063, 5008): ([842], 26),\n",
       " (5081, 15060, 5063, 5009): ([843], 4),\n",
       " (5001, 5068, 15060): ([844], 73),\n",
       " (5024, 5103, 5102, 5098): ([845], 14),\n",
       " (5063, 5062, 15060, 5068): ([846], 44),\n",
       " (5045, 15060, 5068): ([847], 27),\n",
       " (-1, 5049, -2): ([848], 6),\n",
       " (5024, 5081, 5083, 5081): ([849], 7),\n",
       " (15060, 5068, 5138): ([850], 39),\n",
       " (5501, 5038, 5009): ([851], 393),\n",
       " (5037, 5052, 5008, 5138): ([852], 6),\n",
       " (5062, 15060, 5001): ([853], 10),\n",
       " (5053, 5042, 5038): ([854], 15),\n",
       " (15060, 5097, 5068): ([855], 170),\n",
       " (15060, 5001): ([856], 13),\n",
       " (5063, 15060, 5032): ([857], 40),\n",
       " (15060, 5068, 5037): ([858], 222),\n",
       " (5009, 5068, 5053): ([859], 78),\n",
       " (5037, 5037): ([860], 14),\n",
       " (5068, 5009): ([861], 78),\n",
       " (5501, 5049, 5001, 5009, 5022): ([862], 11),\n",
       " (5009, 5063, 5053): ([865], 81),\n",
       " (15108, 5068, 5009, 5063): ([866], 28),\n",
       " (5009, -1, 5032): ([867], 13),\n",
       " (5037, 5501, 5024): ([868], 4),\n",
       " (5032, 5004, 5038): ([869], 15),\n",
       " (5001, 5009, 5053, 5001): ([870], 17),\n",
       " (5501, -5, 5001): ([871], 22),\n",
       " (5009, 5001, 5053): ([872], 14),\n",
       " (5072, 5001, 5038): ([873], 13),\n",
       " (5006, 5032): ([874], 17),\n",
       " (-5, 5001, 5068): ([875], 20),\n",
       " (5501, 5037, -1): ([876], 21),\n",
       " (5037, 5038, 5009): ([877], 60),\n",
       " (5501, 5051, 5038): ([878], 23),\n",
       " (5138, 5052): ([879], 16),\n",
       " (5009, 5038, 5501): ([880], 52),\n",
       " (5063, -1, 5043): ([881], 48),\n",
       " (5049, 5034): ([882], 5),\n",
       " (5032, 5063, 5037): ([883], 19),\n",
       " (5009, 5063, 5097): ([884], 18),\n",
       " (15108, 5063, 5006, 5001): ([885], 6),\n",
       " (5009, 5001, 5049): ([886], 27),\n",
       " (15060, 5006, 5049, 5006): ([887], 11),\n",
       " (5068, 5063, 15060): ([888], 278),\n",
       " (5019, 15060, 5501): ([889], 4),\n",
       " (5032, 5063, 5068, 5051): ([890], 27),\n",
       " (15085, 5063, 15085): ([891], 5),\n",
       " (5032, 5063, 5097, 5063): ([892], 53),\n",
       " (5024, 5045, 5501): ([893], 11),\n",
       " (5068, 5063, 5037): ([894], 18),\n",
       " (5022, 5021, 5053): ([895], 10),\n",
       " (5049, 5009, 5068): ([896], 9),\n",
       " (5035, 5038, 5009): ([897], 43),\n",
       " (5035, 5009, 5068): ([898], 25),\n",
       " (5038, 5051, 5052): ([899], 6),\n",
       " (5004, 5063): ([900], 8),\n",
       " (5032, 5063, 5035): ([901], 18),\n",
       " (5501, 5038, 5035): ([902], 19),\n",
       " (-3, 5501, 5032): ([903], 13),\n",
       " (5035, 5009, 5035): ([904], 18),\n",
       " (5501, 5063, -1): ([905, 1228], 138),\n",
       " (5053, 5035, 5036): ([906], 7),\n",
       " (5501, 5052, 5138): ([907], 14),\n",
       " (5501, 5001, 5008, 5001): ([908], 13),\n",
       " (5053, 5001, 5008): ([910], 19),\n",
       " (5032, 5081, 5021): ([912], 36),\n",
       " (5038, 15060, 5006): ([913], 10),\n",
       " (5102, 5001): ([914], 47),\n",
       " (5053, 5052, 5038): ([915], 89),\n",
       " (5009, 5052, 5037): ([916], 5),\n",
       " (5009, 5063, 5038): ([917], 431),\n",
       " (5009, 5001, 5004): ([918], 31),\n",
       " (5004, 5063, 5068): ([919], 45),\n",
       " (-1, 5063, 5053): ([920], 19),\n",
       " (5009, 5004, 5038): ([923], 18),\n",
       " (5038, 5053, -1): ([925], 25),\n",
       " (5053, -1, 5138): ([927], 8),\n",
       " (5053, -1, 5038): ([928], 31),\n",
       " (5032, 5052, 5008): ([929], 14),\n",
       " (5072, 5001, 5009): ([930], 49),\n",
       " (5001, 5008, 5009): ([931], 21),\n",
       " (5009, 5063, 15060): ([932], 130),\n",
       " (5009, 5042, 5053): ([933], 3),\n",
       " (5001, 5068, 5009, 5008): ([934], 6),\n",
       " (5053, 5053): ([935], 5),\n",
       " (5063, 5008, 5009): ([936], 26),\n",
       " (5063, 5009, -1): ([937], 67),\n",
       " (15108, 5038, 5009, 15108): ([938], 55),\n",
       " (5022, 5045, 5049): ([939], 7),\n",
       " (5006, 5009): ([940], 13),\n",
       " (15060, 5063, 5020): ([941], 42),\n",
       " (5501, 5138, 5501, 5063): ([942], 24),\n",
       " (5046, 5053): ([943], 7),\n",
       " (-1, 5501, 5068, -2): ([944], 20),\n",
       " (15060, 5097, 5037): ([945], 10),\n",
       " (5501, 5022, 5022): ([946], 13),\n",
       " (5038, 5053, 5049, -1): ([947], 8),\n",
       " (5024, 5049, 5006): ([949], 25),\n",
       " (5035, 5009, 5063): ([950], 41),\n",
       " (-1, 5038, 5041, 5038, 5051): ([951], 6),\n",
       " (5501, 5063, 5097, 5068): ([952], 98),\n",
       " (5032, 5063, 5068, 5021): ([953], 5),\n",
       " (5004, 5063, 5038): ([954], 17),\n",
       " (5009, 5068, 5001): ([955], 48),\n",
       " (5009, 5063, 5084): ([956], 16),\n",
       " (5009, 5006, 5035): ([957], 21),\n",
       " (5032, 5063, 5068, -2): ([958], 120),\n",
       " (5035, 5043, -1): ([959], 11),\n",
       " (5068, 5063, 5062, 5009): ([960], 10),\n",
       " (-3, 5501, 5068, 5038): ([961], 7),\n",
       " (5038, 5068, 15060): ([962], 27),\n",
       " (15060, 5036, 15060): ([963], 7),\n",
       " (5024, 15060, 5062, 5038): ([964], 6),\n",
       " (5063, 5097, 15060): ([965], 58),\n",
       " (5038, 15060, 5062): ([966], 22),\n",
       " (5032, 5083, 5006, 5046): ([967], 3),\n",
       " (5032, 5009, 15060, 5063): ([968], 27),\n",
       " (5032, 5022, -1): ([969], 21),\n",
       " (15060, 5063, 5043, 5053): ([970], 8),\n",
       " (5035, 5038, 5043): ([971], 13),\n",
       " (5068, 5038, 5043): ([972], 34),\n",
       " (15060, 5068, 5042, 5043): ([973], 21),\n",
       " (5049, 5001, 5068): ([976], 20),\n",
       " (5001, 5063, 5068): ([977], 72),\n",
       " (15060, 5063, 15060, 5001): ([978], 68),\n",
       " (5032, 5058, 5001): ([979], 5),\n",
       " (5052, 5053, 5052): ([980], 55),\n",
       " (5032, 5052, 5053): ([982], 15),\n",
       " (5008, 5063, 5034, 5041, 5001): ([983], 3),\n",
       " (5501, 5001, -2): ([985], 14),\n",
       " (5032, 5009, 5001, 5038): ([986], 44),\n",
       " (5043, 5051): ([987, 1104], 26),\n",
       " (5009, 5049, 5022): ([988], 25),\n",
       " (5009, 5001, 5052): ([989], 14),\n",
       " (5024, -1, 5032, 5024): ([990], 10),\n",
       " (5038, 5034, 5038): ([991], 30),\n",
       " (5001, 5084, 5034): ([992], 5),\n",
       " (5009, 5063, 5081): ([993], 19),\n",
       " (5032, 5063, 5053): ([994], 30),\n",
       " (5068, -5, 5001): ([995], 21),\n",
       " (5053, 5001, 5063): ([996], 34),\n",
       " (5068, 5009, 5052): ([997], 24),\n",
       " (15060, 5091, 5063): ([998], 10),\n",
       " (5009, 5063, 5037): ([999], 20),\n",
       " (5063, 15108, 5001): ([1000], 4),\n",
       " (15108, 5068, 5038, 5009): ([1001], 64),\n",
       " (5001, 5068, 5097, 5063): ([1002], 17),\n",
       " (5019, 5001, 5019, 5042, -2): ([1003], 2),\n",
       " (5053, 5035, 5009): ([1004], 32),\n",
       " (5032, 5009, 5501): ([1005], 43),\n",
       " (5058, 5006, 5053, 5035, 5053): ([1006], 6),\n",
       " (5001, 5006, 5049): ([1007], 7),\n",
       " (5032, 5053, 5037): ([1008], 14),\n",
       " (5035, 5036, 5035): ([1010], 8),\n",
       " (5068, 5097, 5068): ([1011], 47),\n",
       " (5501, 5068, 15060, 5501): ([1012], 11),\n",
       " (5501, 5045, 5008): ([1013], 5),\n",
       " (5009, 5501, 5038): ([1014], 42),\n",
       " (5038, 5052, 5009): ([1015], 23),\n",
       " (5052, 5009, 5037): ([1016], 13),\n",
       " (5009, 5063, 5022): ([1017], 7),\n",
       " (5063, 5068, 5009, -1): ([1018], 34),\n",
       " (5009, 5006, 5049): ([1019], 7),\n",
       " (5009, 5001, 5068, 5009): ([1020], 95),\n",
       " (5063, 5009, 5049): ([1023], 20),\n",
       " (5063, 5068, 5006): ([1024], 24),\n",
       " (5037, 5038, 5501): ([1026], 5),\n",
       " (-1, 5041, 5051): ([1027], 5),\n",
       " (5063, 5068, 5038, -2): ([1028], 193),\n",
       " (5032, 5022, 5049): ([1029], 3),\n",
       " (15108, 5038, 5501, 5009): ([1030], 152),\n",
       " (5009, 5009): ([1031], 5),\n",
       " (5032, 5021, 15060, 5063): ([1032], 9),\n",
       " (5041, 5083, 5015, 5083, 5015): ([1033], 3),\n",
       " (5501, -1, -2): ([1034], 30),\n",
       " (5053, 5021): ([1035], 20),\n",
       " (15060, 5063, 5059): ([1036], 7),\n",
       " (5138, 5045, 5020, 5009): ([1037], 12),\n",
       " (5009, 5022, 5038): ([1038], 22),\n",
       " (5501, 15060, 5042, 5038): ([1039], 13),\n",
       " (5084, 5068): ([1040], 16),\n",
       " (5084, 15060, 5068): ([1041], 111),\n",
       " (5072, 5001, 5009, -5): ([1042], 66),\n",
       " (5063, 5037, 5009): ([1043], 31),\n",
       " (5038, 5063, 5501): ([1044], 28),\n",
       " (5009, 15060, 5009): ([1045], 8),\n",
       " (5038, -2, -3): ([1046], 10),\n",
       " (15060, 5068, 5035): ([1047], 75),\n",
       " (5036, 5009): ([1048], 18),\n",
       " (5084, 5063, 5084): ([1049], 12),\n",
       " (15060, 5063, 5037): ([1050, 1246], 20),\n",
       " (5501, 5062, 5501): ([1051], 3),\n",
       " (5009, -3, -1): ([1052], 7),\n",
       " (5501, 5035, 5138, -1): ([1053], 23),\n",
       " (5068, 5063, 5138, 5009): ([1054], 45),\n",
       " (5024, 5045, 5019, 5006, 5022): ([1055], 2),\n",
       " (15060, 5063, 5068, 5138): ([1056], 130),\n",
       " (5032, 5038, 5001, 5038): ([1057], 23),\n",
       " (5501, 5063, 5052): ([1058], 5),\n",
       " (15108, 5037, 5058, 5004, 5138): ([1059], 1),\n",
       " (5032, 5006, 5036): ([1060], 17),\n",
       " (5006, 5063, 5006): ([1061], 13),\n",
       " (5072, 5001, 5006): ([1062], 10),\n",
       " (15108, 5135, 5045, -5, 5009): ([1063], 2),\n",
       " (5038, -2, 5501): ([1064], 64),\n",
       " (15060, 5068, 5034): ([1066], 6),\n",
       " (5032, 5501, 5038): ([1067], 42),\n",
       " (-3, 5501, -1, -3): ([1068], 7),\n",
       " (5020, 5063, -2): ([1069], 11),\n",
       " (5006, 5063, 5038): ([1070], 7),\n",
       " (5045, -2, -1): ([1071], 7),\n",
       " (5501, 5006, -2): ([1072], 11),\n",
       " (15060, 5068, 5063): ([1073], 2039),\n",
       " (-3, 5501, 5063): ([1074], 10),\n",
       " (5501, 5006, 15060): ([1075], 11),\n",
       " (5009, 5063, -1): ([1076], 187),\n",
       " (5068, 5037, 5501): ([1077], 67),\n",
       " (5501, 5038, 5053): ([1078], 120),\n",
       " (5501, 5053, 5063): ([1079], 9),\n",
       " (5501, 5053, 5043, 5501): ([1080], 8),\n",
       " (5063, 5053, 5038): ([1081], 49),\n",
       " (5501, 5053, -2): ([1082, 1086], 66),\n",
       " (5501, 5053, 5001): ([1083], 74),\n",
       " (5501, 5038, 5501, 5053): ([1084], 33),\n",
       " (5035, 5032, 5053): ([1085], 13),\n",
       " (5501, 5063, 5053): ([1087], 30),\n",
       " (5501, 5053, -1): ([1088], 54),\n",
       " (5022, 15060, 5068): ([1089], 15),\n",
       " (5501, 5053, 5045): ([1090], 18),\n",
       " (5024, 5501, 5049): ([1091], 6),\n",
       " (5501, 5053, 5006): ([1092], 9),\n",
       " (5501, 5053, 5004): ([1093], 15),\n",
       " (15060, 5068, 5038, 5009): ([1094], 46),\n",
       " (15060, 5062, 5032): ([1095], 22),\n",
       " ...}"
      ]
     },
     "execution_count": 111,
     "metadata": {},
     "output_type": "execute_result"
    }
   ],
   "source": [
    "aggregati = aggregate_cluster(user, user_reduce, y, matrix, level=0.6)\n",
    "aggregati"
   ]
  },
  {
   "cell_type": "code",
   "execution_count": 117,
   "metadata": {},
   "outputs": [],
   "source": [
    "def get_cluster_list(user, user_reduce, y, mat, level=0.6):\n",
    "    ris= []\n",
    "    user_dict=Counter(user)   \n",
    "    for id_ in set(y):\n",
    "        rappresentante = get_rappresentante(id_, user, user_reduce, y, mat, level=level)\n",
    "        user_c = [u for i,u in enumerate(user_reduce) if y[i]==id_ ] \n",
    "        n_user = sum([v for k,v in user_dict.items() if k in user_c])\n",
    "        ris.append((n_user,rappresentante, id_))\n",
    "        #print(id_)\n",
    "    ris.sort(reverse=True)\n",
    "    #ris.sort()\n",
    "    ris = [(i,r,n) for n,r,i in ris]\n",
    "    return ris\n",
    "    "
   ]
  },
  {
   "cell_type": "code",
   "execution_count": 118,
   "metadata": {},
   "outputs": [
    {
     "name": "stdout",
     "output_type": "stream",
     "text": [
      "1250\n",
      "CPU times: user 1min 2s, sys: 28 ms, total: 1min 2s\n",
      "Wall time: 1min 2s\n"
     ]
    }
   ],
   "source": [
    "%%time\n",
    "new_y = y #aggiunto\n",
    "cluster_list = get_cluster_list(user, user_reduce, new_y, matrix)\n",
    "print(len(cluster_list))"
   ]
  },
  {
   "cell_type": "code",
   "execution_count": 119,
   "metadata": {
    "scrolled": true
   },
   "outputs": [
    {
     "data": {
      "text/plain": [
       "[(327, (15060, 5063, 5068), 4264),\n",
       " (638, (5063, 5068, 15060), 3201),\n",
       " (7, (5063, 5068, 5063), 2953),\n",
       " (27, (5032, 5063, 5068), 2916),\n",
       " (590, (5501, 5063, 5068), 2616),\n",
       " (362, (5009, 5021), 2444),\n",
       " (282, (5501, 5009), 2107),\n",
       " (1073, (15060, 5068, 5063), 2039),\n",
       " (662, (5063, 5068, 5038), 2011),\n",
       " (607, (5009, 5063, 5068), 1861),\n",
       " (664, (5009, 5063, 5068, 5009), 1593),\n",
       " (671, (5068, 5063, 5009), 1575),\n",
       " (797, (5032, 15060, 5068), 1242),\n",
       " (578, (5032, 5009, 5063), 1189),\n",
       " (532, (5009, 5063, 5009), 1089),\n",
       " (96, (15060, 5063), 1088),\n",
       " (14, (-1, 5501), 1036),\n",
       " (547, (5063, 5068, 5001), 729),\n",
       " (730, (5063, 5097, 5068), 686),\n",
       " (1192, (15060, 5068, 15060), 655),\n",
       " (389, (-1, 5001), 617),\n",
       " (620, (-1, 5501, 5063, 5068), 616),\n",
       " (1199, (5063, 5068, 5097), 588),\n",
       " (636, (5009, 5068, 5063), 587),\n",
       " (691, (5063, 5068, 5037), 545),\n",
       " (127, (5021, 5009), 520),\n",
       " (331, (5501, 5038, 5501), 502),\n",
       " (0, (5063, 5068), 502),\n",
       " (759, (5032, 5038, 5032), 495),\n",
       " (488, (15060, 5068, 5038), 460),\n",
       " (49, (5032, 5001), 450),\n",
       " (1232, (15108, 5068, 5097, 5063), 449),\n",
       " (289, (5032, -1), 446),\n",
       " (1189, (5009, 5068, 5009), 445),\n",
       " (64, (5009, 5038), 443),\n",
       " (634, (5032, 5063, 5032), 439),\n",
       " (917, (5009, 5063, 5038), 431),\n",
       " (1128, (5032, 5038, 5009), 421),\n",
       " (266, (15060, 5063, 5009), 416),\n",
       " (851, (5501, 5038, 5009), 393),\n",
       " (591, (5501, 5009), 370),\n",
       " (776, (5032, 5063, 5068, -1), 359),\n",
       " (501, (15108, 5068, 5063, 5068), 357),\n",
       " (603, (5501, 5009, 5501), 357),\n",
       " (549, (5038, 5009, 5063), 350),\n",
       " (558, (5038, 5032, 5063), 344),\n",
       " (543, (5001, -1), 336),\n",
       " (769, (5063, 5068, 5063, 5038), 333),\n",
       " (328, (15060, 5097, 5068, 5063), 320),\n",
       " (208, (15060, 5063, 5038), 310),\n",
       " (51, (-1, 15060, 5068), 310),\n",
       " (67, (5032, 5063, 5068), 309),\n",
       " (516, (15060, 5063, 15060), 306),\n",
       " (261, (5049, 5021), 303),\n",
       " (199, (5043, 5009), 299),\n",
       " (1158, (5009, 5068, 15060), 291),\n",
       " (831, (5032, 5068, 5063), 290),\n",
       " (1139, (-1, 5009, 5063), 288),\n",
       " (888, (5068, 5063, 15060), 278),\n",
       " (697, (15060, 5068, 5097, 5063), 277),\n",
       " (355, (5001, 5068, 5063), 272),\n",
       " (1157, (5032, 5063, 5009), 259),\n",
       " (631, (5009, 5001, 5009), 257),\n",
       " (837, (5001, 15060, 5063), 248),\n",
       " (41, (5009, 5001), 244),\n",
       " (625, (5009, 5001, 5068), 240),\n",
       " (1147, (15060, 5068, 5009), 239),\n",
       " (398, (15108, 5009, 15108), 238),\n",
       " (692, (5063, 5038, 5009), 235),\n",
       " (141, (5032, 5038, -1), 235),\n",
       " (296, (5032, 5009, 5032), 235),\n",
       " (18, (5038, -1), 230),\n",
       " (841, (15060, 5062, 5063), 226),\n",
       " (858, (15060, 5068, 5037), 222),\n",
       " (567, (5038, 5063, 5068), 222),\n",
       " (1126, (5038, 5032, 5038), 222),\n",
       " (1150, (5063, 5068, 5032), 221),\n",
       " (1109, (5063, 5068, 5035), 220),\n",
       " (295, (5032, 5063, 15060), 219),\n",
       " (670, (15108, 5068, 5063), 215),\n",
       " (1179, (5009, 5063, 5032), 215),\n",
       " (180, (5024, 5009), 212),\n",
       " (460, (5032, 5009, 5068), 206),\n",
       " (836, (5068, 5097, 15060), 199),\n",
       " (310, (5009, -1), 197),\n",
       " (154, (-1, 5038), 196),\n",
       " (798, (5009, 15108, 5068), 195),\n",
       " (1028, (5063, 5068, 5038, -2), 193),\n",
       " (106, (5501, 5038), 188),\n",
       " (582, (5501, 5009, 5038), 188),\n",
       " (1076, (5009, 5063, -1), 187),\n",
       " (696, (5053, 5032, 5063), 186),\n",
       " (637, (5063, 15060, 5068), 181),\n",
       " (184, (-1, 5009), 181),\n",
       " (539, (5053, 5009), 177),\n",
       " (1120, (5038, 5032, 5009), 177),\n",
       " (594, (5009, 5068, 5038), 176),\n",
       " (1119, (5063, 5032, 5038), 175),\n",
       " (45, (5008, 5063), 173),\n",
       " (695, (15060, 5068, 5063, -1), 172),\n",
       " (731, (5063, 5501), 172),\n",
       " (855, (15060, 5097, 5068), 170),\n",
       " (627, (5032, 5038, 5009, 5068), 170),\n",
       " (263, (-1, 5501, -1), 168),\n",
       " (304, (5501, 5063, 5038), 160),\n",
       " (367, (5501, 5063, 5009), 160),\n",
       " (780, (-1, 5063, 5068, -2), 159),\n",
       " (641, (5068, 15060, 5009), 153),\n",
       " (276, (5052, 5009), 153),\n",
       " (1030, (15108, 5038, 5501, 5009), 152),\n",
       " (444, (5501, 5063, 5501), 150),\n",
       " (388, (-1, 5501, -1, -2), 150),\n",
       " (540, (5038, -1, 5038), 148),\n",
       " (1117, (5068, 5032, 5038), 146),\n",
       " (748, (-1, 5038, 5009), 145),\n",
       " (203, (5032, 5053, -1), 141),\n",
       " (325, (5009, 5068, 5097, 5063), 140),\n",
       " (188, (5081, 5009, 5081), 139),\n",
       " (414, (5009, 5068, 5063, 5032), 139),\n",
       " (365, (5045, 5009), 137),\n",
       " (1154, (5063, 5068, 5053), 136),\n",
       " (1137, (5009, 5032, 5038), 136),\n",
       " (619, (5501, 5038, -1), 135),\n",
       " (623, (5063, 5009, 5001), 135),\n",
       " (685, (5501, 5053, 5038), 134),\n",
       " (354, (5501, 5021), 133),\n",
       " (189, (5009, -2), 133),\n",
       " (1145, (5032, -1, 5038, 5032), 132),\n",
       " (1056, (15060, 5063, 5068, 5138), 130),\n",
       " (932, (5009, 5063, 15060), 130),\n",
       " (34, (5501, 5068), 129),\n",
       " (679, (5063, 5032, 5009), 127),\n",
       " (618, (5501, -1, 5038), 126),\n",
       " (639, (15060, 5068, 5097), 124),\n",
       " (1138, (5038, -1, 5009), 124),\n",
       " (358, (5032, 5038, 5001), 124),\n",
       " (471, (5009, 5063, 5501), 124),\n",
       " (363, (5501, 5052), 123),\n",
       " (651, (5063, 5068, -1), 123),\n",
       " (105, (-1, 5035), 123),\n",
       " (557, (5032, 5063, 5038), 122),\n",
       " (1173, (-1, 5032, 5063), 122),\n",
       " (65, (15060, 5063, -1), 121),\n",
       " (738, (5501, 5068, 5063), 120),\n",
       " (1078, (5501, 5038, 5053), 120),\n",
       " (958, (5032, 5063, 5068, -2), 120),\n",
       " (459, (15060, 5068, 5053), 117),\n",
       " (241, (15060, 5062), 117),\n",
       " (74, (5009, 5081), 116),\n",
       " (1146, (5009, 5038, 5032), 116),\n",
       " (588, (15060, 5062, 5063, 5068), 115),\n",
       " (606, (5063, 5068, 5009, -2), 115),\n",
       " (2, (5001, 15108, 5068), 115),\n",
       " (684, (5009, 5068, -1), 114),\n",
       " (450, (-5, 5001, 5009), 113),\n",
       " (101, (5032, 5001, 5068), 112),\n",
       " (240, (5009, 15060, 5068), 112),\n",
       " (1041, (5084, 15060, 5068), 111),\n",
       " (269, (5038, 5032), 111),\n",
       " (380, (5032, 5053, 5032), 111),\n",
       " (341, (15108, 5038, 5009), 110),\n",
       " (279, (5501, 5038, 5063), 110),\n",
       " (535, (5038, 5501, 5038), 110),\n",
       " (62, (15060, 5097), 108),\n",
       " (225, (5038, 5035), 108),\n",
       " (801, (5001, 5009, 5001), 108),\n",
       " (102, (-1,), 108),\n",
       " (31, (5053, 5008), 107),\n",
       " (1121, (5032, 5038, 5063, 5068), 106),\n",
       " (717, (15108, 5052, 5009), 104),\n",
       " (54, (5063, 5068, 5063, 5501), 104),\n",
       " (749, (5063, -1, 5032), 104),\n",
       " (83, (5032, 5068, 5032), 104),\n",
       " (78, (5063, 5038, 5501), 103),\n",
       " (573, (5038, 15060, 5068), 103),\n",
       " (757, (5501, 5063, 5032), 102),\n",
       " (35, (5001, 5004), 102),\n",
       " (25, (15060, 5068, -1), 101),\n",
       " (768, (5501, 5032, 5063, 5068), 101),\n",
       " (541, (5068, -1, 5038), 101),\n",
       " (1115, (-1, 5032, 5038), 101),\n",
       " (1184, (15108, 5038, 5032, 5009), 100),\n",
       " (339, (5138, 5009), 100),\n",
       " (385, (5008, 5009), 100),\n",
       " (796, (5068, 5032, 5009), 99),\n",
       " (9, (5049, 5009), 99),\n",
       " (952, (5501, 5063, 5097, 5068), 98),\n",
       " (172, (5008, 5038), 98),\n",
       " (723, (-1, 5009, 5068), 98),\n",
       " (265, (15108, 5053, 5009), 97),\n",
       " (163, (5035, 5038), 97),\n",
       " (95, (5062, 5063), 96),\n",
       " (109, (5009, 5032), 96),\n",
       " (237, (15108, 5068, 5009), 95),\n",
       " (1020, (5009, 5001, 5068, 5009), 95),\n",
       " (140, (5052, 5009, 5001), 94),\n",
       " (93, (5032, 5009, 5052), 94),\n",
       " (1210, (5009, -2, -1), 94),\n",
       " (654, (15060, 5068, 5001), 93),\n",
       " (63, (5038, 5053), 93),\n",
       " (32, (-1, 5053), 93),\n",
       " (491, (5009, -5, 5001), 92),\n",
       " (680, (5032, 5009, 5032, 5009), 91),\n",
       " (176, (5043, 5038), 90),\n",
       " (111, (5032, 5049, 5009), 90),\n",
       " (821, (-1, 5038, -2), 90),\n",
       " (915, (5053, 5052, 5038), 89),\n",
       " (153, (5032, 5021), 89),\n",
       " (595, (5032, 5009), 89),\n",
       " (744, (5038, 5501, 5063), 88),\n",
       " (81, (5001, 5032), 88),\n",
       " (5, (5501, 5063), 87),\n",
       " (475, (5063, 5038, -1), 87),\n",
       " (194, (5038, 5035), 87),\n",
       " (114, (5006, 5038), 87),\n",
       " (61, (5053, -2), 86),\n",
       " (26, (5038, 5052), 86),\n",
       " (47, (-1, 5063, 5009), 86),\n",
       " (1118, (5032, 5053, 5038), 85),\n",
       " (742, (15108, 5009), 83),\n",
       " (1166, (15060, 5068, 5032), 83),\n",
       " (905, (5501, 5063, -1), 83),\n",
       " (59, (5038, 5063), 83),\n",
       " (137, (5036, 5038), 83),\n",
       " (167, (5032, 5051), 83),\n",
       " (1186, (5009, 5032, 5063), 83),\n",
       " (39, (5501, 5001), 82),\n",
       " (1183, (5038, -1, 5032), 82),\n",
       " (58, (5032, 5008), 82),\n",
       " (329, (5032, 5006, 5009), 82),\n",
       " (496, (5501, 15060, 5068), 81),\n",
       " (165, (5501, 5038), 81),\n",
       " (700, (5063, 5068, 5008), 81),\n",
       " (575, (5043, 5053), 81),\n",
       " (865, (5009, 5063, 5053), 81),\n",
       " (82, (5501, 5051), 80),\n",
       " (168, (5038, 5053, 5038), 80),\n",
       " (99, (5008, 5001), 80),\n",
       " (256, (15108, 5038, 5009), 79),\n",
       " (129, (5063, 5081), 79),\n",
       " (812, (5063, 5009, -2), 79),\n",
       " (142, (5032, 5038, -2), 79),\n",
       " (98, (5009, 5043), 79),\n",
       " (861, (5068, 5009), 78),\n",
       " (859, (5009, 5068, 5053), 78),\n",
       " (1191, (-1, 5032, 5009), 78),\n",
       " (40, (5032, 5053, 5001), 77),\n",
       " (722, (5009, 5001), 77),\n",
       " (12, (5001, 5009, 5501), 77),\n",
       " (694, (5084, 5063, 5068), 76),\n",
       " (100, (5068, 5063), 76),\n",
       " (806, (5038, 5501, -1), 76),\n",
       " (452, (5038, 5001, 5009), 76),\n",
       " (729, (-1, 5009, -2), 76),\n",
       " (1047, (15060, 5068, 5035), 75),\n",
       " (551, (-1, 5001, -2, -1), 75),\n",
       " (1083, (5501, 5053, 5001), 74),\n",
       " (779, (5063, 5068, 15060), 74),\n",
       " (50, (5001, 5501), 74),\n",
       " (629, (5001, 5038, 5009, 5001), 74),\n",
       " (844, (5001, 5068, 15060), 73),\n",
       " (290, (5138, 5038), 72),\n",
       " (124, (5021, 5081), 72),\n",
       " (977, (5001, 5063, 5068), 72),\n",
       " (1233, (5053, 5001, 5068), 71),\n",
       " (44, (5035, 5501), 71),\n",
       " (690, (5009, 5052, 5009), 71),\n",
       " (242, (15108, 5009, 5009), 70),\n",
       " (60, (5038, 5037), 70),\n",
       " (403, (5032, 5062, 5063), 70),\n",
       " (421, (15060, 5068, -2), 69),\n",
       " (11, (5084, 5063), 69),\n",
       " (3, (5019, 5063), 69),\n",
       " (23, (5004, 5009, 5004), 69),\n",
       " (978, (15060, 5063, 15060, 5001), 68),\n",
       " (128, (5501, 5053, 5052), 68),\n",
       " (1124, (5501, 5032, 5038), 68),\n",
       " (76, (5024, 5038), 68),\n",
       " (689, (5009, 5022, 5009), 68),\n",
       " (386, (-1, 5009), 68),\n",
       " (293, (15060, 5068), 67),\n",
       " (419, (15060, 5063, -2), 67),\n",
       " (477, (5501, 5063, -2), 67),\n",
       " (187, (5068, 15060), 67),\n",
       " (1077, (5068, 5037, 5501), 67),\n",
       " (937, (5063, 5009, -1), 67),\n",
       " (139, (5038, 5043, 5009), 67),\n",
       " (408, (5024, 5032), 67),\n",
       " (152, (5001, -2), 67),\n",
       " (1042, (5072, 5001, 5009, -5), 66),\n",
       " (624, (5063, 5068, 5049), 66),\n",
       " (1165, (-1, 5032, 5053), 66),\n",
       " (465, (5053, 5501), 65),\n",
       " (301, (5021, 15060), 65),\n",
       " (1001, (15108, 5068, 5038, 5009), 64),\n",
       " (533, (5501, 5063, 15060), 64),\n",
       " (288, (5063, 5138), 64),\n",
       " (569, (5063, 5043), 64),\n",
       " (826, (5049, 5081, 5021), 64),\n",
       " (1064, (5038, -2, 5501), 64),\n",
       " (1148, (5032, 5038, 5501), 64),\n",
       " (246, (-1, 5501, 5001), 64),\n",
       " (571, (-1, -2, -1), 64),\n",
       " (19, (5501, 5032), 63),\n",
       " (1134, (5068, 5038, 5032), 63),\n",
       " (53, (5052, 5032), 63),\n",
       " (305, (5009, 5138), 63),\n",
       " (529, (5009, 5006, 5001), 63),\n",
       " (911, (5008, 5001), 63),\n",
       " (825, (15108, 5053, 5501, 5009), 62),\n",
       " (687, (5009, 5038, 5009), 62),\n",
       " (531, (-1, 5009, 5063, -2), 62),\n",
       " (1141, (5049, 15060, 5068), 61),\n",
       " (580, (5032, 5038, 15060), 61),\n",
       " (155, (5009, 5022), 61),\n",
       " (108, (-5, 5001), 61),\n",
       " (267, (5068, 5043), 60),\n",
       " (736, (5053, 5501), 60),\n",
       " (33, (5053, 5036), 60),\n",
       " (190, (5038, 5008), 60),\n",
       " (877, (5037, 5038, 5009), 60),\n",
       " (235, (5021, 5008), 60),\n",
       " (277, (5001, 5038, 5009), 60),\n",
       " (245, (5138, 5038, 5009), 59),\n",
       " (8, (5063, 5004), 59),\n",
       " (393, (5038, 5053, 5001), 59),\n",
       " (268, (5038, 5009, 5032), 59),\n",
       " (211, (5037, 5009), 59),\n",
       " (138, (-1, -2), 59),\n",
       " (544, (5501, 5053, 5501, 5009), 58),\n",
       " (653, (5501, 5038, 5001), 58),\n",
       " (965, (5063, 5097, 15060), 58),\n",
       " (816, (5063, 5068, 5036), 58),\n",
       " (291, (5063, 5038, 5032), 58),\n",
       " (21, (5063, 5009), 58),\n",
       " (767, (5038, 5053, 5032), 58),\n",
       " (724, (5032, 5053), 58),\n",
       " (248, (5501, 5020, 5063), 57),\n",
       " (210, (5038, 5049), 57),\n",
       " (741, (5038, -2, -1), 57),\n",
       " (394, (5032, 5006, 5032), 57),\n",
       " (197, (5024, 5081, 5021), 57),\n",
       " (467, (5009, 5022), 57),\n",
       " (216, (15108, 5138, 5501, 5009), 56),\n",
       " (55, (5501, -1, 5063), 56),\n",
       " (1203, (5063, 15060, 5009), 56),\n",
       " (30, (5052, 5038), 56),\n",
       " (804, (5038, 5043, 5038), 56),\n",
       " (552, (5038, 5036, 5038), 56),\n",
       " (233, (5032, 5043, -1), 56),\n",
       " (272, (5004, 5038), 56),\n",
       " (66, (5001, 5063), 56),\n",
       " (37, (-1, 5063), 56),\n",
       " (1105, (15108, 5053, -1, 5009), 55),\n",
       " (938, (15108, 5038, 5009, 15108), 55),\n",
       " (592, (15108, 5032, 5009), 55),\n",
       " (202, (15108, 5001, 5038), 55),\n",
       " (230, (15060, 5063, 5053), 55),\n",
       " (1228, (5501, 5063, -1), 55),\n",
       " (89, (5501, 5008), 55),\n",
       " (36, (5072, 5001), 55),\n",
       " (980, (5052, 5053, 5052), 55),\n",
       " (170, (5049, 5001), 55),\n",
       " (143, (5038, 5501), 55),\n",
       " (1088, (5501, 5053, -1), 54),\n",
       " (107, (5501, 5024), 54),\n",
       " (156, (5052, 5001), 54),\n",
       " (207, (5045, 5038), 54),\n",
       " (615, (5035, 5038, 5035), 54),\n",
       " (563, (5035, 5032, 5038), 54),\n",
       " (1156, (5022, 5049, 5022), 54),\n",
       " (648, (5009, 5068, 5009, 5038), 54),\n",
       " (10, (5037, 5053), 53),\n",
       " (215, (5032, 5138, 5038), 53),\n",
       " (892, (5032, 5063, 5097, 5063), 53),\n",
       " (676, (5032, 5053, 5043), 53),\n",
       " (119, (5009, 5063), 53),\n",
       " (764, (5001, 5068, 5038), 53),\n",
       " (786, (15108, 5053, 5038, 5009), 52),\n",
       " (413, (5041, 5009), 52),\n",
       " (103, (5035, 5009, 5038), 52),\n",
       " (224, (5032, 5042), 52),\n",
       " (785, (5032, 5038, 5052), 52),\n",
       " (880, (5009, 5038, 5501), 52),\n",
       " (136, (5009, 5006), 52),\n",
       " (182, (5009, 5042), 51),\n",
       " (262, (5006, 15060), 51),\n",
       " (17, (5004, 5009, 5004), 51),\n",
       " (579, (5001, 15060, 5068), 51),\n",
       " (765, (5001, 5009, 5038), 51),\n",
       " (283, (-1, 5068, 5063), 51),\n",
       " (122, (-1, 5006), 51),\n",
       " (476, (5501, 15060, 5063), 50),\n",
       " (15, (5501, 5053, 5501), 50),\n",
       " (561, (5053, 5035), 50),\n",
       " (589, (5053, 5001, 5009), 50),\n",
       " (308, (5043, -1), 50),\n",
       " (784, (5032, 5063, -1, 5038), 50),\n",
       " (52, (5009, 5063), 50),\n",
       " (537, (5009, 5052), 50),\n",
       " (411, (15108, 5138, 5009), 49),\n",
       " (930, (5072, 5001, 5009), 49),\n",
       " (560, (5068, 5097), 49),\n",
       " (1081, (5063, 5053, 5038), 49),\n",
       " (297, (5032, 5081, 5009), 49),\n",
       " (84, (5032, 5036, 5032), 49),\n",
       " (48, (5009, 5063, 5008), 49),\n",
       " (275, (-1, 5053), 49),\n",
       " (881, (5063, -1, 5043), 48),\n",
       " (660, (5043, 15060, 5068), 48),\n",
       " (113, (5038, 5036), 48),\n",
       " (675, (5032, 5138, 5009), 48),\n",
       " (1160, (5032, 5063, 5032, 5053), 48),\n",
       " (564, (5032, 5038), 48),\n",
       " (955, (5009, 5068, 5001), 48),\n",
       " (150, (5009, -1), 48),\n",
       " (115, (5009,), 48),\n",
       " (20, (5001, 5053), 48),\n",
       " (179, (5001, 5049), 48),\n",
       " (92, (-1, 5052), 48),\n",
       " (121, (15108, 5068), 47),\n",
       " (1143, (5501, 5049, 5009), 47),\n",
       " (418, (5501, 5043), 47),\n",
       " (1127, (5501, 5038, 5032), 47),\n",
       " (914, (5102, 5001), 47),\n",
       " (1011, (5068, 5097, 5068), 47),\n",
       " (70, (5053,), 47),\n",
       " (135, (5001, 5068), 47),\n",
       " (489, (5001, 5053, 5001), 47),\n",
       " (231, (-1, 5052), 47),\n",
       " (1094, (15060, 5068, 5038, 5009), 46),\n",
       " (175, (5063, 5037), 46),\n",
       " (395, (5063, 5035), 46),\n",
       " (239, (5053, 5043), 46),\n",
       " (1132, (5038, 5032, 5068), 46),\n",
       " (399, (5032, 5053, 5052), 46),\n",
       " (577, (5024, 15060, 5068), 46),\n",
       " (1025, (5009, 5063, 5035), 46),\n",
       " (368, (15060, 5038), 45),\n",
       " (1207, (5138, 5032, 5063), 45),\n",
       " (1054, (5068, 5063, 5138, 5009), 45),\n",
       " (338, (5043, 5032), 45),\n",
       " (286, (5032, 5038, 5053), 45),\n",
       " (158, (5024, 5501, 5038), 45),\n",
       " (919, (5004, 5063, 5068), 45),\n",
       " (87, (5001, 5008), 45),\n",
       " (164, (-1, 5032), 45),\n",
       " (391, (15108, 5034, 5009), 44),\n",
       " (307, (5072, 5001), 44),\n",
       " (423, (5063, 15060), 44),\n",
       " (846, (5063, 5062, 15060, 5068), 44),\n",
       " (161, (5046, 5009), 44),\n",
       " (758, (5032, 5501, 5032), 44),\n",
       " (574, (5032, 5052, 5038), 44),\n",
       " (986, (5032, 5009, 5001, 5038), 44),\n",
       " (79, (5001, 5052), 44),\n",
       " (410, (-1, 5049), 44),\n",
       " (24, (-1, 5032), 44),\n",
       " (677, (15108, 5068, 15108, 5009), 43),\n",
       " (596, (5501, 5041), 43),\n",
       " (1, (5063, 5009), 43),\n",
       " (226, (5059, 5063), 43),\n",
       " (104, (5035, 5053), 43),\n",
       " (897, (5035, 5038, 5009), 43),\n",
       " (1005, (5032, 5009, 5501), 43),\n",
       " (1187, (5032, 5009, 5049), 43),\n",
       " (611, (5032, 5009, 5001), 43),\n",
       " (120, (5024, 5038, 5049), 43),\n",
       " (316, (5001, 5009), 43),\n",
       " (1222, (5001, 5006, 5001), 43),\n",
       " (941, (15060, 5063, 5020), 42),\n",
       " (160, (5138, 5032), 42),\n",
       " (181, (5083, 5009), 42),\n",
       " (88, (5049, 5022), 42),\n",
       " (1067, (5032, 5501, 5038), 42),\n",
       " (333, (5009, 15060), 42),\n",
       " (1014, (5009, 5501, 5038), 42),\n",
       " (326, (5001, 15108, 5009), 42),\n",
       " (312, (15060, 5063, 5006), 41),\n",
       " (200, (5138, -1), 41),\n",
       " (315, (5063, 5062, 5038), 41),\n",
       " (42, (5058, 5063, 5068), 41),\n",
       " (319, (5053, 5038), 41),\n",
       " (783, (5053, 5001, 5038), 41),\n",
       " (387, (5043, 5042), 41),\n",
       " (950, (5035, 5009, 5063), 41),\n",
       " (221, (5035,), 41),\n",
       " (613, (5032, 5063, 5097, 5032), 41),\n",
       " (86, (5032, 5053), 41),\n",
       " (217, (5032, 5041), 41),\n",
       " (666, (5006, 5001, 5068), 41),\n",
       " (178, (5501, 5081), 40),\n",
       " (436, (5068, 5035), 40),\n",
       " (857, (5063, 15060, 5032), 40),\n",
       " (570, (5049, 5501, 5063), 40),\n",
       " (1133, (5037, 5501, 5038), 40),\n",
       " (110, (5037, 5038), 40),\n",
       " (247, (5024, 5501), 40),\n",
       " (46, (-1, 5043), 40),\n",
       " (148, (-3, 5032, 5063), 40),\n",
       " (850, (15060, 5068, 5138), 39),\n",
       " (73, (15060, 5032, 5009), 39),\n",
       " (572, (5138, 5032), 39),\n",
       " (811, (5063, 5053, 5052), 39),\n",
       " (335, (5053, 5032, 5038), 39),\n",
       " (191, (5009, 5037), 39),\n",
       " (405, (-1, 5051), 39),\n",
       " (332, (5097, 5068), 38),\n",
       " (1168, (5053, 5052, 5009), 38),\n",
       " (71, (5043, 5008), 38),\n",
       " (344, (5034, 15060), 38),\n",
       " (824, (5009, 5081, 5009), 38),\n",
       " (1169, (5009, -1, 5038), 38),\n",
       " (229, (5006,), 38),\n",
       " (22, (5004, 5001), 38),\n",
       " (345, (-1, 5046), 38),\n",
       " (568, (-3, 5501, 5009, -2), 38),\n",
       " (1082, (5501, 5053, -2), 37),\n",
       " (536, (5501, 5038, -2), 37),\n",
       " (350, (5501, 5036), 37),\n",
       " (778, (5501, -1, 5032), 37),\n",
       " (583, (5138, 15060, 5068), 37),\n",
       " (80, (5081, 5021), 37),\n",
       " (116, (5063, 5053, 5032), 37),\n",
       " (198, (5035, 5138), 37),\n",
       " (132, (5032, 5046, 5038), 37),\n",
       " (298, (5009, 5083), 37),\n",
       " (38, (5006, 5001), 37),\n",
       " (743, (-1, 5053, 5038), 37),\n",
       " (1096, (-1, 5032, -2), 37),\n",
       " (466, (15108, 5009, 5035, 5009), 36),\n",
       " (228, (5501, 5035, 5009), 36),\n",
       " (117, (5501, 5024), 36),\n",
       " (374, (5135, 5063), 36),\n",
       " (554, (5053, 5006), 36),\n",
       " (912, (5032, 5081, 5021), 36),\n",
       " (130, (5024, 5049, 5038), 36),\n",
       " (739, (5009, 5063, 5009, 5501), 36),\n",
       " (75, (5001, 5038), 36),\n",
       " (205, (5084,), 35),\n",
       " (212, (5068, 15060), 35),\n",
       " (311, (5063, 5068, 5501), 35),\n",
       " (1180, (5063, 5053, 5501), 35),\n",
       " (390, (5042, 5009), 35),\n",
       " (334, (5038, 5032, 5001), 35),\n",
       " (622, (5038, 5009, 5053), 35),\n",
       " (803, (5038, 5009, 5038), 35),\n",
       " (734, (5032, 5053, 5038, 5501), 35),\n",
       " (243, (5032, 5004), 35),\n",
       " (417, (5032, 5001, 5051), 35),\n",
       " (317, (5001, 5043), 35),\n",
       " (257, (-1, 5058), 35),\n",
       " (361, (-1,), 35),\n",
       " (581, (-2, -3, 5501), 35),\n",
       " (819, (5501, -1, 5052), 34),\n",
       " (972, (5068, 5038, 5043), 34),\n",
       " (1018, (5063, 5068, 5009, -1), 34),\n",
       " (306, (5063, 5001), 34),\n",
       " (996, (5053, 5001, 5063), 34),\n",
       " (669, (5032, 5020, 5063, 5068), 34),\n",
       " (484, (15108, 5068, 5138, 5009), 33),\n",
       " (457, (5501, 5042), 33),\n",
       " (1084, (5501, 5038, 5501, 5053), 33),\n",
       " (402, (5068, 5043, 5038), 33),\n",
       " (244, (5035, 5009), 33),\n",
       " (808, (5032, 5097, 5068, 5063), 33),\n",
       " (1190, (5032, 5009, 5042), 33),\n",
       " (753, (5009, 5138, 5501), 33),\n",
       " (517, (5009, 5068), 33),\n",
       " (186, (), 33),\n",
       " (1116, (5501, 5063, 5051), 32),\n",
       " (302, (5501, 5022, 5009), 32),\n",
       " (314, (5501, 5009), 32),\n",
       " (57, (5063, 5101, 5063), 32),\n",
       " (1004, (5053, 5035, 5009), 32),\n",
       " (376, (5037, 5042), 32),\n",
       " (236, (5036, 5038), 32),\n",
       " (703, (5036, 5032, 5063), 32),\n",
       " (449, (5009, 5063, 5035), 32),\n",
       " (378, (5009, 5022), 32),\n",
       " (147, (5004, 5001, 5004), 32),\n",
       " (6, (15060, 5063, 5101), 31),\n",
       " (372, (5501, 5021, 5052, 5038), 31),\n",
       " (1043, (5063, 5037, 5009), 31),\n",
       " (928, (5053, -1, 5038), 31),\n",
       " (1106, (5052, -1, 5038), 31),\n",
       " (192, (5045, 5052), 31),\n",
       " (756, (5038, 5032), 31),\n",
       " (715, (5038, 5001, 5068), 31),\n",
       " (222, (5035, 5036), 31),\n",
       " (609, (5032, 5138, 5053), 31),\n",
       " (716, (5032, -1, 5043), 31),\n",
       " (309, (5009, 5501, 15060), 31),\n",
       " (681, (5009, 5049), 31),\n",
       " (1114, (5009, 5021, 5032, 5038), 31),\n",
       " (918, (5009, 5001, 5004), 31),\n",
       " (818, (5001, 5035), 31),\n",
       " (397, (-1, 5022), 31),\n",
       " (273, (-1,), 31),\n",
       " (1101, (-2, -1, 5063), 31),\n",
       " (709, (15060, 5068, 5035, 5038), 30),\n",
       " (1087, (5501, 5063, 5053), 30),\n",
       " (149, (5501, 5063), 30),\n",
       " (1034, (5501, -1, -2), 30),\n",
       " (4, (5116, 5063), 30),\n",
       " (431, (5052,), 30),\n",
       " (323, (5049, 5022, -1), 30),\n",
       " (324, (5045, 5001), 30),\n",
       " (732, (5043, 5063, 5068), 30),\n",
       " (377, (5043, 5001), 30),\n",
       " (204, (5042, 5043), 30),\n",
       " (360, (5042, 5038), 30),\n",
       " (991, (5038, 5034, 5038), 30),\n",
       " (404, (5038, 5009), 30),\n",
       " (1097, (5038, -1, 5063, 5068), 30),\n",
       " (384, (5032, 5063, 5101, 15060), 30),\n",
       " (994, (5032, 5063, 5053), 30),\n",
       " (464, (5032, 5046), 30),\n",
       " (712, (5032, 5035, 5038), 30),\n",
       " (483, (5032, 5022), 30),\n",
       " (201, (5009, 5045), 30),\n",
       " (162, (5009, 5038), 30),\n",
       " (498, (5009, 5037), 30),\n",
       " (1240, (5009, 5006, 5063), 30),\n",
       " (1159, (5009, 5001, 5032), 30),\n",
       " (576, (5001, 5049, 5009), 30),\n",
       " (746, (15108, 5006, 5009), 29),\n",
       " (1086, (5501, 5053, -2), 29),\n",
       " (1122, (5501, 5024, 5038), 29),\n",
       " (1226, (5063, 5001), 29),\n",
       " (90, (5053, 5001, -2), 29),\n",
       " (193, (5052, 5053), 29),\n",
       " (430, (5043,), 29),\n",
       " (1151, (5038, 5084, 5032), 29),\n",
       " (701, (5009, 5036), 29),\n",
       " (173, (5001,), 29),\n",
       " (659, (-1,), 29),\n",
       " (866, (15108, 5068, 5009, 5063), 28),\n",
       " (652, (5501, 5008, 5001), 28),\n",
       " (281, (5062,), 28),\n",
       " (706, (5053, 5038, -1), 28),\n",
       " (234, (5049, 5081), 28),\n",
       " (924, (5043, -1), 28),\n",
       " (1044, (5038, 5063, 5501), 28),\n",
       " (415, (5037, 5036), 28),\n",
       " (1144, (5032, 5053, 5038, 5032), 28),\n",
       " (601, (5032, 5037, 5032), 28),\n",
       " (292, (5032, 5022), 28),\n",
       " (285, (5024, 5022, 5021), 28),\n",
       " (565, (5024, 5009, 5038), 28),\n",
       " (463, (5021, 5038), 28),\n",
       " (470, (5009, 5063), 28),\n",
       " (839, (5006, 5063, 5009), 28),\n",
       " (621, (5001, 5063, 5009), 28),\n",
       " (478, (-2, -1, -2), 28),\n",
       " (530, (15108, 5051, 5501, 5009), 27),\n",
       " (280, (5501, 5038, 5043), 27),\n",
       " (650, (5501, -2), 27),\n",
       " (772, (5063, 5042), 27),\n",
       " (847, (5045, 15060, 5068), 27),\n",
       " (1130, (5043, 5032, 5038), 27),\n",
       " (962, (5038, 5068, 15060), 27),\n",
       " (299, (5037,), 27),\n",
       " (77, (5036, 5037), 27),\n",
       " (890, (5032, 5063, 5068, 5051), 27),\n",
       " (968, (5032, 5009, 15060, 5063), 27),\n",
       " (440, (5009, 5081, 5009, 5063), 27),\n",
       " (886, (5009, 5001, 5049), 27),\n",
       " (770, (5001, 5009, 5049), 27),\n",
       " (1213, (15060, 5068, 5063, 5034), 26),\n",
       " (842, (15060, 5063, 5008), 26),\n",
       " (68, (15060,), 26),\n",
       " (213, (5138, 5501), 26),\n",
       " (422, (5083, 5021), 26),\n",
       " (809, (5068, 5038, 5501), 26),\n",
       " (936, (5063, 5008, 5009), 26),\n",
       " (823, (5043, 5052), 26),\n",
       " (705, (5038, 5035, -1), 26),\n",
       " (348, (5032, 5501, 5063), 26),\n",
       " (214, (5032, 5037), 26),\n",
       " (1110, (5032, 5009, 5032, 5501), 26),\n",
       " (1135, (5009, 5036, 5038), 26),\n",
       " (134, (5006, 5008), 26),\n",
       " (258, (-1, 5035), 26),\n",
       " (13, (), 26),\n",
       " (1235, (15108, 5001, 5006), 25),\n",
       " (94, (5501, 5035), 25),\n",
       " (794, (5501, 5006, 5009), 25),\n",
       " (793, (5501,), 25),\n",
       " (382, (5063, 5049), 25),\n",
       " (144, (5051, 5009), 25),\n",
       " (925, (5038, 5053, -1), 25),\n",
       " (642, (5036, 15060, 5068), 25),\n",
       " (898, (5035, 5009, 5068), 25),\n",
       " (300, (5032, 5036), 25),\n",
       " (949, (5024, 5049, 5006), 25),\n",
       " (863, (5022,), 25),\n",
       " (396, (5021, 5009), 25),\n",
       " (322, (5021, -1), 25),\n",
       " (988, (5009, 5049, 5022), 25),\n",
       " (655, (5004, 5063, 5009), 25),\n",
       " (942, (5501, 5138, 5501, 5063), 24),\n",
       " (774, (5501, 5053, 5037), 24),\n",
       " (91, (5501, 5046), 24),\n",
       " (737, (5501, 5021, 5038), 24),\n",
       " (97, (5138, 5035), 24),\n",
       " (997, (5068, 5009, 5052), 24),\n",
       " (1024, (5063, 5068, 5006), 24),\n",
       " (514, (5038, 5052, 5038), 24),\n",
       " (174, (5036, 5053, 5038), 24),\n",
       " (169, (5032, 5081), 24),\n",
       " (123, (5032,), 24),\n",
       " (614, (5009, 5036), 24),\n",
       " (407, (5009, 5004, 5063), 24),\n",
       " (832, (5008, 5032), 24),\n",
       " (185, (5001, 5037), 24),\n",
       " (878, (5501, 5051, 5038), 23),\n",
       " (1053, (5501, 5035, 5138, -1), 23),\n",
       " (462, (5501, 5009), 23),\n",
       " (504, (5138, 5053), 23),\n",
       " (166, (5084, 5038), 23),\n",
       " (227, (5053, 5032, 5501), 23),\n",
       " (1015, (5038, 5052, 5009), 23),\n",
       " (585, (5038, 5036, 5032), 23),\n",
       " (392, (5035,), 23),\n",
       " (834, (5034, 15060, 5068), 23),\n",
       " (813, (5032, 5063, -2, -1), 23),\n",
       " (112, (5032, 5045, 5001), 23),\n",
       " (1057, (5032, 5038, 5001, 5038), 23),\n",
       " (1195, (5032, 5009, 15108), 23),\n",
       " (751, (5009, 5006, 5009), 23),\n",
       " (721, (5009, -1, 5009), 23),\n",
       " (1095, (15060, 5062, 5032), 22),\n",
       " (871, (5501, -5, 5001), 22),\n",
       " (1236, (5072, 5001, 5036, 5009), 22),\n",
       " (707, (5063, -1, 5053), 22),\n",
       " (177, (5053, 5049), 22),\n",
       " (966, (5038, 15060, 5062), 22),\n",
       " (586, (5032, 5063, 5062, 5032), 22),\n",
       " (1188, (5032, 5009, 5038), 22),\n",
       " (1038, (5009, 5022, 5038), 22),\n",
       " (632, (5001,), 22),\n",
       " (29, (-1, 5063, 5062), 22),\n",
       " (948, (-1, 5035), 22),\n",
       " (1140, (-1, 5009), 22),\n",
       " (548, (-1,), 22),\n",
       " (973, (15060, 5068, 5042, 5043), 21),\n",
       " (876, (5501, 5037, -1), 21),\n",
       " (649, (5501, 5035, -1), 21),\n",
       " (704, (5138, 5036, 5009), 21),\n",
       " (264, (5072, 5001), 21),\n",
       " (674, (5068, 5009, 5081), 21),\n",
       " (995, (5068, -5, 5001), 21),\n",
       " (528, (5038, 5063, 5038), 21),\n",
       " (195, (5036, -1), 21),\n",
       " (502, (5035, 5053), 21),\n",
       " (814, (5034, 5053), 21),\n",
       " (969, (5032, 5022, -1), 21),\n",
       " (1142, (5024, 5038, 5009), 21),\n",
       " (346, (5009, 5049), 21),\n",
       " (957, (5009, 5006, 5035), 21),\n",
       " (252, (5008, 5053), 21),\n",
       " (931, (5001, 5008, 5009), 21),\n",
       " (726, (-1, 5009), 21),\n",
       " (782, (-1, 5001, 5006), 21),\n",
       " (1065, (5501, 5068), 20),\n",
       " (1212, (5501, 5052, -1), 20),\n",
       " (740, (5501, 5036, 5038), 20),\n",
       " (352, (5083, 5063, 5068), 20),\n",
       " (633, (5068, 5037), 20),\n",
       " (278, (5063, 15060), 20),\n",
       " (1023, (5063, 5009, 5049), 20),\n",
       " (400, (5053, 5034), 20),\n",
       " (1035, (5053, 5021), 20),\n",
       " (1231, (5053, 5001, 5006), 20),\n",
       " (976, (5049, 5001, 5068), 20),\n",
       " (523, (5036, 5009, 5038), 20),\n",
       " (131, (5035, 5008), 20),\n",
       " (1245, (5032, 5068, 5063, 5053), 20),\n",
       " (999, (5009, 5063, 5037), 20),\n",
       " (455, (5009, 5008, 5009), 20),\n",
       " (975, (5009, 5001, 5009), 20),\n",
       " (921, (5009,), 20),\n",
       " (604, (5001, 5063, 15060), 20),\n",
       " (612, (5001, 5063, -1), 20),\n",
       " (630, (5001, 5009, 5081), 20),\n",
       " (944, (-1, 5501, 5068, -2), 20),\n",
       " (171, (-1, 5081, 5009), 20),\n",
       " (875, (-5, 5001, 5068), 20),\n",
       " (763, (-5, 5001), 20),\n",
       " (255, (15108, 5068, 5032, 5009), 19),\n",
       " (902, (5501, 5038, 5035), 19),\n",
       " (28, (5501, 5006), 19),\n",
       " (72, (5084, 5035), 19),\n",
       " (1152, (5084, 5032, 5038), 19),\n",
       " (910, (5053, 5001, 5008), 19),\n",
       " (427, (5052, 5501), 19),\n",
       " (761, (5049, 5022, 5063), 19),\n",
       " (157, (5043, 5006), 19),\n",
       " (628, (5042, -1, 5042), 19),\n",
       " (883, (5032, 5063, 5037), 19),\n",
       " (349, (5032, 5051, -2), 19),\n",
       " (771, (5032, 5049), 19),\n",
       " (151, (5021, 5053), 19),\n",
       " (993, (5009, 5063, 5081), 19),\n",
       " (1155, (5009, 5049, 5501), 19),\n",
       " (1217, (5009, 5036, 5009), 19),\n",
       " (274, (5006, 5036, 5009), 19),\n",
       " (356, (5001, 5038, -5), 19),\n",
       " (412, (5001, 5009), 19),\n",
       " (920, (-1, 5063, 5053), 19),\n",
       " (1090, (5501, 5053, 5045), 18),\n",
       " (894, (5068, 5063, 5037), 18),\n",
       " (253, (5063, 5068, 5046, -1), 18),\n",
       " (439, (5053, 5138, 5501), 18),\n",
       " (453, (5038, 5501, 5008), 18),\n",
       " (251, (5038, 5001, 5004), 18),\n",
       " (1048, (5036, 5009), 18),\n",
       " (904, (5035, 5009, 5035), 18),\n",
       " (901, (5032, 5063, 5035), 18),\n",
       " (271, (5032, 5049), 18),\n",
       " (340, (5032,), 18),\n",
       " (884, (5009, 5063, 5097), 18),\n",
       " (1214, (5009, 5022), 18),\n",
       " (923, (5009, 5004, 5038), 18),\n",
       " (1219, (5001, 5038, 5001), 18),\n",
       " (766, (5001, 5038, -1), 18),\n",
       " (1103, (-1, 5068, 5009, -2), 18),\n",
       " (610, (-1, 5063, 5032), 18),\n",
       " (490, (-1, 5052, 5053), 18),\n",
       " (480, (-1, 5036, 5038), 18),\n",
       " (600, (-2, 5063, 5068), 18),\n",
       " (482, (15108, 5036, 5032, 5009), 17),\n",
       " (434, (5501, 5023, 5501, 5022), 17),\n",
       " (493, (5501, 5001), 17),\n",
       " (238, (5501, -2, 5032), 17),\n",
       " (446, (5063, 5084, 5501), 17),\n",
       " (693, (5053, -1), 17),\n",
       " (1104, (5043, 5051), 17),\n",
       " (1098, (5043, 5009, -1), 17),\n",
       " (249, (5038, -1), 17),\n",
       " (708, (5035,), 17),\n",
       " (1178, (5032, 5038, 5032, 5037), 17),\n",
       " (1060, (5032, 5006, 5036), 17),\n",
       " (1136, (5024, 5038, 5053), 17),\n",
       " (284, (5009, 5051, 5049), 17),\n",
       " (874, (5006, 5032), 17),\n",
       " (954, (5004, 5063, 5038), 17),\n",
       " (1002, (5001, 5068, 5097, 5063), 17),\n",
       " (817, (5001, 5036, 5009), 17),\n",
       " (870, (5001, 5009, 5053, 5001), 17),\n",
       " (196, (-1, 5006, 5001), 17),\n",
       " (663, (-1, 5006), 17),\n",
       " (451, (-1, 5001), 17),\n",
       " (232, (15108, 5063, 15108), 16),\n",
       " (424, (15060, 5068, 5041), 16),\n",
       " (416, (15060,), 16),\n",
       " (678, (5501, 5049, -1), 16),\n",
       " (505, (5501, 5032, -2), 16),\n",
       " (879, (5138, 5052), 16),\n",
       " (1040, (5084, 5068), 16),\n",
       " (829, (5081, 5021, -1), 16),\n",
       " (254, (5068, 15060), 16),\n",
       " (710, (5063, 5138, 5032), 16),\n",
       " (461, (5053, 5042, 5053), 16),\n",
       " (587, (5052, 5053, 5032), 16),\n",
       " (479, (5038, 15085), 16),\n",
       " (429, (5038, 5021), 16),\n",
       " (643, (5035, 15060, 5068), 16),\n",
       " (1170, (5032, 5068, 5038), 16),\n",
       " (294, (5032, 5043), 16),\n",
       " (559, (5024, 5138), 16),\n",
       " (754, (5009, 5068, 5138), 16),\n",
       " (956, (5009, 5063, 5084), 16),\n",
       " (287, (5009, 5062, 15060), 16),\n",
       " (183, (5009, 5035, 5063, 5068), 16),\n",
       " (347, (5001, 5042), 16),\n",
       " (43, (-1, 15060, 5032), 16),\n",
       " (711, (-1, 5053, 5032), 16),\n",
       " (125, (-1, 5036), 16),\n",
       " (1093, (5501, 5053, 5004), 15),\n",
       " (1224, (5501, 5004), 15),\n",
       " (1198, (5084, 5063, 5009), 15),\n",
       " (133, (5084, 5032), 15),\n",
       " (472, (5081,), 15),\n",
       " (854, (5053, 5042, 5038), 15),\n",
       " (145, (5052, 5009), 15),\n",
       " (126, (5049, 5008), 15),\n",
       " (438, (5045, 5043), 15),\n",
       " (518, (5043, 5042, 5043), 15),\n",
       " (447, (5038,), 15),\n",
       " (69, (5036, 5501), 15),\n",
       " (688, (5035, 5009, 5059), 15),\n",
       " (373, (5034,), 15),\n",
       " (259, (5032, 5059, 15060), 15),\n",
       " (982, (5032, 5052, 5053), 15),\n",
       " (379, (5032, 5043, 5032), 15),\n",
       " (869, (5032, 5004, 5038), 15),\n",
       " (1089, (5022, 15060, 5068), 15),\n",
       " (800, (5009, 5084), 15),\n",
       " (1249, (5009, 5021, 5053, 5001), 15),\n",
       " (371, (5008, 5063, 5008), 15),\n",
       " (840, (5004, 5006), 15),\n",
       " (313, (-1, 5053, 5138), 15),\n",
       " (907, (5501, 5052, 5138), 14),\n",
       " (534, (5501, 5038, 5068), 14),\n",
       " (602, (5501, 5006, 5501), 14),\n",
       " (985, (5501, 5001, -2), 14),\n",
       " (16, (5501, -1, 5138), 14),\n",
       " (775, (5501, -1, 5036), 14),\n",
       " (658, (5068, -2, 5501), 14),\n",
       " (1225, (5063, 5036), 14),\n",
       " (118, (5049, 5023, 5009), 14),\n",
       " (1022, (5049, 5022), 14),\n",
       " (456, (5038, 5001, 5006), 14),\n",
       " (860, (5037, 5037), 14),\n",
       " (827, (5035, 5021), 14),\n",
       " (1008, (5032, 5053, 5037), 14),\n",
       " (762, (5032, 5053, 5004), 14),\n",
       " (929, (5032, 5052, 5008), 14),\n",
       " (1149, (5032, 5042), 14),\n",
       " (810, (5032, -1, 5052), 14),\n",
       " (845, (5024, 5103, 5102, 5098), 14),\n",
       " (56, (5009, 5053), 14),\n",
       " (727, (5009, 5046, -1), 14),\n",
       " (872, (5009, 5001, 5053), 14),\n",
       " (989, (5009, 5001, 5052), 14),\n",
       " (773, (5006, 5049), 14),\n",
       " (1009, (5004, 5001), 14),\n",
       " (546, (-1, 5081, 5021), 14),\n",
       " (85, (-1, 5009), 14),\n",
       " (401, (-4, 5501, 5038, -2), 14),\n",
       " (499, (), 14),\n",
       " (856, (15060, 5001), 13),\n",
       " (1039, (5501, 15060, 5042, 5038), 13),\n",
       " (454, (5501, 5081, 5021, 5038), 13),\n",
       " (702, (5501, 5038, 5006), 13),\n",
       " (946, (5501, 5022, 5022), 13),\n",
       " (908, (5501, 5001, 5008, 5001), 13),\n",
       " (353, (5084, 5501, 5038), 13),\n",
       " (375, (5084, 5038, 5084), 13),\n",
       " (146, (5083,), 13),\n",
       " (873, (5072, 5001, 5038), 13),\n",
       " (337, (5063, 5037, 5001), 13),\n",
       " (617, (5053, 5052, 5138, 5038), 13),\n",
       " (318, (5053, 5006), 13),\n",
       " (1016, (5052, 5009, 5037), 13),\n",
       " (270, (5051, 5043), 13),\n",
       " (494, (5038, 5049, 5001), 13),\n",
       " (1167, (5038, 5032, 5053), 13),\n",
       " (542, (5037, -1, 5053), 13),\n",
       " (971, (5035, 5038, 5043), 13),\n",
       " (1085, (5035, 5032, 5053), 13),\n",
       " (698, (5032, 5084, 5009), 13),\n",
       " (635, (5032, 5063, 5084, 5009), 13),\n",
       " (1200, (5032, 5049, 5032, 5063), 13),\n",
       " (1204, (5032, 5042), 13),\n",
       " (584, (5032, 5036, 5045), 13),\n",
       " (647, (5032,), 13),\n",
       " (519, (5024, 5021, 5006), 13),\n",
       " (1247, (5020, 5063, 5009), 13),\n",
       " (755, (5009, 5052, 5038, 5009), 13),\n",
       " (1108, (5009, 5037, -1), 13),\n",
       " (550, (5009, -1, 5053), 13),\n",
       " (867, (5009, -1, 5032), 13),\n",
       " (1061, (5006, 5063, 5006), 13),\n",
       " (940, (5006, 5009), 13),\n",
       " (616, (5006, 5008, 5004), 13),\n",
       " (1221, (-1, 5001, 5032), 13),\n",
       " (903, (-3, 5501, 5032), 13),\n",
       " (1241, (15108, -1, 5049, 5009), 12),\n",
       " (1246, (15060, 5063, 5037), 12),\n",
       " (1174, (15060, 5062, 5068), 12),\n",
       " (1242, (5501, 5063, 5081), 12),\n",
       " (672, (5501, 5053, 5038, 5053), 12),\n",
       " (646, (5501, -1, 5037), 12),\n",
       " (1037, (5138, 5045, 5020, 5009), 12),\n",
       " (1049, (5084, 5063, 5084), 12),\n",
       " (409, (5084, 5049, 5009), 12),\n",
       " (720, (5063, 5009, 5068), 12),\n",
       " (206, (5049, 5081), 12),\n",
       " (220, (5049, 5004), 12),\n",
       " (1113, (5043, 5053, 5043), 12),\n",
       " (320, (5041, 5052), 12),\n",
       " (599, (5038, 15060, 5009), 12),\n",
       " (556, (5032, 5038, 5043), 12),\n",
       " (735, (5024, -1, 5024), 12),\n",
       " (777, (5022, 5038, 5022), 12),\n",
       " (342, (5022,), 12),\n",
       " (445, (5021, 5043), 12),\n",
       " (1216, (5009, 5006), 12),\n",
       " (922, (5008, 5009), 12),\n",
       " (250, (5006, 5021), 12),\n",
       " (159, (5006,), 12),\n",
       " (223, (-1, 5037, 5032), 12),\n",
       " (1021, (-1,), 12),\n",
       " (887, (15060, 5006, 5049, 5006), 11),\n",
       " (497, (5501, 5083, 5038), 11),\n",
       " (1012, (5501, 5068, 15060, 5501), 11),\n",
       " (862, (5501, 5049, 5001, 5009, 5022), 11),\n",
       " ...]"
      ]
     },
     "execution_count": 119,
     "metadata": {},
     "output_type": "execute_result"
    }
   ],
   "source": [
    "cluster_list"
   ]
  },
  {
   "cell_type": "code",
   "execution_count": 95,
   "metadata": {},
   "outputs": [
    {
     "name": "stdout",
     "output_type": "stream",
     "text": [
      "CPU times: user 4.76 s, sys: 3.19 ms, total: 4.76 s\n",
      "Wall time: 4.76 s\n"
     ]
    }
   ],
   "source": [
    "%%time\n",
    "ris = find_useful_cluster(user, user_reduce, y, level=0.6)\n",
    "#ris = find_useful_cluster(user, user_reduce, y, level=0, min_user=0, min_tratte=0)"
   ]
  },
  {
   "cell_type": "code",
   "execution_count": 128,
   "metadata": {},
   "outputs": [
    {
     "name": "stdout",
     "output_type": "stream",
     "text": [
      "66 65\n"
     ]
    }
   ],
   "source": [
    "temp =[get_rappresentante(r[0], user, user_reduce, y, matrix, level=0.6) for r in ris]\n",
    "print(len(temp), len(set(temp)))\n",
    "#Counter(temp)\n"
   ]
  },
  {
   "cell_type": "code",
   "execution_count": 132,
   "metadata": {
    "scrolled": false
   },
   "outputs": [
    {
     "name": "stdout",
     "output_type": "stream",
     "text": [
      "Numero cluster: 66\n",
      "id: 327 n_user: 4264 ('f.te nove', 'murano', 'burano')\n",
      "id: 638 n_user: 3201 ('murano', 'burano', 'f.te nove')\n",
      "id: 7 n_user: 2953 ('murano', 'burano', 'murano')\n",
      "id: 27 n_user: 2916 ('ferrovia', 'murano', 'burano')\n",
      "id: 590 n_user: 2616 ('p.le roma', 'murano', 'burano')\n",
      "id: 1073 n_user: 2039 ('f.te nove', 'burano', 'murano')\n",
      "id: 662 n_user: 2011 ('murano', 'burano', 'rialto')\n",
      "id: 607 n_user: 1861 ('s. zaccaria', 'murano', 'burano')\n",
      "id: 664 n_user: 1593 ('s. zaccaria', 'murano', 'burano', 's. zaccaria')\n",
      "id: 671 n_user: 1575 ('burano', 'murano', 's. zaccaria')\n",
      "id: 797 n_user: 1242 ('ferrovia', 'f.te nove', 'burano')\n",
      "id: 578 n_user: 1189 ('ferrovia', 's. zaccaria', 'murano')\n",
      "id: 532 n_user: 1089 ('s. zaccaria', 'murano', 's. zaccaria')\n",
      "id: 547 n_user: 729 ('murano', 'burano', 'lido')\n",
      "id: 730 n_user: 686 ('murano', 'torcello', 'burano')\n",
      "id: 1192 n_user: 655 ('f.te nove', 'burano', 'f.te nove')\n",
      "id: 620 n_user: 616 ('TERRA', 'p.le roma', 'murano', 'burano')\n",
      "id: 1199 n_user: 588 ('murano', 'burano', 'torcello')\n",
      "id: 636 n_user: 587 ('s. zaccaria', 'burano', 'murano')\n",
      "id: 691 n_user: 545 ('murano', 'burano', 'ca oro')\n",
      "id: 331 n_user: 502 ('p.le roma', 'rialto', 'p.le roma')\n",
      "id: 759 n_user: 495 ('ferrovia', 'rialto', 'ferrovia')\n",
      "id: 488 n_user: 460 ('f.te nove', 'burano', 'rialto')\n",
      "id: 1232 n_user: 449 ('sabbioni', 'burano', 'torcello', 'murano')\n",
      "id: 1189 n_user: 445 ('s. zaccaria', 'burano', 's. zaccaria')\n",
      "id: 634 n_user: 439 ('ferrovia', 'murano', 'ferrovia')\n",
      "id: 917 n_user: 431 ('s. zaccaria', 'murano', 'rialto')\n",
      "id: 1128 n_user: 421 ('ferrovia', 'rialto', 's. zaccaria')\n",
      "id: 266 n_user: 416 ('f.te nove', 'murano', 's. zaccaria')\n",
      "id: 851 n_user: 393 ('p.le roma', 'rialto', 's. zaccaria')\n",
      "id: 776 n_user: 359 ('ferrovia', 'murano', 'burano', 'TERRA')\n",
      "id: 603 n_user: 357 ('p.le roma', 's. zaccaria', 'p.le roma')\n",
      "id: 501 n_user: 357 ('sabbioni', 'burano', 'murano', 'burano')\n",
      "id: 549 n_user: 350 ('rialto', 's. zaccaria', 'murano')\n",
      "id: 558 n_user: 344 ('rialto', 'ferrovia', 'murano')\n",
      "id: 769 n_user: 333 ('murano', 'burano', 'murano', 'rialto')\n",
      "id: 328 n_user: 320 ('f.te nove', 'torcello', 'burano', 'murano')\n",
      "id: 208 n_user: 310 ('f.te nove', 'murano', 'rialto')\n",
      "id: 51 n_user: 310 ('TERRA', 'f.te nove', 'burano')\n",
      "id: 67 n_user: 309 ('ferrovia', 'murano', 'burano')\n",
      "id: 516 n_user: 306 ('f.te nove', 'murano', 'f.te nove')\n",
      "id: 1158 n_user: 291 ('s. zaccaria', 'burano', 'f.te nove')\n",
      "id: 831 n_user: 290 ('ferrovia', 'burano', 'murano')\n",
      "id: 1139 n_user: 288 ('TERRA', 's. zaccaria', 'murano')\n",
      "id: 888 n_user: 278 ('burano', 'murano', 'f.te nove')\n",
      "id: 697 n_user: 277 ('f.te nove', 'burano', 'torcello', 'murano')\n",
      "id: 355 n_user: 272 ('lido', 'burano', 'murano')\n",
      "id: 1157 n_user: 259 ('ferrovia', 'murano', 's. zaccaria')\n",
      "id: 631 n_user: 257 ('s. zaccaria', 'lido', 's. zaccaria')\n",
      "id: 837 n_user: 248 ('lido', 'f.te nove', 'murano')\n",
      "id: 625 n_user: 240 ('s. zaccaria', 'lido', 'burano')\n",
      "id: 1147 n_user: 239 ('f.te nove', 'burano', 's. zaccaria')\n",
      "id: 398 n_user: 238 ('sabbioni', 's. zaccaria', 'sabbioni')\n",
      "id: 692 n_user: 235 ('murano', 'rialto', 's. zaccaria')\n",
      "id: 296 n_user: 235 ('ferrovia', 's. zaccaria', 'ferrovia')\n",
      "id: 141 n_user: 235 ('ferrovia', 'rialto', 'TERRA')\n",
      "id: 841 n_user: 226 ('f.te nove', 'cimitero s. michele', 'murano')\n",
      "id: 1126 n_user: 222 ('rialto', 'ferrovia', 'rialto')\n",
      "id: 858 n_user: 222 ('f.te nove', 'burano', 'ca oro')\n",
      "id: 567 n_user: 222 ('rialto', 'murano', 'burano')\n",
      "id: 1150 n_user: 221 ('murano', 'burano', 'ferrovia')\n",
      "id: 1109 n_user: 220 ('murano', 'burano', 's. marcuola-casino')\n",
      "id: 295 n_user: 219 ('ferrovia', 'murano', 'f.te nove')\n",
      "id: 1179 n_user: 215 ('s. zaccaria', 'murano', 'ferrovia')\n",
      "id: 670 n_user: 215 ('sabbioni', 'burano', 'murano')\n",
      "id: 460 n_user: 206 ('ferrovia', 's. zaccaria', 'burano')\n"
     ]
    }
   ],
   "source": [
    "temp_ris=[ (b,a,c) for a,b,c in ris]\n",
    "temp_ris.sort(reverse=True)\n",
    "print(\"Numero cluster:\", len(temp_ris))\n",
    "cluster_list = []\n",
    "for n_user, id_, coppie in temp_ris:\n",
    "    rap = tuple([stop[f][0] for f in get_rappresentante(id_, user, user_reduce, y, matrix, level=0.6)])\n",
    "    print('id:', id_, 'n_user:', n_user, rap)\n",
    "    cluster_list.append((id_, n_user, rap))"
   ]
  },
  {
   "cell_type": "code",
   "execution_count": 121,
   "metadata": {},
   "outputs": [
    {
     "data": {
      "text/plain": [
       "(327, (15060, 5063, 5068), 4264)"
      ]
     },
     "execution_count": 121,
     "metadata": {},
     "output_type": "execute_result"
    }
   ],
   "source": [
    "cluster_list[0]"
   ]
  },
  {
   "cell_type": "code",
   "execution_count": 98,
   "metadata": {},
   "outputs": [],
   "source": [
    "###### fasce orarie #####"
   ]
  },
  {
   "cell_type": "code",
   "execution_count": 99,
   "metadata": {},
   "outputs": [],
   "source": [
    "fasce = np.array([(0,0), (6,0), (10,15), (12,0), (14,0), (15,45),(17,45), (20,0), (23,59)])\n",
    "\n",
    "# restituisce la fascia oraria data una data\n",
    "def hour_step(d):\n",
    "    m = d.hour*60+d.minute\n",
    "    f = fasce[:,0]*60+ fasce[:,1]\n",
    "    return len(f) - (f>=m).sum()"
   ]
  },
  {
   "cell_type": "code",
   "execution_count": 100,
   "metadata": {},
   "outputs": [],
   "source": [
    "# dato un utente e un rappresentante crea il vettore che lo rappresenta. Il vettore ha dimensione pari al rappresentante\n",
    "def get_user_time_vect(user, rap):\n",
    "    ris=np.zeros(len(rap), dtype='i2')-1\n",
    "    f_list=[f for d,f in user]\n",
    "    seq = lcs(f_list, rap)\n",
    "    \n",
    "    for f,m,n in seq:\n",
    "        ris[n]=hour_step(user[m][0])\n",
    "        #d=user[m][0]\n",
    "        #ris[n]= d.hour*60+d.minute\n",
    "        \n",
    "    #punto critico!!!! #avviene quando user non ha fatto tutte le fermate del rappresentante\n",
    "    for i in range(len(rap)):\n",
    "        if ris[i]==-1:\n",
    "            if i==0:\n",
    "                temp=-1\n",
    "                j=0\n",
    "                while temp == -1 and j<len(rap)-1:\n",
    "                    temp=ris[j+1]\n",
    "                    j+=1\n",
    "                ris[i]=temp\n",
    "            else:\n",
    "                ris[i]=ris[i-1]    \n",
    "   \n",
    "    return ris\n",
    "    "
   ]
  },
  {
   "cell_type": "code",
   "execution_count": 101,
   "metadata": {},
   "outputs": [
    {
     "data": {
      "text/plain": [
       "460"
      ]
     },
     "execution_count": 101,
     "metadata": {},
     "output_type": "execute_result"
    }
   ],
   "source": [
    "id_"
   ]
  },
  {
   "cell_type": "code",
   "execution_count": 102,
   "metadata": {},
   "outputs": [],
   "source": [
    "# restituisce lista dei vettori di ciascun utente del cluster\n",
    "def get_cluster_time_vect(id_, all_user,user,  user_reduce,y, mat, level=0.6):\n",
    "    rap = get_rappresentante(id_, user, user_reduce, y, matrix, level=0.6)\n",
    "    print(rap)\n",
    "    user_c = set([u for i,u in enumerate(user_reduce) if y[i]==id_])\n",
    "        \n",
    "    temp = [ tuple([(d,f_title(f)) for d,f in u]) for u in all_user]\n",
    "    temp = clean_user(temp, True)\n",
    "    temp = [u for u in temp if len(u) in (4,5)]\n",
    "    \n",
    "    print(len(temp))\n",
    "    \n",
    "    all_u=[]\n",
    "                   \n",
    "    for u in temp:\n",
    "        a = tuple([b[1] for b in u])\n",
    "        if a in user_c:\n",
    "            all_u.append(u)\n",
    "            \n",
    "    print(len(all_u))\n",
    "            \n",
    "    vet = np.zeros((len(all_u), len(rap)), dtype = 'i2')\n",
    "    \n",
    "    index =0 \n",
    "    for u in all_u:\n",
    "        vet[index]=get_user_time_vect(u, rap)\n",
    "        index+=1\n",
    "            \n",
    "    return vet\n",
    "        \n",
    "    "
   ]
  },
  {
   "cell_type": "code",
   "execution_count": 103,
   "metadata": {},
   "outputs": [],
   "source": [
    "t= [k for k,v in titoli.items() if v[1]==1]\n",
    "all_user = []\n",
    "for tit in t:\n",
    "    all_user+=validazioni[tit]"
   ]
  },
  {
   "cell_type": "code",
   "execution_count": 104,
   "metadata": {},
   "outputs": [
    {
     "name": "stdout",
     "output_type": "stream",
     "text": [
      "(5501, 5068)\n",
      "104808\n",
      "129\n",
      "0\n",
      "CPU times: user 874 ms, sys: 14.5 ms, total: 889 ms\n",
      "Wall time: 887 ms\n"
     ]
    }
   ],
   "source": [
    "%%time\n",
    "cont=0\n",
    "x = get_cluster_time_vect(34, all_user,user, user_reduce, new_y, matrix)\n",
    "print(cont)"
   ]
  },
  {
   "cell_type": "code",
   "execution_count": 105,
   "metadata": {},
   "outputs": [],
   "source": [
    "from sklearn.cluster import KMeans\n",
    "from sklearn.metrics import silhouette_score"
   ]
  },
  {
   "cell_type": "code",
   "execution_count": 106,
   "metadata": {},
   "outputs": [
    {
     "name": "stdout",
     "output_type": "stream",
     "text": [
      "Numero utenti: 129\n",
      "Tratta: ['lido', 'murano']\n",
      "0.5262188229654872\n",
      "[2 4] 38 0.29\n",
      "[4 6] 30 0.23\n",
      "[3 5] 45 0.35\n",
      "[8 4] 5 0.04\n",
      "[5 7] 11 0.09\n"
     ]
    }
   ],
   "source": [
    "kmeans = KMeans(n_clusters=5, random_state=0).fit(x)\n",
    "time_y=kmeans.labels_\n",
    "\n",
    "cl=66 #aggiunto \n",
    "rap=get_rappresentante(cl, user, user_reduce, y, matrix, level=0.6)\n",
    "\n",
    "print('Numero utenti:', len(time_y))\n",
    "print('Tratta:', [stop[f][0] for f in rap])\n",
    "print(silhouette_score(x, time_y, metric='euclidean'))\n",
    "temp = np.rint(kmeans.cluster_centers_).astype('i2')\n",
    "time_y_c = Counter(time_y)\n",
    "for i, center in enumerate(temp):\n",
    "    print(center, time_y_c[i], round(time_y_c[i]/len(time_y),2))"
   ]
  },
  {
   "cell_type": "code",
   "execution_count": null,
   "metadata": {},
   "outputs": [],
   "source": []
  },
  {
   "cell_type": "markdown",
   "metadata": {},
   "source": [
    "# Preparazione dataset per visualizzazione di traiettorie"
   ]
  },
  {
   "cell_type": "code",
   "execution_count": 268,
   "metadata": {},
   "outputs": [
    {
     "data": {
      "text/html": [
       "<div>\n",
       "<style scoped>\n",
       "    .dataframe tbody tr th:only-of-type {\n",
       "        vertical-align: middle;\n",
       "    }\n",
       "\n",
       "    .dataframe tbody tr th {\n",
       "        vertical-align: top;\n",
       "    }\n",
       "\n",
       "    .dataframe thead th {\n",
       "        text-align: right;\n",
       "    }\n",
       "</style>\n",
       "<table border=\"1\" class=\"dataframe\">\n",
       "  <thead>\n",
       "    <tr style=\"text-align: right;\">\n",
       "      <th></th>\n",
       "      <th>id_stop</th>\n",
       "      <th>name_stop</th>\n",
       "      <th>lat</th>\n",
       "      <th>lon</th>\n",
       "    </tr>\n",
       "  </thead>\n",
       "  <tbody>\n",
       "    <tr>\n",
       "      <th>0</th>\n",
       "      <td>5501</td>\n",
       "      <td>p.le roma</td>\n",
       "      <td>45.438667</td>\n",
       "      <td>12.319465</td>\n",
       "    </tr>\n",
       "    <tr>\n",
       "      <th>1</th>\n",
       "      <td>15060</td>\n",
       "      <td>f.te nove</td>\n",
       "      <td>45.443016</td>\n",
       "      <td>12.340888</td>\n",
       "    </tr>\n",
       "    <tr>\n",
       "      <th>2</th>\n",
       "      <td>15085</td>\n",
       "      <td>tre archi</td>\n",
       "      <td>45.446289</td>\n",
       "      <td>12.319780</td>\n",
       "    </tr>\n",
       "    <tr>\n",
       "      <th>3</th>\n",
       "      <td>15108</td>\n",
       "      <td>sabbioni</td>\n",
       "      <td>45.447338</td>\n",
       "      <td>12.424333</td>\n",
       "    </tr>\n",
       "    <tr>\n",
       "      <th>4</th>\n",
       "      <td>5001</td>\n",
       "      <td>lido</td>\n",
       "      <td>45.417992</td>\n",
       "      <td>12.368725</td>\n",
       "    </tr>\n",
       "    <tr>\n",
       "      <th>...</th>\n",
       "      <td>...</td>\n",
       "      <td>...</td>\n",
       "      <td>...</td>\n",
       "      <td>...</td>\n",
       "    </tr>\n",
       "    <tr>\n",
       "      <th>69</th>\n",
       "      <td>-3</td>\n",
       "      <td>Stazione Mestre</td>\n",
       "      <td>45.482675</td>\n",
       "      <td>12.231809</td>\n",
       "    </tr>\n",
       "    <tr>\n",
       "      <th>70</th>\n",
       "      <td>-4</td>\n",
       "      <td>Aeroporto</td>\n",
       "      <td>45.504976</td>\n",
       "      <td>12.339106</td>\n",
       "    </tr>\n",
       "    <tr>\n",
       "      <th>71</th>\n",
       "      <td>-5</td>\n",
       "      <td>Lido bus</td>\n",
       "      <td>45.390778</td>\n",
       "      <td>12.353001</td>\n",
       "    </tr>\n",
       "    <tr>\n",
       "      <th>72</th>\n",
       "      <td>-1</td>\n",
       "      <td>TERRA</td>\n",
       "      <td>45.491853</td>\n",
       "      <td>12.242548</td>\n",
       "    </tr>\n",
       "    <tr>\n",
       "      <th>73</th>\n",
       "      <td>5138</td>\n",
       "      <td>Rialto Mercato</td>\n",
       "      <td>45.439453</td>\n",
       "      <td>12.335298</td>\n",
       "    </tr>\n",
       "  </tbody>\n",
       "</table>\n",
       "<p>74 rows × 4 columns</p>\n",
       "</div>"
      ],
      "text/plain": [
       "   id_stop        name_stop        lat        lon\n",
       "0     5501        p.le roma  45.438667  12.319465\n",
       "1    15060        f.te nove  45.443016  12.340888\n",
       "2    15085        tre archi  45.446289  12.319780\n",
       "3    15108         sabbioni  45.447338  12.424333\n",
       "4     5001             lido  45.417992  12.368725\n",
       "..     ...              ...        ...        ...\n",
       "69      -3  Stazione Mestre  45.482675  12.231809\n",
       "70      -4        Aeroporto  45.504976  12.339106\n",
       "71      -5         Lido bus  45.390778  12.353001\n",
       "72      -1            TERRA  45.491853  12.242548\n",
       "73    5138   Rialto Mercato  45.439453  12.335298\n",
       "\n",
       "[74 rows x 4 columns]"
      ]
     },
     "execution_count": 268,
     "metadata": {},
     "output_type": "execute_result"
    }
   ],
   "source": [
    "df_stop = pd.DataFrame(columns=['id_stop','name_stop','lat','lon'])\n",
    "for key in stop:\n",
    "    new_row = {'id_stop':key, 'name_stop':stop[key][0], 'lat':stop[key][1], 'lon':stop[key][2]}\n",
    "    df_stop = df_stop.append(new_row, ignore_index=True)\n",
    "    \n",
    "df_stop"
   ]
  },
  {
   "cell_type": "code",
   "execution_count": 301,
   "metadata": {},
   "outputs": [
    {
     "name": "stdout",
     "output_type": "stream",
     "text": [
      "len(cluster_list): 66\n",
      "len(cluster_list[0]): 3\n",
      "len(cluster_list[0][2]): 3\n",
      "len(cluster_list[0][2]): 3\n"
     ]
    },
    {
     "data": {
      "text/plain": [
       "('f.te nove', 'murano', 'burano')"
      ]
     },
     "execution_count": 301,
     "metadata": {},
     "output_type": "execute_result"
    }
   ],
   "source": [
    "# id, set di fermate, numero utenti\n",
    "print(f'len(cluster_list): {len(cluster_list)}')\n",
    "print(f'len(cluster_list[0]): {len(cluster_list[0])}')\n",
    "print(f'len(cluster_list[0][2]): {len(cluster_list[0][2])}')\n",
    "print(f'len(cluster_list[0][2]): {len(cluster_list[0][2])}')\n",
    "len(cluster_list[0][2])\n"
   ]
  },
  {
   "cell_type": "code",
   "execution_count": 302,
   "metadata": {},
   "outputs": [],
   "source": [
    "df_line = pd.DataFrame(columns=['cluster_id', 'num_stop', 'counts','start_point', #'end_point', \n",
    "                                'start_lat', 'start_lon','stops'])#,'end_lat','end_lon'])\n",
    "\n",
    "\n",
    "for i in range(len(cluster_list)) :\n",
    "    num_stop = 1\n",
    "    for j in range(len(cluster_list[i][2])) :\n",
    "        start_point = cluster_list[i][2][j]\n",
    "        #end_point = cluster_list[i][2][j+1]\n",
    "        start_lat = df_stop.loc[df_stop['name_stop'] == start_point, 'lat'].values[0]\n",
    "        start_lon = df_stop.loc[df_stop['name_stop'] == start_point, 'lon'].values[0]\n",
    "        #end_lat = df_stop.loc[df_stop['name_stop'] == end_point, 'lat'].values[0]\n",
    "        #end_lon = df_stop.loc[df_stop['name_stop'] == end_point, 'lon'].values[0]\n",
    "        new_row = {'cluster_id':cluster_list[i][0], 'counts':cluster_list[i][1],\n",
    "                   'start_point':start_point, #'end_point':end_point,\n",
    "                   'start_lat':start_lat,'start_lon':start_lon,\n",
    "                   #'end_lat':end_lat,'end_lon':end_lon,\n",
    "                   'num_stop':num_stop,'stops':cluster_list[i][2]}\n",
    "        df_line = df_line.append(new_row, ignore_index=True)\n",
    "        num_stop +=1"
   ]
  },
  {
   "cell_type": "code",
   "execution_count": 303,
   "metadata": {},
   "outputs": [
    {
     "data": {
      "text/plain": [
       "cluster_id      object\n",
       "num_stop         int64\n",
       "counts           int64\n",
       "start_point     object\n",
       "start_lat      float64\n",
       "start_lon      float64\n",
       "stops           object\n",
       "dtype: object"
      ]
     },
     "execution_count": 303,
     "metadata": {},
     "output_type": "execute_result"
    }
   ],
   "source": [
    "df_line['counts'] = pd.to_numeric(df_line['counts'])\n",
    "df_line['num_stop'] = pd.to_numeric(df_line['num_stop'])\n",
    "df_line['start_lat'] = pd.to_numeric(df_line['start_lat'])\n",
    "df_line['start_lon'] = pd.to_numeric(df_line['start_lon'])\n",
    "#df_line['end_lat'] = pd.to_numeric(df_line['end_lat'])\n",
    "#df_line['end_lon'] = pd.to_numeric(df_line['end_lon'])\n",
    "df_line.dtypes"
   ]
  },
  {
   "cell_type": "code",
   "execution_count": 304,
   "metadata": {},
   "outputs": [],
   "source": [
    "df_line.sort_values(by=['cluster_id','num_stop'], inplace=True)\n",
    "df_line = df_line.reset_index(drop=True)"
   ]
  },
  {
   "cell_type": "code",
   "execution_count": 305,
   "metadata": {},
   "outputs": [
    {
     "data": {
      "text/html": [
       "<div>\n",
       "<style scoped>\n",
       "    .dataframe tbody tr th:only-of-type {\n",
       "        vertical-align: middle;\n",
       "    }\n",
       "\n",
       "    .dataframe tbody tr th {\n",
       "        vertical-align: top;\n",
       "    }\n",
       "\n",
       "    .dataframe thead th {\n",
       "        text-align: right;\n",
       "    }\n",
       "</style>\n",
       "<table border=\"1\" class=\"dataframe\">\n",
       "  <thead>\n",
       "    <tr style=\"text-align: right;\">\n",
       "      <th></th>\n",
       "      <th>cluster_id</th>\n",
       "      <th>num_stop</th>\n",
       "      <th>counts</th>\n",
       "      <th>start_point</th>\n",
       "      <th>start_lat</th>\n",
       "      <th>start_lon</th>\n",
       "      <th>stops</th>\n",
       "    </tr>\n",
       "  </thead>\n",
       "  <tbody>\n",
       "    <tr>\n",
       "      <th>0</th>\n",
       "      <td>7</td>\n",
       "      <td>1</td>\n",
       "      <td>2953</td>\n",
       "      <td>murano</td>\n",
       "      <td>45.451107</td>\n",
       "      <td>12.349192</td>\n",
       "      <td>(murano, burano, murano)</td>\n",
       "    </tr>\n",
       "    <tr>\n",
       "      <th>1</th>\n",
       "      <td>7</td>\n",
       "      <td>2</td>\n",
       "      <td>2953</td>\n",
       "      <td>burano</td>\n",
       "      <td>45.487602</td>\n",
       "      <td>12.416217</td>\n",
       "      <td>(murano, burano, murano)</td>\n",
       "    </tr>\n",
       "    <tr>\n",
       "      <th>2</th>\n",
       "      <td>7</td>\n",
       "      <td>3</td>\n",
       "      <td>2953</td>\n",
       "      <td>murano</td>\n",
       "      <td>45.451107</td>\n",
       "      <td>12.349192</td>\n",
       "      <td>(murano, burano, murano)</td>\n",
       "    </tr>\n",
       "    <tr>\n",
       "      <th>3</th>\n",
       "      <td>27</td>\n",
       "      <td>1</td>\n",
       "      <td>2916</td>\n",
       "      <td>ferrovia</td>\n",
       "      <td>45.440937</td>\n",
       "      <td>12.322042</td>\n",
       "      <td>(ferrovia, murano, burano)</td>\n",
       "    </tr>\n",
       "    <tr>\n",
       "      <th>4</th>\n",
       "      <td>27</td>\n",
       "      <td>2</td>\n",
       "      <td>2916</td>\n",
       "      <td>murano</td>\n",
       "      <td>45.451107</td>\n",
       "      <td>12.349192</td>\n",
       "      <td>(ferrovia, murano, burano)</td>\n",
       "    </tr>\n",
       "    <tr>\n",
       "      <th>...</th>\n",
       "      <td>...</td>\n",
       "      <td>...</td>\n",
       "      <td>...</td>\n",
       "      <td>...</td>\n",
       "      <td>...</td>\n",
       "      <td>...</td>\n",
       "      <td>...</td>\n",
       "    </tr>\n",
       "    <tr>\n",
       "      <th>201</th>\n",
       "      <td>1199</td>\n",
       "      <td>3</td>\n",
       "      <td>588</td>\n",
       "      <td>torcello</td>\n",
       "      <td>45.495090</td>\n",
       "      <td>12.412183</td>\n",
       "      <td>(murano, burano, torcello)</td>\n",
       "    </tr>\n",
       "    <tr>\n",
       "      <th>202</th>\n",
       "      <td>1232</td>\n",
       "      <td>1</td>\n",
       "      <td>449</td>\n",
       "      <td>sabbioni</td>\n",
       "      <td>45.447338</td>\n",
       "      <td>12.424333</td>\n",
       "      <td>(sabbioni, burano, torcello, murano)</td>\n",
       "    </tr>\n",
       "    <tr>\n",
       "      <th>203</th>\n",
       "      <td>1232</td>\n",
       "      <td>2</td>\n",
       "      <td>449</td>\n",
       "      <td>burano</td>\n",
       "      <td>45.487602</td>\n",
       "      <td>12.416217</td>\n",
       "      <td>(sabbioni, burano, torcello, murano)</td>\n",
       "    </tr>\n",
       "    <tr>\n",
       "      <th>204</th>\n",
       "      <td>1232</td>\n",
       "      <td>3</td>\n",
       "      <td>449</td>\n",
       "      <td>torcello</td>\n",
       "      <td>45.495090</td>\n",
       "      <td>12.412183</td>\n",
       "      <td>(sabbioni, burano, torcello, murano)</td>\n",
       "    </tr>\n",
       "    <tr>\n",
       "      <th>205</th>\n",
       "      <td>1232</td>\n",
       "      <td>4</td>\n",
       "      <td>449</td>\n",
       "      <td>murano</td>\n",
       "      <td>45.451107</td>\n",
       "      <td>12.349192</td>\n",
       "      <td>(sabbioni, burano, torcello, murano)</td>\n",
       "    </tr>\n",
       "  </tbody>\n",
       "</table>\n",
       "<p>206 rows × 7 columns</p>\n",
       "</div>"
      ],
      "text/plain": [
       "    cluster_id  num_stop  counts start_point  start_lat  start_lon  \\\n",
       "0            7         1    2953      murano  45.451107  12.349192   \n",
       "1            7         2    2953      burano  45.487602  12.416217   \n",
       "2            7         3    2953      murano  45.451107  12.349192   \n",
       "3           27         1    2916    ferrovia  45.440937  12.322042   \n",
       "4           27         2    2916      murano  45.451107  12.349192   \n",
       "..         ...       ...     ...         ...        ...        ...   \n",
       "201       1199         3     588    torcello  45.495090  12.412183   \n",
       "202       1232         1     449    sabbioni  45.447338  12.424333   \n",
       "203       1232         2     449      burano  45.487602  12.416217   \n",
       "204       1232         3     449    torcello  45.495090  12.412183   \n",
       "205       1232         4     449      murano  45.451107  12.349192   \n",
       "\n",
       "                                    stops  \n",
       "0                (murano, burano, murano)  \n",
       "1                (murano, burano, murano)  \n",
       "2                (murano, burano, murano)  \n",
       "3              (ferrovia, murano, burano)  \n",
       "4              (ferrovia, murano, burano)  \n",
       "..                                    ...  \n",
       "201            (murano, burano, torcello)  \n",
       "202  (sabbioni, burano, torcello, murano)  \n",
       "203  (sabbioni, burano, torcello, murano)  \n",
       "204  (sabbioni, burano, torcello, murano)  \n",
       "205  (sabbioni, burano, torcello, murano)  \n",
       "\n",
       "[206 rows x 7 columns]"
      ]
     },
     "execution_count": 305,
     "metadata": {},
     "output_type": "execute_result"
    }
   ],
   "source": [
    "df_line"
   ]
  },
  {
   "cell_type": "code",
   "execution_count": 306,
   "metadata": {},
   "outputs": [],
   "source": [
    "directory = '/Users/giuliarovinelli/Desktop/Università/PhD/actv/actvData/data/transformData/'\n",
    "df_line.to_csv(directory + 'df_line.csv')  "
   ]
  },
  {
   "cell_type": "code",
   "execution_count": 307,
   "metadata": {},
   "outputs": [],
   "source": [
    "#df_line = df_line[df_line['counts']>2000]"
   ]
  },
  {
   "cell_type": "code",
   "execution_count": 308,
   "metadata": {},
   "outputs": [],
   "source": [
    "#df_line"
   ]
  },
  {
   "cell_type": "code",
   "execution_count": 309,
   "metadata": {},
   "outputs": [
    {
     "name": "stdout",
     "output_type": "stream",
     "text": [
      "len(df_reduce): 7\n"
     ]
    },
    {
     "data": {
      "text/html": [
       "<div>\n",
       "<style scoped>\n",
       "    .dataframe tbody tr th:only-of-type {\n",
       "        vertical-align: middle;\n",
       "    }\n",
       "\n",
       "    .dataframe tbody tr th {\n",
       "        vertical-align: top;\n",
       "    }\n",
       "\n",
       "    .dataframe thead th {\n",
       "        text-align: right;\n",
       "    }\n",
       "</style>\n",
       "<table border=\"1\" class=\"dataframe\">\n",
       "  <thead>\n",
       "    <tr style=\"text-align: right;\">\n",
       "      <th></th>\n",
       "      <th>cluster_id</th>\n",
       "      <th>num_stop</th>\n",
       "      <th>counts</th>\n",
       "      <th>start_point</th>\n",
       "      <th>start_lat</th>\n",
       "      <th>start_lon</th>\n",
       "      <th>stops</th>\n",
       "    </tr>\n",
       "  </thead>\n",
       "  <tbody>\n",
       "    <tr>\n",
       "      <th>0</th>\n",
       "      <td>7</td>\n",
       "      <td>1</td>\n",
       "      <td>2953</td>\n",
       "      <td>murano</td>\n",
       "      <td>45.451107</td>\n",
       "      <td>12.349192</td>\n",
       "      <td>(murano, burano, murano)</td>\n",
       "    </tr>\n",
       "    <tr>\n",
       "      <th>3</th>\n",
       "      <td>27</td>\n",
       "      <td>1</td>\n",
       "      <td>2916</td>\n",
       "      <td>ferrovia</td>\n",
       "      <td>45.440937</td>\n",
       "      <td>12.322042</td>\n",
       "      <td>(ferrovia, murano, burano)</td>\n",
       "    </tr>\n",
       "    <tr>\n",
       "      <th>27</th>\n",
       "      <td>327</td>\n",
       "      <td>1</td>\n",
       "      <td>4264</td>\n",
       "      <td>f.te nove</td>\n",
       "      <td>45.443016</td>\n",
       "      <td>12.340888</td>\n",
       "      <td>(f.te nove, murano, burano)</td>\n",
       "    </tr>\n",
       "    <tr>\n",
       "      <th>74</th>\n",
       "      <td>590</td>\n",
       "      <td>1</td>\n",
       "      <td>2616</td>\n",
       "      <td>p.le roma</td>\n",
       "      <td>45.438667</td>\n",
       "      <td>12.319465</td>\n",
       "      <td>(p.le roma, murano, burano)</td>\n",
       "    </tr>\n",
       "    <tr>\n",
       "      <th>99</th>\n",
       "      <td>638</td>\n",
       "      <td>1</td>\n",
       "      <td>3201</td>\n",
       "      <td>murano</td>\n",
       "      <td>45.451107</td>\n",
       "      <td>12.349192</td>\n",
       "      <td>(murano, burano, f.te nove)</td>\n",
       "    </tr>\n",
       "    <tr>\n",
       "      <th>102</th>\n",
       "      <td>662</td>\n",
       "      <td>1</td>\n",
       "      <td>2011</td>\n",
       "      <td>murano</td>\n",
       "      <td>45.451107</td>\n",
       "      <td>12.349192</td>\n",
       "      <td>(murano, burano, rialto)</td>\n",
       "    </tr>\n",
       "    <tr>\n",
       "      <th>163</th>\n",
       "      <td>1073</td>\n",
       "      <td>1</td>\n",
       "      <td>2039</td>\n",
       "      <td>f.te nove</td>\n",
       "      <td>45.443016</td>\n",
       "      <td>12.340888</td>\n",
       "      <td>(f.te nove, burano, murano)</td>\n",
       "    </tr>\n",
       "  </tbody>\n",
       "</table>\n",
       "</div>"
      ],
      "text/plain": [
       "    cluster_id  num_stop  counts start_point  start_lat  start_lon  \\\n",
       "0            7         1    2953      murano  45.451107  12.349192   \n",
       "3           27         1    2916    ferrovia  45.440937  12.322042   \n",
       "27         327         1    4264   f.te nove  45.443016  12.340888   \n",
       "74         590         1    2616   p.le roma  45.438667  12.319465   \n",
       "99         638         1    3201      murano  45.451107  12.349192   \n",
       "102        662         1    2011      murano  45.451107  12.349192   \n",
       "163       1073         1    2039   f.te nove  45.443016  12.340888   \n",
       "\n",
       "                           stops  \n",
       "0       (murano, burano, murano)  \n",
       "3     (ferrovia, murano, burano)  \n",
       "27   (f.te nove, murano, burano)  \n",
       "74   (p.le roma, murano, burano)  \n",
       "99   (murano, burano, f.te nove)  \n",
       "102     (murano, burano, rialto)  \n",
       "163  (f.te nove, burano, murano)  "
      ]
     },
     "execution_count": 309,
     "metadata": {},
     "output_type": "execute_result"
    }
   ],
   "source": [
    "df_reduce = df_line[df_line['counts']>2000]\n",
    "mask_reduce = (df_reduce['num_stop']== 1)\n",
    "df_reduce = df_reduce.loc[mask_reduce]\n",
    "print(f'len(df_reduce): {len(df_reduce)}')\n",
    "df_reduce"
   ]
  },
  {
   "cell_type": "code",
   "execution_count": 310,
   "metadata": {},
   "outputs": [],
   "source": [
    "dff = df_line[df_line['counts']>2000]"
   ]
  },
  {
   "cell_type": "code",
   "execution_count": 311,
   "metadata": {},
   "outputs": [
    {
     "name": "stdout",
     "output_type": "stream",
     "text": [
      "len(dff): 3\n"
     ]
    },
    {
     "data": {
      "text/html": [
       "<div>\n",
       "<style scoped>\n",
       "    .dataframe tbody tr th:only-of-type {\n",
       "        vertical-align: middle;\n",
       "    }\n",
       "\n",
       "    .dataframe tbody tr th {\n",
       "        vertical-align: top;\n",
       "    }\n",
       "\n",
       "    .dataframe thead th {\n",
       "        text-align: right;\n",
       "    }\n",
       "</style>\n",
       "<table border=\"1\" class=\"dataframe\">\n",
       "  <thead>\n",
       "    <tr style=\"text-align: right;\">\n",
       "      <th></th>\n",
       "      <th>cluster_id</th>\n",
       "      <th>num_stop</th>\n",
       "      <th>counts</th>\n",
       "      <th>start_point</th>\n",
       "      <th>start_lat</th>\n",
       "      <th>start_lon</th>\n",
       "      <th>stops</th>\n",
       "    </tr>\n",
       "  </thead>\n",
       "  <tbody>\n",
       "    <tr>\n",
       "      <th>0</th>\n",
       "      <td>7</td>\n",
       "      <td>1</td>\n",
       "      <td>2953</td>\n",
       "      <td>murano</td>\n",
       "      <td>45.451107</td>\n",
       "      <td>12.349192</td>\n",
       "      <td>(murano, burano, murano)</td>\n",
       "    </tr>\n",
       "    <tr>\n",
       "      <th>99</th>\n",
       "      <td>638</td>\n",
       "      <td>1</td>\n",
       "      <td>3201</td>\n",
       "      <td>murano</td>\n",
       "      <td>45.451107</td>\n",
       "      <td>12.349192</td>\n",
       "      <td>(murano, burano, f.te nove)</td>\n",
       "    </tr>\n",
       "    <tr>\n",
       "      <th>102</th>\n",
       "      <td>662</td>\n",
       "      <td>1</td>\n",
       "      <td>2011</td>\n",
       "      <td>murano</td>\n",
       "      <td>45.451107</td>\n",
       "      <td>12.349192</td>\n",
       "      <td>(murano, burano, rialto)</td>\n",
       "    </tr>\n",
       "  </tbody>\n",
       "</table>\n",
       "</div>"
      ],
      "text/plain": [
       "    cluster_id  num_stop  counts start_point  start_lat  start_lon  \\\n",
       "0            7         1    2953      murano  45.451107  12.349192   \n",
       "99         638         1    3201      murano  45.451107  12.349192   \n",
       "102        662         1    2011      murano  45.451107  12.349192   \n",
       "\n",
       "                           stops  \n",
       "0       (murano, burano, murano)  \n",
       "99   (murano, burano, f.te nove)  \n",
       "102     (murano, burano, rialto)  "
      ]
     },
     "execution_count": 311,
     "metadata": {},
     "output_type": "execute_result"
    }
   ],
   "source": [
    "value = 'murano'\n",
    "mask = (dff['start_point']==value) & (dff['num_stop']== 1)\n",
    "\n",
    "\n",
    "dff = dff.loc[mask]\n",
    "print(f'len(dff): {len(dff)}')\n",
    "dff"
   ]
  },
  {
   "cell_type": "code",
   "execution_count": 312,
   "metadata": {},
   "outputs": [
    {
     "data": {
      "text/html": [
       "<div>\n",
       "<style scoped>\n",
       "    .dataframe tbody tr th:only-of-type {\n",
       "        vertical-align: middle;\n",
       "    }\n",
       "\n",
       "    .dataframe tbody tr th {\n",
       "        vertical-align: top;\n",
       "    }\n",
       "\n",
       "    .dataframe thead th {\n",
       "        text-align: right;\n",
       "    }\n",
       "</style>\n",
       "<table border=\"1\" class=\"dataframe\">\n",
       "  <thead>\n",
       "    <tr style=\"text-align: right;\">\n",
       "      <th></th>\n",
       "      <th>cluster_id</th>\n",
       "      <th>num_stop</th>\n",
       "      <th>counts</th>\n",
       "      <th>start_point</th>\n",
       "      <th>start_lat</th>\n",
       "      <th>start_lon</th>\n",
       "      <th>stops</th>\n",
       "    </tr>\n",
       "  </thead>\n",
       "  <tbody>\n",
       "    <tr>\n",
       "      <th>0</th>\n",
       "      <td>7</td>\n",
       "      <td>1</td>\n",
       "      <td>2953</td>\n",
       "      <td>murano</td>\n",
       "      <td>45.451107</td>\n",
       "      <td>12.349192</td>\n",
       "      <td>(murano, burano, murano)</td>\n",
       "    </tr>\n",
       "    <tr>\n",
       "      <th>1</th>\n",
       "      <td>7</td>\n",
       "      <td>2</td>\n",
       "      <td>2953</td>\n",
       "      <td>burano</td>\n",
       "      <td>45.487602</td>\n",
       "      <td>12.416217</td>\n",
       "      <td>(murano, burano, murano)</td>\n",
       "    </tr>\n",
       "    <tr>\n",
       "      <th>2</th>\n",
       "      <td>7</td>\n",
       "      <td>3</td>\n",
       "      <td>2953</td>\n",
       "      <td>murano</td>\n",
       "      <td>45.451107</td>\n",
       "      <td>12.349192</td>\n",
       "      <td>(murano, burano, murano)</td>\n",
       "    </tr>\n",
       "    <tr>\n",
       "      <th>3</th>\n",
       "      <td>638</td>\n",
       "      <td>1</td>\n",
       "      <td>3201</td>\n",
       "      <td>murano</td>\n",
       "      <td>45.451107</td>\n",
       "      <td>12.349192</td>\n",
       "      <td>(murano, burano, f.te nove)</td>\n",
       "    </tr>\n",
       "    <tr>\n",
       "      <th>4</th>\n",
       "      <td>638</td>\n",
       "      <td>2</td>\n",
       "      <td>3201</td>\n",
       "      <td>burano</td>\n",
       "      <td>45.487602</td>\n",
       "      <td>12.416217</td>\n",
       "      <td>(murano, burano, f.te nove)</td>\n",
       "    </tr>\n",
       "    <tr>\n",
       "      <th>5</th>\n",
       "      <td>638</td>\n",
       "      <td>3</td>\n",
       "      <td>3201</td>\n",
       "      <td>f.te nove</td>\n",
       "      <td>45.443016</td>\n",
       "      <td>12.340888</td>\n",
       "      <td>(murano, burano, f.te nove)</td>\n",
       "    </tr>\n",
       "    <tr>\n",
       "      <th>6</th>\n",
       "      <td>662</td>\n",
       "      <td>1</td>\n",
       "      <td>2011</td>\n",
       "      <td>murano</td>\n",
       "      <td>45.451107</td>\n",
       "      <td>12.349192</td>\n",
       "      <td>(murano, burano, rialto)</td>\n",
       "    </tr>\n",
       "    <tr>\n",
       "      <th>7</th>\n",
       "      <td>662</td>\n",
       "      <td>2</td>\n",
       "      <td>2011</td>\n",
       "      <td>burano</td>\n",
       "      <td>45.487602</td>\n",
       "      <td>12.416217</td>\n",
       "      <td>(murano, burano, rialto)</td>\n",
       "    </tr>\n",
       "    <tr>\n",
       "      <th>8</th>\n",
       "      <td>662</td>\n",
       "      <td>3</td>\n",
       "      <td>2011</td>\n",
       "      <td>rialto</td>\n",
       "      <td>45.437584</td>\n",
       "      <td>12.335558</td>\n",
       "      <td>(murano, burano, rialto)</td>\n",
       "    </tr>\n",
       "  </tbody>\n",
       "</table>\n",
       "</div>"
      ],
      "text/plain": [
       "  cluster_id num_stop counts start_point  start_lat  start_lon  \\\n",
       "0          7        1   2953      murano  45.451107  12.349192   \n",
       "1          7        2   2953      burano  45.487602  12.416217   \n",
       "2          7        3   2953      murano  45.451107  12.349192   \n",
       "3        638        1   3201      murano  45.451107  12.349192   \n",
       "4        638        2   3201      burano  45.487602  12.416217   \n",
       "5        638        3   3201   f.te nove  45.443016  12.340888   \n",
       "6        662        1   2011      murano  45.451107  12.349192   \n",
       "7        662        2   2011      burano  45.487602  12.416217   \n",
       "8        662        3   2011      rialto  45.437584  12.335558   \n",
       "\n",
       "                         stops  \n",
       "0     (murano, burano, murano)  \n",
       "1     (murano, burano, murano)  \n",
       "2     (murano, burano, murano)  \n",
       "3  (murano, burano, f.te nove)  \n",
       "4  (murano, burano, f.te nove)  \n",
       "5  (murano, burano, f.te nove)  \n",
       "6     (murano, burano, rialto)  \n",
       "7     (murano, burano, rialto)  \n",
       "8     (murano, burano, rialto)  "
      ]
     },
     "execution_count": 312,
     "metadata": {},
     "output_type": "execute_result"
    }
   ],
   "source": [
    "id_array = dff.cluster_id.tolist()\n",
    "id_array\n",
    "\n",
    "df_new = pd.DataFrame(columns=['cluster_id', 'num_stop', 'counts','start_point', #'end_point', \n",
    "                               'start_lat','start_lon'])#,'end_lat','end_lon'])\n",
    "\n",
    "for i in range(len(id_array)) :\n",
    "    cluster_id = id_array[i]\n",
    "    #print(f'cluster_id: {cluster_id}')\n",
    "    mask = (df_line['cluster_id']==cluster_id)\n",
    "    df_new = pd.concat([df_new, df_line.loc[mask]],ignore_index=True)\n",
    "    \n",
    "\n",
    "df_new    "
   ]
  },
  {
   "cell_type": "code",
   "execution_count": 313,
   "metadata": {},
   "outputs": [
    {
     "data": {
      "application/vnd.plotly.v1+json": {
       "config": {
        "plotlyServerURL": "https://plot.ly"
       },
       "data": [
        {
         "hovertemplate": "cluster_id=7<br>start_lat=%{lat}<br>start_lon=%{lon}<extra></extra>",
         "lat": [
          45.451107,
          45.487602,
          45.451107
         ],
         "legendgroup": "7",
         "line": {
          "color": "#636efa"
         },
         "lon": [
          12.349192,
          12.416217,
          12.349192
         ],
         "mode": "lines",
         "name": "7",
         "showlegend": true,
         "subplot": "mapbox",
         "type": "scattermapbox"
        },
        {
         "hovertemplate": "cluster_id=638<br>start_lat=%{lat}<br>start_lon=%{lon}<extra></extra>",
         "lat": [
          45.451107,
          45.487602,
          45.443016
         ],
         "legendgroup": "638",
         "line": {
          "color": "#EF553B"
         },
         "lon": [
          12.349192,
          12.416217,
          12.340888
         ],
         "mode": "lines",
         "name": "638",
         "showlegend": true,
         "subplot": "mapbox",
         "type": "scattermapbox"
        },
        {
         "hovertemplate": "cluster_id=662<br>start_lat=%{lat}<br>start_lon=%{lon}<extra></extra>",
         "lat": [
          45.451107,
          45.487602,
          45.437584
         ],
         "legendgroup": "662",
         "line": {
          "color": "#00cc96"
         },
         "lon": [
          12.349192,
          12.416217,
          12.335558
         ],
         "mode": "lines",
         "name": "662",
         "showlegend": true,
         "subplot": "mapbox",
         "type": "scattermapbox"
        }
       ],
       "layout": {
        "height": 900,
        "legend": {
         "title": {
          "text": "cluster_id"
         },
         "tracegroupgap": 0
        },
        "mapbox": {
         "center": {
          "lat": 45.434185,
          "lon": 12.337817
         },
         "domain": {
          "x": [
           0,
           1
          ],
          "y": [
           0,
           1
          ]
         },
         "style": "carto-positron",
         "zoom": 11.2
        },
        "margin": {
         "b": 0,
         "l": 0,
         "r": 0,
         "t": 0
        },
        "template": {
         "data": {
          "bar": [
           {
            "error_x": {
             "color": "#2a3f5f"
            },
            "error_y": {
             "color": "#2a3f5f"
            },
            "marker": {
             "line": {
              "color": "#E5ECF6",
              "width": 0.5
             },
             "pattern": {
              "fillmode": "overlay",
              "size": 10,
              "solidity": 0.2
             }
            },
            "type": "bar"
           }
          ],
          "barpolar": [
           {
            "marker": {
             "line": {
              "color": "#E5ECF6",
              "width": 0.5
             },
             "pattern": {
              "fillmode": "overlay",
              "size": 10,
              "solidity": 0.2
             }
            },
            "type": "barpolar"
           }
          ],
          "carpet": [
           {
            "aaxis": {
             "endlinecolor": "#2a3f5f",
             "gridcolor": "white",
             "linecolor": "white",
             "minorgridcolor": "white",
             "startlinecolor": "#2a3f5f"
            },
            "baxis": {
             "endlinecolor": "#2a3f5f",
             "gridcolor": "white",
             "linecolor": "white",
             "minorgridcolor": "white",
             "startlinecolor": "#2a3f5f"
            },
            "type": "carpet"
           }
          ],
          "choropleth": [
           {
            "colorbar": {
             "outlinewidth": 0,
             "ticks": ""
            },
            "type": "choropleth"
           }
          ],
          "contour": [
           {
            "colorbar": {
             "outlinewidth": 0,
             "ticks": ""
            },
            "colorscale": [
             [
              0,
              "#0d0887"
             ],
             [
              0.1111111111111111,
              "#46039f"
             ],
             [
              0.2222222222222222,
              "#7201a8"
             ],
             [
              0.3333333333333333,
              "#9c179e"
             ],
             [
              0.4444444444444444,
              "#bd3786"
             ],
             [
              0.5555555555555556,
              "#d8576b"
             ],
             [
              0.6666666666666666,
              "#ed7953"
             ],
             [
              0.7777777777777778,
              "#fb9f3a"
             ],
             [
              0.8888888888888888,
              "#fdca26"
             ],
             [
              1,
              "#f0f921"
             ]
            ],
            "type": "contour"
           }
          ],
          "contourcarpet": [
           {
            "colorbar": {
             "outlinewidth": 0,
             "ticks": ""
            },
            "type": "contourcarpet"
           }
          ],
          "heatmap": [
           {
            "colorbar": {
             "outlinewidth": 0,
             "ticks": ""
            },
            "colorscale": [
             [
              0,
              "#0d0887"
             ],
             [
              0.1111111111111111,
              "#46039f"
             ],
             [
              0.2222222222222222,
              "#7201a8"
             ],
             [
              0.3333333333333333,
              "#9c179e"
             ],
             [
              0.4444444444444444,
              "#bd3786"
             ],
             [
              0.5555555555555556,
              "#d8576b"
             ],
             [
              0.6666666666666666,
              "#ed7953"
             ],
             [
              0.7777777777777778,
              "#fb9f3a"
             ],
             [
              0.8888888888888888,
              "#fdca26"
             ],
             [
              1,
              "#f0f921"
             ]
            ],
            "type": "heatmap"
           }
          ],
          "heatmapgl": [
           {
            "colorbar": {
             "outlinewidth": 0,
             "ticks": ""
            },
            "colorscale": [
             [
              0,
              "#0d0887"
             ],
             [
              0.1111111111111111,
              "#46039f"
             ],
             [
              0.2222222222222222,
              "#7201a8"
             ],
             [
              0.3333333333333333,
              "#9c179e"
             ],
             [
              0.4444444444444444,
              "#bd3786"
             ],
             [
              0.5555555555555556,
              "#d8576b"
             ],
             [
              0.6666666666666666,
              "#ed7953"
             ],
             [
              0.7777777777777778,
              "#fb9f3a"
             ],
             [
              0.8888888888888888,
              "#fdca26"
             ],
             [
              1,
              "#f0f921"
             ]
            ],
            "type": "heatmapgl"
           }
          ],
          "histogram": [
           {
            "marker": {
             "pattern": {
              "fillmode": "overlay",
              "size": 10,
              "solidity": 0.2
             }
            },
            "type": "histogram"
           }
          ],
          "histogram2d": [
           {
            "colorbar": {
             "outlinewidth": 0,
             "ticks": ""
            },
            "colorscale": [
             [
              0,
              "#0d0887"
             ],
             [
              0.1111111111111111,
              "#46039f"
             ],
             [
              0.2222222222222222,
              "#7201a8"
             ],
             [
              0.3333333333333333,
              "#9c179e"
             ],
             [
              0.4444444444444444,
              "#bd3786"
             ],
             [
              0.5555555555555556,
              "#d8576b"
             ],
             [
              0.6666666666666666,
              "#ed7953"
             ],
             [
              0.7777777777777778,
              "#fb9f3a"
             ],
             [
              0.8888888888888888,
              "#fdca26"
             ],
             [
              1,
              "#f0f921"
             ]
            ],
            "type": "histogram2d"
           }
          ],
          "histogram2dcontour": [
           {
            "colorbar": {
             "outlinewidth": 0,
             "ticks": ""
            },
            "colorscale": [
             [
              0,
              "#0d0887"
             ],
             [
              0.1111111111111111,
              "#46039f"
             ],
             [
              0.2222222222222222,
              "#7201a8"
             ],
             [
              0.3333333333333333,
              "#9c179e"
             ],
             [
              0.4444444444444444,
              "#bd3786"
             ],
             [
              0.5555555555555556,
              "#d8576b"
             ],
             [
              0.6666666666666666,
              "#ed7953"
             ],
             [
              0.7777777777777778,
              "#fb9f3a"
             ],
             [
              0.8888888888888888,
              "#fdca26"
             ],
             [
              1,
              "#f0f921"
             ]
            ],
            "type": "histogram2dcontour"
           }
          ],
          "mesh3d": [
           {
            "colorbar": {
             "outlinewidth": 0,
             "ticks": ""
            },
            "type": "mesh3d"
           }
          ],
          "parcoords": [
           {
            "line": {
             "colorbar": {
              "outlinewidth": 0,
              "ticks": ""
             }
            },
            "type": "parcoords"
           }
          ],
          "pie": [
           {
            "automargin": true,
            "type": "pie"
           }
          ],
          "scatter": [
           {
            "fillpattern": {
             "fillmode": "overlay",
             "size": 10,
             "solidity": 0.2
            },
            "type": "scatter"
           }
          ],
          "scatter3d": [
           {
            "line": {
             "colorbar": {
              "outlinewidth": 0,
              "ticks": ""
             }
            },
            "marker": {
             "colorbar": {
              "outlinewidth": 0,
              "ticks": ""
             }
            },
            "type": "scatter3d"
           }
          ],
          "scattercarpet": [
           {
            "marker": {
             "colorbar": {
              "outlinewidth": 0,
              "ticks": ""
             }
            },
            "type": "scattercarpet"
           }
          ],
          "scattergeo": [
           {
            "marker": {
             "colorbar": {
              "outlinewidth": 0,
              "ticks": ""
             }
            },
            "type": "scattergeo"
           }
          ],
          "scattergl": [
           {
            "marker": {
             "colorbar": {
              "outlinewidth": 0,
              "ticks": ""
             }
            },
            "type": "scattergl"
           }
          ],
          "scattermapbox": [
           {
            "marker": {
             "colorbar": {
              "outlinewidth": 0,
              "ticks": ""
             }
            },
            "type": "scattermapbox"
           }
          ],
          "scatterpolar": [
           {
            "marker": {
             "colorbar": {
              "outlinewidth": 0,
              "ticks": ""
             }
            },
            "type": "scatterpolar"
           }
          ],
          "scatterpolargl": [
           {
            "marker": {
             "colorbar": {
              "outlinewidth": 0,
              "ticks": ""
             }
            },
            "type": "scatterpolargl"
           }
          ],
          "scatterternary": [
           {
            "marker": {
             "colorbar": {
              "outlinewidth": 0,
              "ticks": ""
             }
            },
            "type": "scatterternary"
           }
          ],
          "surface": [
           {
            "colorbar": {
             "outlinewidth": 0,
             "ticks": ""
            },
            "colorscale": [
             [
              0,
              "#0d0887"
             ],
             [
              0.1111111111111111,
              "#46039f"
             ],
             [
              0.2222222222222222,
              "#7201a8"
             ],
             [
              0.3333333333333333,
              "#9c179e"
             ],
             [
              0.4444444444444444,
              "#bd3786"
             ],
             [
              0.5555555555555556,
              "#d8576b"
             ],
             [
              0.6666666666666666,
              "#ed7953"
             ],
             [
              0.7777777777777778,
              "#fb9f3a"
             ],
             [
              0.8888888888888888,
              "#fdca26"
             ],
             [
              1,
              "#f0f921"
             ]
            ],
            "type": "surface"
           }
          ],
          "table": [
           {
            "cells": {
             "fill": {
              "color": "#EBF0F8"
             },
             "line": {
              "color": "white"
             }
            },
            "header": {
             "fill": {
              "color": "#C8D4E3"
             },
             "line": {
              "color": "white"
             }
            },
            "type": "table"
           }
          ]
         },
         "layout": {
          "annotationdefaults": {
           "arrowcolor": "#2a3f5f",
           "arrowhead": 0,
           "arrowwidth": 1
          },
          "autotypenumbers": "strict",
          "coloraxis": {
           "colorbar": {
            "outlinewidth": 0,
            "ticks": ""
           }
          },
          "colorscale": {
           "diverging": [
            [
             0,
             "#8e0152"
            ],
            [
             0.1,
             "#c51b7d"
            ],
            [
             0.2,
             "#de77ae"
            ],
            [
             0.3,
             "#f1b6da"
            ],
            [
             0.4,
             "#fde0ef"
            ],
            [
             0.5,
             "#f7f7f7"
            ],
            [
             0.6,
             "#e6f5d0"
            ],
            [
             0.7,
             "#b8e186"
            ],
            [
             0.8,
             "#7fbc41"
            ],
            [
             0.9,
             "#4d9221"
            ],
            [
             1,
             "#276419"
            ]
           ],
           "sequential": [
            [
             0,
             "#0d0887"
            ],
            [
             0.1111111111111111,
             "#46039f"
            ],
            [
             0.2222222222222222,
             "#7201a8"
            ],
            [
             0.3333333333333333,
             "#9c179e"
            ],
            [
             0.4444444444444444,
             "#bd3786"
            ],
            [
             0.5555555555555556,
             "#d8576b"
            ],
            [
             0.6666666666666666,
             "#ed7953"
            ],
            [
             0.7777777777777778,
             "#fb9f3a"
            ],
            [
             0.8888888888888888,
             "#fdca26"
            ],
            [
             1,
             "#f0f921"
            ]
           ],
           "sequentialminus": [
            [
             0,
             "#0d0887"
            ],
            [
             0.1111111111111111,
             "#46039f"
            ],
            [
             0.2222222222222222,
             "#7201a8"
            ],
            [
             0.3333333333333333,
             "#9c179e"
            ],
            [
             0.4444444444444444,
             "#bd3786"
            ],
            [
             0.5555555555555556,
             "#d8576b"
            ],
            [
             0.6666666666666666,
             "#ed7953"
            ],
            [
             0.7777777777777778,
             "#fb9f3a"
            ],
            [
             0.8888888888888888,
             "#fdca26"
            ],
            [
             1,
             "#f0f921"
            ]
           ]
          },
          "colorway": [
           "#636efa",
           "#EF553B",
           "#00cc96",
           "#ab63fa",
           "#FFA15A",
           "#19d3f3",
           "#FF6692",
           "#B6E880",
           "#FF97FF",
           "#FECB52"
          ],
          "font": {
           "color": "#2a3f5f"
          },
          "geo": {
           "bgcolor": "white",
           "lakecolor": "white",
           "landcolor": "#E5ECF6",
           "showlakes": true,
           "showland": true,
           "subunitcolor": "white"
          },
          "hoverlabel": {
           "align": "left"
          },
          "hovermode": "closest",
          "mapbox": {
           "style": "light"
          },
          "paper_bgcolor": "white",
          "plot_bgcolor": "#E5ECF6",
          "polar": {
           "angularaxis": {
            "gridcolor": "white",
            "linecolor": "white",
            "ticks": ""
           },
           "bgcolor": "#E5ECF6",
           "radialaxis": {
            "gridcolor": "white",
            "linecolor": "white",
            "ticks": ""
           }
          },
          "scene": {
           "xaxis": {
            "backgroundcolor": "#E5ECF6",
            "gridcolor": "white",
            "gridwidth": 2,
            "linecolor": "white",
            "showbackground": true,
            "ticks": "",
            "zerolinecolor": "white"
           },
           "yaxis": {
            "backgroundcolor": "#E5ECF6",
            "gridcolor": "white",
            "gridwidth": 2,
            "linecolor": "white",
            "showbackground": true,
            "ticks": "",
            "zerolinecolor": "white"
           },
           "zaxis": {
            "backgroundcolor": "#E5ECF6",
            "gridcolor": "white",
            "gridwidth": 2,
            "linecolor": "white",
            "showbackground": true,
            "ticks": "",
            "zerolinecolor": "white"
           }
          },
          "shapedefaults": {
           "line": {
            "color": "#2a3f5f"
           }
          },
          "ternary": {
           "aaxis": {
            "gridcolor": "white",
            "linecolor": "white",
            "ticks": ""
           },
           "baxis": {
            "gridcolor": "white",
            "linecolor": "white",
            "ticks": ""
           },
           "bgcolor": "#E5ECF6",
           "caxis": {
            "gridcolor": "white",
            "linecolor": "white",
            "ticks": ""
           }
          },
          "title": {
           "x": 0.05
          },
          "xaxis": {
           "automargin": true,
           "gridcolor": "white",
           "linecolor": "white",
           "ticks": "",
           "title": {
            "standoff": 15
           },
           "zerolinecolor": "white",
           "zerolinewidth": 2
          },
          "yaxis": {
           "automargin": true,
           "gridcolor": "white",
           "linecolor": "white",
           "ticks": "",
           "title": {
            "standoff": 15
           },
           "zerolinecolor": "white",
           "zerolinewidth": 2
          }
         }
        },
        "width": 1300
       }
      },
      "text/html": [
       "<div>                            <div id=\"513f2413-ad2d-410b-adaa-34e316875a1a\" class=\"plotly-graph-div\" style=\"height:900px; width:1300px;\"></div>            <script type=\"text/javascript\">                require([\"plotly\"], function(Plotly) {                    window.PLOTLYENV=window.PLOTLYENV || {};                                    if (document.getElementById(\"513f2413-ad2d-410b-adaa-34e316875a1a\")) {                    Plotly.newPlot(                        \"513f2413-ad2d-410b-adaa-34e316875a1a\",                        [{\"hovertemplate\":\"cluster_id=7<br>start_lat=%{lat}<br>start_lon=%{lon}<extra></extra>\",\"lat\":[45.451107,45.487602,45.451107],\"legendgroup\":\"7\",\"line\":{\"color\":\"#636efa\"},\"lon\":[12.349192,12.416217,12.349192],\"mode\":\"lines\",\"name\":\"7\",\"showlegend\":true,\"subplot\":\"mapbox\",\"type\":\"scattermapbox\"},{\"hovertemplate\":\"cluster_id=638<br>start_lat=%{lat}<br>start_lon=%{lon}<extra></extra>\",\"lat\":[45.451107,45.487602,45.443016],\"legendgroup\":\"638\",\"line\":{\"color\":\"#EF553B\"},\"lon\":[12.349192,12.416217,12.340888],\"mode\":\"lines\",\"name\":\"638\",\"showlegend\":true,\"subplot\":\"mapbox\",\"type\":\"scattermapbox\"},{\"hovertemplate\":\"cluster_id=662<br>start_lat=%{lat}<br>start_lon=%{lon}<extra></extra>\",\"lat\":[45.451107,45.487602,45.437584],\"legendgroup\":\"662\",\"line\":{\"color\":\"#00cc96\"},\"lon\":[12.349192,12.416217,12.335558],\"mode\":\"lines\",\"name\":\"662\",\"showlegend\":true,\"subplot\":\"mapbox\",\"type\":\"scattermapbox\"}],                        {\"template\":{\"data\":{\"histogram2dcontour\":[{\"type\":\"histogram2dcontour\",\"colorbar\":{\"outlinewidth\":0,\"ticks\":\"\"},\"colorscale\":[[0.0,\"#0d0887\"],[0.1111111111111111,\"#46039f\"],[0.2222222222222222,\"#7201a8\"],[0.3333333333333333,\"#9c179e\"],[0.4444444444444444,\"#bd3786\"],[0.5555555555555556,\"#d8576b\"],[0.6666666666666666,\"#ed7953\"],[0.7777777777777778,\"#fb9f3a\"],[0.8888888888888888,\"#fdca26\"],[1.0,\"#f0f921\"]]}],\"choropleth\":[{\"type\":\"choropleth\",\"colorbar\":{\"outlinewidth\":0,\"ticks\":\"\"}}],\"histogram2d\":[{\"type\":\"histogram2d\",\"colorbar\":{\"outlinewidth\":0,\"ticks\":\"\"},\"colorscale\":[[0.0,\"#0d0887\"],[0.1111111111111111,\"#46039f\"],[0.2222222222222222,\"#7201a8\"],[0.3333333333333333,\"#9c179e\"],[0.4444444444444444,\"#bd3786\"],[0.5555555555555556,\"#d8576b\"],[0.6666666666666666,\"#ed7953\"],[0.7777777777777778,\"#fb9f3a\"],[0.8888888888888888,\"#fdca26\"],[1.0,\"#f0f921\"]]}],\"heatmap\":[{\"type\":\"heatmap\",\"colorbar\":{\"outlinewidth\":0,\"ticks\":\"\"},\"colorscale\":[[0.0,\"#0d0887\"],[0.1111111111111111,\"#46039f\"],[0.2222222222222222,\"#7201a8\"],[0.3333333333333333,\"#9c179e\"],[0.4444444444444444,\"#bd3786\"],[0.5555555555555556,\"#d8576b\"],[0.6666666666666666,\"#ed7953\"],[0.7777777777777778,\"#fb9f3a\"],[0.8888888888888888,\"#fdca26\"],[1.0,\"#f0f921\"]]}],\"heatmapgl\":[{\"type\":\"heatmapgl\",\"colorbar\":{\"outlinewidth\":0,\"ticks\":\"\"},\"colorscale\":[[0.0,\"#0d0887\"],[0.1111111111111111,\"#46039f\"],[0.2222222222222222,\"#7201a8\"],[0.3333333333333333,\"#9c179e\"],[0.4444444444444444,\"#bd3786\"],[0.5555555555555556,\"#d8576b\"],[0.6666666666666666,\"#ed7953\"],[0.7777777777777778,\"#fb9f3a\"],[0.8888888888888888,\"#fdca26\"],[1.0,\"#f0f921\"]]}],\"contourcarpet\":[{\"type\":\"contourcarpet\",\"colorbar\":{\"outlinewidth\":0,\"ticks\":\"\"}}],\"contour\":[{\"type\":\"contour\",\"colorbar\":{\"outlinewidth\":0,\"ticks\":\"\"},\"colorscale\":[[0.0,\"#0d0887\"],[0.1111111111111111,\"#46039f\"],[0.2222222222222222,\"#7201a8\"],[0.3333333333333333,\"#9c179e\"],[0.4444444444444444,\"#bd3786\"],[0.5555555555555556,\"#d8576b\"],[0.6666666666666666,\"#ed7953\"],[0.7777777777777778,\"#fb9f3a\"],[0.8888888888888888,\"#fdca26\"],[1.0,\"#f0f921\"]]}],\"surface\":[{\"type\":\"surface\",\"colorbar\":{\"outlinewidth\":0,\"ticks\":\"\"},\"colorscale\":[[0.0,\"#0d0887\"],[0.1111111111111111,\"#46039f\"],[0.2222222222222222,\"#7201a8\"],[0.3333333333333333,\"#9c179e\"],[0.4444444444444444,\"#bd3786\"],[0.5555555555555556,\"#d8576b\"],[0.6666666666666666,\"#ed7953\"],[0.7777777777777778,\"#fb9f3a\"],[0.8888888888888888,\"#fdca26\"],[1.0,\"#f0f921\"]]}],\"mesh3d\":[{\"type\":\"mesh3d\",\"colorbar\":{\"outlinewidth\":0,\"ticks\":\"\"}}],\"scatter\":[{\"fillpattern\":{\"fillmode\":\"overlay\",\"size\":10,\"solidity\":0.2},\"type\":\"scatter\"}],\"parcoords\":[{\"type\":\"parcoords\",\"line\":{\"colorbar\":{\"outlinewidth\":0,\"ticks\":\"\"}}}],\"scatterpolargl\":[{\"type\":\"scatterpolargl\",\"marker\":{\"colorbar\":{\"outlinewidth\":0,\"ticks\":\"\"}}}],\"bar\":[{\"error_x\":{\"color\":\"#2a3f5f\"},\"error_y\":{\"color\":\"#2a3f5f\"},\"marker\":{\"line\":{\"color\":\"#E5ECF6\",\"width\":0.5},\"pattern\":{\"fillmode\":\"overlay\",\"size\":10,\"solidity\":0.2}},\"type\":\"bar\"}],\"scattergeo\":[{\"type\":\"scattergeo\",\"marker\":{\"colorbar\":{\"outlinewidth\":0,\"ticks\":\"\"}}}],\"scatterpolar\":[{\"type\":\"scatterpolar\",\"marker\":{\"colorbar\":{\"outlinewidth\":0,\"ticks\":\"\"}}}],\"histogram\":[{\"marker\":{\"pattern\":{\"fillmode\":\"overlay\",\"size\":10,\"solidity\":0.2}},\"type\":\"histogram\"}],\"scattergl\":[{\"type\":\"scattergl\",\"marker\":{\"colorbar\":{\"outlinewidth\":0,\"ticks\":\"\"}}}],\"scatter3d\":[{\"type\":\"scatter3d\",\"line\":{\"colorbar\":{\"outlinewidth\":0,\"ticks\":\"\"}},\"marker\":{\"colorbar\":{\"outlinewidth\":0,\"ticks\":\"\"}}}],\"scattermapbox\":[{\"type\":\"scattermapbox\",\"marker\":{\"colorbar\":{\"outlinewidth\":0,\"ticks\":\"\"}}}],\"scatterternary\":[{\"type\":\"scatterternary\",\"marker\":{\"colorbar\":{\"outlinewidth\":0,\"ticks\":\"\"}}}],\"scattercarpet\":[{\"type\":\"scattercarpet\",\"marker\":{\"colorbar\":{\"outlinewidth\":0,\"ticks\":\"\"}}}],\"carpet\":[{\"aaxis\":{\"endlinecolor\":\"#2a3f5f\",\"gridcolor\":\"white\",\"linecolor\":\"white\",\"minorgridcolor\":\"white\",\"startlinecolor\":\"#2a3f5f\"},\"baxis\":{\"endlinecolor\":\"#2a3f5f\",\"gridcolor\":\"white\",\"linecolor\":\"white\",\"minorgridcolor\":\"white\",\"startlinecolor\":\"#2a3f5f\"},\"type\":\"carpet\"}],\"table\":[{\"cells\":{\"fill\":{\"color\":\"#EBF0F8\"},\"line\":{\"color\":\"white\"}},\"header\":{\"fill\":{\"color\":\"#C8D4E3\"},\"line\":{\"color\":\"white\"}},\"type\":\"table\"}],\"barpolar\":[{\"marker\":{\"line\":{\"color\":\"#E5ECF6\",\"width\":0.5},\"pattern\":{\"fillmode\":\"overlay\",\"size\":10,\"solidity\":0.2}},\"type\":\"barpolar\"}],\"pie\":[{\"automargin\":true,\"type\":\"pie\"}]},\"layout\":{\"autotypenumbers\":\"strict\",\"colorway\":[\"#636efa\",\"#EF553B\",\"#00cc96\",\"#ab63fa\",\"#FFA15A\",\"#19d3f3\",\"#FF6692\",\"#B6E880\",\"#FF97FF\",\"#FECB52\"],\"font\":{\"color\":\"#2a3f5f\"},\"hovermode\":\"closest\",\"hoverlabel\":{\"align\":\"left\"},\"paper_bgcolor\":\"white\",\"plot_bgcolor\":\"#E5ECF6\",\"polar\":{\"bgcolor\":\"#E5ECF6\",\"angularaxis\":{\"gridcolor\":\"white\",\"linecolor\":\"white\",\"ticks\":\"\"},\"radialaxis\":{\"gridcolor\":\"white\",\"linecolor\":\"white\",\"ticks\":\"\"}},\"ternary\":{\"bgcolor\":\"#E5ECF6\",\"aaxis\":{\"gridcolor\":\"white\",\"linecolor\":\"white\",\"ticks\":\"\"},\"baxis\":{\"gridcolor\":\"white\",\"linecolor\":\"white\",\"ticks\":\"\"},\"caxis\":{\"gridcolor\":\"white\",\"linecolor\":\"white\",\"ticks\":\"\"}},\"coloraxis\":{\"colorbar\":{\"outlinewidth\":0,\"ticks\":\"\"}},\"colorscale\":{\"sequential\":[[0.0,\"#0d0887\"],[0.1111111111111111,\"#46039f\"],[0.2222222222222222,\"#7201a8\"],[0.3333333333333333,\"#9c179e\"],[0.4444444444444444,\"#bd3786\"],[0.5555555555555556,\"#d8576b\"],[0.6666666666666666,\"#ed7953\"],[0.7777777777777778,\"#fb9f3a\"],[0.8888888888888888,\"#fdca26\"],[1.0,\"#f0f921\"]],\"sequentialminus\":[[0.0,\"#0d0887\"],[0.1111111111111111,\"#46039f\"],[0.2222222222222222,\"#7201a8\"],[0.3333333333333333,\"#9c179e\"],[0.4444444444444444,\"#bd3786\"],[0.5555555555555556,\"#d8576b\"],[0.6666666666666666,\"#ed7953\"],[0.7777777777777778,\"#fb9f3a\"],[0.8888888888888888,\"#fdca26\"],[1.0,\"#f0f921\"]],\"diverging\":[[0,\"#8e0152\"],[0.1,\"#c51b7d\"],[0.2,\"#de77ae\"],[0.3,\"#f1b6da\"],[0.4,\"#fde0ef\"],[0.5,\"#f7f7f7\"],[0.6,\"#e6f5d0\"],[0.7,\"#b8e186\"],[0.8,\"#7fbc41\"],[0.9,\"#4d9221\"],[1,\"#276419\"]]},\"xaxis\":{\"gridcolor\":\"white\",\"linecolor\":\"white\",\"ticks\":\"\",\"title\":{\"standoff\":15},\"zerolinecolor\":\"white\",\"automargin\":true,\"zerolinewidth\":2},\"yaxis\":{\"gridcolor\":\"white\",\"linecolor\":\"white\",\"ticks\":\"\",\"title\":{\"standoff\":15},\"zerolinecolor\":\"white\",\"automargin\":true,\"zerolinewidth\":2},\"scene\":{\"xaxis\":{\"backgroundcolor\":\"#E5ECF6\",\"gridcolor\":\"white\",\"linecolor\":\"white\",\"showbackground\":true,\"ticks\":\"\",\"zerolinecolor\":\"white\",\"gridwidth\":2},\"yaxis\":{\"backgroundcolor\":\"#E5ECF6\",\"gridcolor\":\"white\",\"linecolor\":\"white\",\"showbackground\":true,\"ticks\":\"\",\"zerolinecolor\":\"white\",\"gridwidth\":2},\"zaxis\":{\"backgroundcolor\":\"#E5ECF6\",\"gridcolor\":\"white\",\"linecolor\":\"white\",\"showbackground\":true,\"ticks\":\"\",\"zerolinecolor\":\"white\",\"gridwidth\":2}},\"shapedefaults\":{\"line\":{\"color\":\"#2a3f5f\"}},\"annotationdefaults\":{\"arrowcolor\":\"#2a3f5f\",\"arrowhead\":0,\"arrowwidth\":1},\"geo\":{\"bgcolor\":\"white\",\"landcolor\":\"#E5ECF6\",\"subunitcolor\":\"white\",\"showland\":true,\"showlakes\":true,\"lakecolor\":\"white\"},\"title\":{\"x\":0.05},\"mapbox\":{\"style\":\"light\"}}},\"mapbox\":{\"domain\":{\"x\":[0.0,1.0],\"y\":[0.0,1.0]},\"center\":{\"lat\":45.434185,\"lon\":12.337817},\"zoom\":11.2,\"style\":\"carto-positron\"},\"legend\":{\"title\":{\"text\":\"cluster_id\"},\"tracegroupgap\":0},\"margin\":{\"t\":0,\"r\":0,\"l\":0,\"b\":0},\"height\":900,\"width\":1300},                        {\"responsive\": true}                    ).then(function(){\n",
       "                            \n",
       "var gd = document.getElementById('513f2413-ad2d-410b-adaa-34e316875a1a');\n",
       "var x = new MutationObserver(function (mutations, observer) {{\n",
       "        var display = window.getComputedStyle(gd).display;\n",
       "        if (!display || display === 'none') {{\n",
       "            console.log([gd, 'removed!']);\n",
       "            Plotly.purge(gd);\n",
       "            observer.disconnect();\n",
       "        }}\n",
       "}});\n",
       "\n",
       "// Listen for the removal of the full notebook cells\n",
       "var notebookContainer = gd.closest('#notebook-container');\n",
       "if (notebookContainer) {{\n",
       "    x.observe(notebookContainer, {childList: true});\n",
       "}}\n",
       "\n",
       "// Listen for the clearing of the current output cell\n",
       "var outputEl = gd.closest('.output');\n",
       "if (outputEl) {{\n",
       "    x.observe(outputEl, {childList: true});\n",
       "}}\n",
       "\n",
       "                        })                };                });            </script>        </div>"
      ]
     },
     "metadata": {},
     "output_type": "display_data"
    }
   ],
   "source": [
    "fig = px.line_mapbox(df_new, lat='start_lat', lon='start_lon', color='cluster_id', zoom=3, height=300)\n",
    "fig.update_layout(mapbox_style=\"carto-positron\", width=1300, height=900,mapbox_zoom=11.2,\n",
    "                  mapbox_center_lat=45.434185,mapbox_center_lon=12.337817,margin={\"r\":0,\"t\":0,\"l\":0,\"b\":0})\n",
    "fig.show()"
   ]
  },
  {
   "cell_type": "code",
   "execution_count": 284,
   "metadata": {},
   "outputs": [],
   "source": [
    "df_reduce = df_line[df_line['counts']>2000]\n",
    "mask_reduce = df_line['num_stop']== 1\n",
    "df_reduce = df_line.loc[mask_reduce]"
   ]
  },
  {
   "cell_type": "code",
   "execution_count": 285,
   "metadata": {},
   "outputs": [
    {
     "data": {
      "text/html": [
       "<div>\n",
       "<style scoped>\n",
       "    .dataframe tbody tr th:only-of-type {\n",
       "        vertical-align: middle;\n",
       "    }\n",
       "\n",
       "    .dataframe tbody tr th {\n",
       "        vertical-align: top;\n",
       "    }\n",
       "\n",
       "    .dataframe thead th {\n",
       "        text-align: right;\n",
       "    }\n",
       "</style>\n",
       "<table border=\"1\" class=\"dataframe\">\n",
       "  <thead>\n",
       "    <tr style=\"text-align: right;\">\n",
       "      <th></th>\n",
       "      <th>cluster_id</th>\n",
       "      <th>num_stop</th>\n",
       "      <th>counts</th>\n",
       "      <th>start_point</th>\n",
       "      <th>start_lat</th>\n",
       "      <th>start_lon</th>\n",
       "    </tr>\n",
       "  </thead>\n",
       "  <tbody>\n",
       "    <tr>\n",
       "      <th>0</th>\n",
       "      <td>7</td>\n",
       "      <td>1</td>\n",
       "      <td>2953</td>\n",
       "      <td>murano</td>\n",
       "      <td>45.451107</td>\n",
       "      <td>12.349192</td>\n",
       "    </tr>\n",
       "    <tr>\n",
       "      <th>3</th>\n",
       "      <td>27</td>\n",
       "      <td>1</td>\n",
       "      <td>2916</td>\n",
       "      <td>ferrovia</td>\n",
       "      <td>45.440937</td>\n",
       "      <td>12.322042</td>\n",
       "    </tr>\n",
       "    <tr>\n",
       "      <th>27</th>\n",
       "      <td>327</td>\n",
       "      <td>1</td>\n",
       "      <td>4264</td>\n",
       "      <td>f.te nove</td>\n",
       "      <td>45.443016</td>\n",
       "      <td>12.340888</td>\n",
       "    </tr>\n",
       "    <tr>\n",
       "      <th>74</th>\n",
       "      <td>590</td>\n",
       "      <td>1</td>\n",
       "      <td>2616</td>\n",
       "      <td>p.le roma</td>\n",
       "      <td>45.438667</td>\n",
       "      <td>12.319465</td>\n",
       "    </tr>\n",
       "    <tr>\n",
       "      <th>99</th>\n",
       "      <td>638</td>\n",
       "      <td>1</td>\n",
       "      <td>3201</td>\n",
       "      <td>murano</td>\n",
       "      <td>45.451107</td>\n",
       "      <td>12.349192</td>\n",
       "    </tr>\n",
       "    <tr>\n",
       "      <th>102</th>\n",
       "      <td>662</td>\n",
       "      <td>1</td>\n",
       "      <td>2011</td>\n",
       "      <td>murano</td>\n",
       "      <td>45.451107</td>\n",
       "      <td>12.349192</td>\n",
       "    </tr>\n",
       "    <tr>\n",
       "      <th>163</th>\n",
       "      <td>1073</td>\n",
       "      <td>1</td>\n",
       "      <td>2039</td>\n",
       "      <td>f.te nove</td>\n",
       "      <td>45.443016</td>\n",
       "      <td>12.340888</td>\n",
       "    </tr>\n",
       "  </tbody>\n",
       "</table>\n",
       "</div>"
      ],
      "text/plain": [
       "    cluster_id  num_stop  counts start_point  start_lat  start_lon\n",
       "0            7         1    2953      murano  45.451107  12.349192\n",
       "3           27         1    2916    ferrovia  45.440937  12.322042\n",
       "27         327         1    4264   f.te nove  45.443016  12.340888\n",
       "74         590         1    2616   p.le roma  45.438667  12.319465\n",
       "99         638         1    3201      murano  45.451107  12.349192\n",
       "102        662         1    2011      murano  45.451107  12.349192\n",
       "163       1073         1    2039   f.te nove  45.443016  12.340888"
      ]
     },
     "execution_count": 285,
     "metadata": {},
     "output_type": "execute_result"
    }
   ],
   "source": [
    "df_reduce"
   ]
  },
  {
   "cell_type": "code",
   "execution_count": null,
   "metadata": {},
   "outputs": [],
   "source": []
  }
 ],
 "metadata": {
  "kernelspec": {
   "display_name": "Python 3 (ipykernel)",
   "language": "python",
   "name": "python3"
  },
  "language_info": {
   "codemirror_mode": {
    "name": "ipython",
    "version": 3
   },
   "file_extension": ".py",
   "mimetype": "text/x-python",
   "name": "python",
   "nbconvert_exporter": "python",
   "pygments_lexer": "ipython3",
   "version": "3.9.7"
  }
 },
 "nbformat": 4,
 "nbformat_minor": 2
}
